{
 "cells": [
  {
   "cell_type": "code",
   "execution_count": null,
   "id": "d7ad4d0d",
   "metadata": {},
   "outputs": [],
   "source": [
    "import warnings\n",
    "warnings.simplefilter(\"ignore\")\n",
    "warnings.filterwarnings(\"ignore\")\n",
    "\n",
    "import time, sys\n",
    "import datetime\n",
    "import tqdm.notebook as tqdm\n",
    "import pandas as pd\n",
    "import numpy as np\n",
    "\n",
    "import requests\n",
    "import selenium\n",
    "from bs4 import BeautifulSoup\n",
    "from selenium import webdriver\n",
    "from urllib.parse import urljoin\n",
    "from selenium.webdriver.common.by import By\n",
    "from selenium.webdriver.common.keys import Keys\n",
    "from selenium.webdriver.support.ui import WebDriverWait\n",
    "from selenium.webdriver.support import expected_conditions as ec\n",
    "from selenium.common.exceptions import TimeoutException, StaleElementReferenceException\n",
    "from selenium.common.exceptions import NoSuchElementException, ElementClickInterceptedException"
   ]
  },
  {
   "cell_type": "code",
   "execution_count": null,
   "id": "eb02b682",
   "metadata": {},
   "outputs": [],
   "source": [
    "driver=webdriver.Chrome(r\"C:\\Drivers\\webdriver\\\\chromedriver.exe\")"
   ]
  },
  {
   "cell_type": "code",
   "execution_count": null,
   "id": "559f175c",
   "metadata": {},
   "outputs": [],
   "source": [
    "url = \"https://www.expedia.co.in/Flights\"\n",
    "\n",
    "# Setting the ticket types paths\n",
    "return_ticket = \"//label[@id='flight-type-roundtrip-label-hp-flight']\"\n",
    "one_way_ticket = \"//label[@id='flight-type-one-way-label-hp-flight']\"\n",
    "multi_ticket = \"//label[@id='flight-type-multi-dest-label-hp-flight']\""
   ]
  },
  {
   "cell_type": "code",
   "execution_count": null,
   "id": "65be2635",
   "metadata": {},
   "outputs": [],
   "source": [
    "def ticket_chooser(ticket):\n",
    "\n",
    "    try:\n",
    "        ticket_type = browser.find_element_by_xpath(ticket)\n",
    "        ticket_type.click()\n",
    "    except Exception as e:\n",
    "        pass"
   ]
  },
  {
   "cell_type": "code",
   "execution_count": null,
   "id": "b235ef46",
   "metadata": {},
   "outputs": [],
   "source": [
    "# For departure place name\n",
    "def dep_place_chooser(dep_place):\n",
    "    fly_from = browser.find_element_by_xpath(\"//input[@id='flight-origin-hp-flight']\")\n",
    "    time.sleep(1)\n",
    "    fly_from.clear()\n",
    "    time.sleep(1.5)\n",
    "    fly_from.send_keys('  ' + dep_place)\n",
    "    time.sleep(1.5)\n",
    "    first_item = browser.find_element_by_xpath(\"//a[@id='aria-option-0']\")\n",
    "    time.sleep(1.5)\n",
    "    first_item.click()"
   ]
  },
  {
   "cell_type": "code",
   "execution_count": null,
   "id": "1b5b91ab",
   "metadata": {},
   "outputs": [],
   "source": [
    "# For arrival place name\n",
    "def arr_place_chooser(arr_place):\n",
    "    fly_to = browser.find_element_by_xpath(\"//input[@id='flight-destination-hp-flight']\")\n",
    "    time.sleep(1)\n",
    "    fly_to.clear()\n",
    "    time.sleep(1.5)\n",
    "    fly_to.send_keys('  ' + arr_place)\n",
    "    time.sleep(1.5)\n",
    "    first_item = browser.find_element_by_xpath(\"//a[@id='aria-option-0']\")\n",
    "    time.sleep(1.5)\n",
    "    first_item.click()"
   ]
  },
  {
   "cell_type": "code",
   "execution_count": null,
   "id": "913111a4",
   "metadata": {},
   "outputs": [],
   "source": [
    "# Departure date\n",
    "def dep_date_chooser(month, day, year):\n",
    "    dep_date_button = browser.find_element_by_xpath(\"//input[@id='flight-departing-hp-flight']\")\n",
    "    dep_date_button.clear()\n",
    "    dep_date_button.send_keys(month + '/' + day + '/' + year)"
   ]
  },
  {
   "cell_type": "code",
   "execution_count": null,
   "id": "211d6c34",
   "metadata": {},
   "outputs": [],
   "source": [
    "# Return date\n",
    "def return_date_chooser(month, day, year):\n",
    "    return_date_button = browser.find_element_by_xpath(\"//input[@id='flight-returning-hp-flight']\")\n",
    "\n",
    "    for i in range(11):\n",
    "        return_date_button.send_keys(Keys.BACKSPACE)\n",
    "    return_date_button.send_keys(month + '/' + day + '/' + year)"
   ]
  },
  {
   "cell_type": "code",
   "execution_count": null,
   "id": "6838f949",
   "metadata": {},
   "outputs": [],
   "source": [
    "def search():\n",
    "    search = browser.find_element_by_xpath(\"//button[@class='btn-primary btn-action gcw-submit']\")\n",
    "    search.click()\n",
    "    time.sleep(15)\n",
    "    print('Results ready!')\n",
    "df = pd.DataFrame()\n",
    "def compile_data():\n",
    "    global df\n",
    "    global dep_times_list\n",
    "    global arr_times_list\n",
    "    global airlines_list\n",
    "    global price_list\n",
    "    global durations_list\n",
    "    global stops_list\n",
    "    global layovers_list\n",
    "\n",
    "    #departure times\n",
    "    dep_times = browser.find_elements_by_xpath(\"//span[@data-test-id='departure-time']\")\n",
    "    dep_times_list = [value.text for value in dep_times]\n",
    "\n",
    "    #arrival times\n",
    "    arr_times = browser.find_elements_by_xpath(\"//span[@data-test-id='arrival-time']\")\n",
    "    arr_times_list = [value.text for value in arr_times]\n",
    "\n",
    "    #airline name\n",
    "    airlines = browser.find_elements_by_xpath(\"//span[@data-test-id='airline-name']\")\n",
    "    airlines_list = [value.text for value in airlines]\n",
    "\n",
    "    #prices\n",
    "    prices = browser.find_elements_by_xpath(\"//span[@data-test-id='listing-price-dollars']\")\n",
    "    price_list = [value.text.split('/div>)[1] for value in prices]\n",
    "\n",
    "    #durations\n",
    "    durations = browser.find_elements_by_xpath(\"//span[@data-test-id='duration']\")\n",
    "    durations_list = [value.text for value in durations]\n",
    "                                   \n",
    "    #stops\n",
    "    stops = browser.find_elements_by_xpath(\"//span[@class='number-stops']\")\n",
    "    stops_list = [value.text for value in stops]\n",
    "\n",
    "    #layovers\n",
    "    layovers = browser.find_elements_by_xpath(\"//span[@data-test-id='layover-airport-stops']\")\n",
    "    layovers_list = [value.text for value in layovers]\n",
    "\n",
    "    now = datetime.datetime.now()\n",
    "    current_date = (str(now.year) + '-' + str(now.month) + '-' + str(now.day))\n",
    "    current_time = (str(now.hour) + ':' + str(now.minute))\n",
    "    current_price = 'price' + '(' + current_date + '---' + current_time + ')'\n",
    "    for i in range(len(dep_times_list)):\n",
    "        try:\n",
    "            df.loc[i, 'departure_time'] = dep_times_list[i]\n",
    "        except Exception as e:\n",
    "            pass\n",
    "        try:\n",
    "            df.loc[i, 'arrival_time'] = arr_times_list[i]\n",
    "        except Exception as e:\n",
    "            pass\n",
    "        try:\n",
    "            df.loc[i, 'airline'] = airlines_list[i]\n",
    "        except Exception as e:\n",
    "            pass\n",
    "        try:\n",
    "            df.loc[i, 'duration'] = durations_list[i]\n",
    "        except Exception as e:\n",
    "            pass\n",
    "        try:\n",
    "            df.loc[i, 'stops'] = stops_list[i]\n",
    "        except Exception as e:\n",
    "            pass\n",
    "        try:\n",
    "            df.loc[i, 'layovers'] = layovers_list[i]\n",
    "        except Exception as e:\n",
    "            pass\n",
    "        try:\n",
    "            df.loc[i, str(current_price)] = price_list[i]\n",
    "       except Exception as e:\n",
    "            pass\n",
    "\n",
    "    print('Comma Separated Value File Created!')"
   ]
  },
  {
   "cell_type": "code",
   "execution_count": null,
   "id": "70f88491",
   "metadata": {},
   "outputs": [],
   "source": [
    "for i in range(8):    \n",
    "    browser.get(url)\n",
    "    time.sleep(5)\n",
    "\n",
    "    # choose flights only\n",
    "    flights_only = browser.find_element_by_xpath(\"//button[@id='tab-flight-tab-hp']\")\n",
    "    flights_only.click()\n",
    "\n",
    "    ticket_chooser(return_ticket)\n",
    "\n",
    "    dep_place_chooser('BOM')\n",
    "\n",
    "    arr_place_chooser('BLR')\n",
    "\n",
    "    dep_date_chooser('04', '01', '2022')\n",
    "\n",
    "    return_date_chooser('05', '02', '2022')\n",
    "\n",
    "    search()\n",
    "\n",
    "    compile_data()\n",
    "\n",
    "    print('run {} completed!'.format(i))\n",
    "\n",
    "    df.to_csv('Flight_Price_Data.csv')\n",
    "\n",
    "    time.sleep(15)                            "
   ]
  },
  {
   "cell_type": "code",
   "execution_count": null,
   "id": "a86a3096",
   "metadata": {},
   "outputs": [],
   "source": [
    "import pandas as pd\n",
    "import numpy as np\n",
    "from sklearn.preprocessing import StandardScaler\n",
    "from sklearn.linear_model import LinearRegression\n",
    "from sklearn.tree import DecisionTreeRegressor\n",
    "from sklearn.model_selection import train_test_split\n",
    "from sklearn.ensemble import RandomForestRegressor\n",
    "from sklearn.model_selection import GridSearchCV\n",
    "from sklearn.model_selection import train_test_split \n",
    "from sklearn.metrics import r2_score, mean_squared_error,mean_absolute_error\n",
    "from sklearn.model_selection import cross_val_score\n",
    "from sklearn.preprocessing import OrdinalEncoder\n",
    "from statsmodels.stats.outliers_influence import variance_inflation_factor\n",
    "import matplotlib.pyplot as plt\n",
    "import seaborn as sns\n",
    "import pickle\n",
    "import warnings\n",
    "warnings.filterwarnings('ignore')"
   ]
  },
  {
   "cell_type": "code",
   "execution_count": null,
   "id": "0d344ae6",
   "metadata": {},
   "outputs": [],
   "source": [
    "train_data = pd.read_excel(r\"E:\\capstoneprojects\\Datasets\\flight_price_prediction\\Data_Train.xlsx\")\n",
    "train_data"
   ]
  },
  {
   "cell_type": "code",
   "execution_count": null,
   "id": "bfb8536a",
   "metadata": {},
   "outputs": [],
   "source": [
    "test_data = pd.read_excel(r\"E:\\capstoneprojects\\Datasets\\flight_price_prediction\\Test_set.xlsx\")\n",
    "test_data"
   ]
  },
  {
   "cell_type": "code",
   "execution_count": null,
   "id": "03080f89",
   "metadata": {},
   "outputs": [],
   "source": [
    "df = pd.concat([test_data, train_data])"
   ]
  },
  {
   "cell_type": "code",
   "execution_count": null,
   "id": "e07335cb",
   "metadata": {},
   "outputs": [],
   "source": [
    "df"
   ]
  },
  {
   "cell_type": "code",
   "execution_count": null,
   "id": "51ee2a32",
   "metadata": {},
   "outputs": [],
   "source": [
    "df.describe()"
   ]
  },
  {
   "cell_type": "code",
   "execution_count": null,
   "id": "4446194f",
   "metadata": {},
   "outputs": [],
   "source": [
    "df.shape"
   ]
  },
  {
   "cell_type": "code",
   "execution_count": null,
   "id": "987ea213",
   "metadata": {},
   "outputs": [],
   "source": [
    "df.isnull().sum()"
   ]
  },
  {
   "cell_type": "code",
   "execution_count": null,
   "id": "285069a3",
   "metadata": {},
   "outputs": [],
   "source": [
    "df.isnull().sum().sum()"
   ]
  },
  {
   "cell_type": "code",
   "execution_count": null,
   "id": "9e6d54b8",
   "metadata": {},
   "outputs": [],
   "source": [
    "df['Route']= df['Route'].fillna(df['Route'].mode()[0])\n",
    "df['Total_Stops']= df['Total_Stops'].fillna(df['Total_Stops'].mode()[0])\n",
    "df['Price']= df['Price'].fillna(df['Price'].mean())                                        "
   ]
  },
  {
   "cell_type": "code",
   "execution_count": null,
   "id": "f7474f3d",
   "metadata": {},
   "outputs": [],
   "source": [
    "df.isnull().sum().sum()"
   ]
  },
  {
   "cell_type": "code",
   "execution_count": null,
   "id": "d13b0186",
   "metadata": {},
   "outputs": [],
   "source": [
    "df.columns"
   ]
  },
  {
   "cell_type": "code",
   "execution_count": null,
   "id": "73b665be",
   "metadata": {},
   "outputs": [],
   "source": [
    "plt.figure(figsize=(30,8),facecolor='lightgreen')\n",
    "sns.countplot(x='Airline', data=df)"
   ]
  },
  {
   "cell_type": "code",
   "execution_count": null,
   "id": "4bc4395d",
   "metadata": {},
   "outputs": [],
   "source": [
    "##jet airways are more in no.as compared to other flights....other flights which are more frequent other than jet airways are \n",
    "#Indigo  and Air india....."
   ]
  },
  {
   "cell_type": "code",
   "execution_count": null,
   "id": "1acb90d7",
   "metadata": {},
   "outputs": [],
   "source": [
    "plt.figure(figsize=(30,8),facecolor='lightgreen')\n",
    "sns.violinplot(x='Airline', y='Price', data=df,hue='Source')"
   ]
  },
  {
   "cell_type": "code",
   "execution_count": null,
   "id": "399ca87f",
   "metadata": {},
   "outputs": [],
   "source": [
    "#Air india ,Jet airways,spice jet,indigo,vistara MAINLY strts from delhi,kolkata,banglore,mumbai,chennai\n",
    "#carrier flights only originate from delhi\n"
   ]
  },
  {
   "cell_type": "code",
   "execution_count": null,
   "id": "0a51e0f8",
   "metadata": {},
   "outputs": [],
   "source": [
    "plt.figure(figsize=(30,8),facecolor='lightgreen')\n",
    "sns.stripplot(x='Airline', y='Price', data=df)"
   ]
  },
  {
   "cell_type": "code",
   "execution_count": null,
   "id": "430d0951",
   "metadata": {},
   "outputs": [],
   "source": [
    "#jet airways have price between 3000 to 20,000 mostly except some exceptional cases\n",
    "#air india also has price varying between 3000 to 20,000"
   ]
  },
  {
   "cell_type": "code",
   "execution_count": null,
   "id": "9e0307f7",
   "metadata": {},
   "outputs": [],
   "source": [
    "plt.figure(figsize=(30,8),facecolor='lightgreen')\n",
    "sns.stripplot(x='Airline', y='Price',hue='Total_Stops' ,data=df)"
   ]
  },
  {
   "cell_type": "code",
   "execution_count": null,
   "id": "2d704bd5",
   "metadata": {},
   "outputs": [],
   "source": [
    "#most jet airways flights have mostly one stops ...\n",
    "#air india has mostly two stops..\n",
    "#multiple carriers flight have only one stop...\n",
    "# some flights of jet airways , indigo,,spicejet,vistara,air india are non stops .....\n",
    "#very few flights have 3 stops ....\n",
    "#mostly no flights have 4 stops"
   ]
  },
  {
   "cell_type": "code",
   "execution_count": null,
   "id": "65b130f7",
   "metadata": {},
   "outputs": [],
   "source": [
    "plt.figure(figsize=(30,8),facecolor='lightgreen')\n",
    "sns.stripplot(x='Airline', y='Price',hue='Source' ,data=df)"
   ]
  },
  {
   "cell_type": "code",
   "execution_count": null,
   "id": "039176db",
   "metadata": {},
   "outputs": [],
   "source": [
    "plt.figure(figsize=(30,8),facecolor='lightgreen')\n",
    "sns.stripplot(x='Airline', y='Price',hue='Destination',data=df)"
   ]
  },
  {
   "cell_type": "code",
   "execution_count": null,
   "id": "ce7edeed",
   "metadata": {},
   "outputs": [],
   "source": [
    "#many flights have destination hyderabad and new delhi ,cochin,banglore....\n",
    "##jet airways & air india flights have all major cities as destiation i.e. cochin,banglore,delhi,new delhi,hyderabad,kolkata\n",
    "#multiple carriers flights only go to cochin"
   ]
  },
  {
   "cell_type": "code",
   "execution_count": null,
   "id": "5489c1d2",
   "metadata": {},
   "outputs": [],
   "source": [
    "df.dtypes"
   ]
  },
  {
   "cell_type": "code",
   "execution_count": null,
   "id": "22dd301d",
   "metadata": {},
   "outputs": [],
   "source": [
    "df[\"Journey_day\"] = pd.to_datetime(df.Date_of_Journey, format=\"%d/%m/%Y\").dt.day\n",
    "df[\"Journey_month\"] = pd.to_datetime(df[\"Date_of_Journey\"], format = \"%d/%m/%Y\").dt.month\n",
    "df.head()"
   ]
  },
  {
   "cell_type": "code",
   "execution_count": null,
   "id": "dbbb8afd",
   "metadata": {},
   "outputs": [],
   "source": [
    "# So,as we have converted Date_of_Journey column into integers, Now we can drop this column.\n",
    "\n",
    "df.drop([\"Date_of_Journey\"], axis = 1, inplace = True)"
   ]
  },
  {
   "cell_type": "code",
   "execution_count": null,
   "id": "b9470377",
   "metadata": {},
   "outputs": [],
   "source": [
    "# Departure time\n",
    "df[\"Dep_hour\"] = pd.to_datetime(df[\"Dep_Time\"]).dt.hour\n",
    "df[\"Dep_min\"] = pd.to_datetime(df[\"Dep_Time\"]).dt.minute\n",
    "\n",
    "# Now we can drop Dep_Time,\n",
    "df.drop([\"Dep_Time\"], axis = 1, inplace = True)\n",
    "df.head()"
   ]
  },
  {
   "cell_type": "code",
   "execution_count": null,
   "id": "3a1621b5",
   "metadata": {},
   "outputs": [],
   "source": [
    "# Arrival time \n",
    "\n",
    "df[\"Arrival_hour\"] = pd.to_datetime(df.Arrival_Time).dt.hour\n",
    "df[\"Arrival_min\"] = pd.to_datetime(df.Arrival_Time).dt.minute\n",
    "\n",
    "# Now we can drop Arrival_Time ,\n",
    "df.drop([\"Arrival_Time\"], axis = 1, inplace = True)\n",
    "df.head()"
   ]
  },
  {
   "cell_type": "code",
   "execution_count": null,
   "id": "36020f54",
   "metadata": {},
   "outputs": [],
   "source": [
    "# Assigning and converting Duration column into list\n",
    "duration = list(df[\"Duration\"])\n",
    "\n",
    "for i in range(len(duration)):\n",
    "    if len(duration[i].split()) != 2:   \n",
    "        if \"h\" in duration[i]:\n",
    "            duration[i] = duration[i].strip() + \" 0m\"   \n",
    "        else:\n",
    "            duration[i] = \"0h \" + duration[i]           \n",
    "\n",
    "duration_hours = []\n",
    "duration_mins = []\n",
    "for i in range(len(duration)):\n",
    "    duration_hours.append(int(duration[i].split(sep = \"h\")[0]))   \n",
    "    duration_mins.append(int(duration[i].split(sep = \"m\")[0].split()[-1]))  "
   ]
  },
  {
   "cell_type": "code",
   "execution_count": null,
   "id": "71607378",
   "metadata": {},
   "outputs": [],
   "source": [
    "# Adding duration_hours and duration_mins list to df dataframe\n",
    "\n",
    "df[\"Duration_hours\"] = duration_hours\n",
    "df[\"Duration_mins\"] = duration_mins\n",
    "df.drop([\"Duration\"], axis = 1, inplace = True)\n",
    "df.head()"
   ]
  },
  {
   "cell_type": "code",
   "execution_count": null,
   "id": "484a31fd",
   "metadata": {},
   "outputs": [],
   "source": [
    "enc=OrdinalEncoder()\n",
    "for i in df.columns:\n",
    "    if df[i].dtypes==\"object\":\n",
    "        df[i]=enc.fit_transform(df[i].values.reshape(-1,1))\n",
    "df"
   ]
  },
  {
   "cell_type": "code",
   "execution_count": null,
   "id": "10b9f410",
   "metadata": {},
   "outputs": [],
   "source": [
    "df"
   ]
  },
  {
   "cell_type": "code",
   "execution_count": null,
   "id": "dae786f8",
   "metadata": {},
   "outputs": [],
   "source": [
    "df.skew()"
   ]
  },
  {
   "cell_type": "code",
   "execution_count": null,
   "id": "ffd693b8",
   "metadata": {},
   "outputs": [],
   "source": [
    "y = df['Price']\n",
    "X = df.drop(columns=['Price'])"
   ]
  },
  {
   "cell_type": "code",
   "execution_count": null,
   "id": "92f80550",
   "metadata": {},
   "outputs": [],
   "source": [
    "np.abs(3)"
   ]
  },
  {
   "cell_type": "code",
   "execution_count": null,
   "id": "cfeafe24",
   "metadata": {},
   "outputs": [],
   "source": [
    "np.abs(-3)"
   ]
  },
  {
   "cell_type": "code",
   "execution_count": null,
   "id": "e201ec8d",
   "metadata": {},
   "outputs": [],
   "source": [
    "from scipy.stats import zscore\n",
    "(np.abs(zscore(X))<3).all()"
   ]
  },
  {
   "cell_type": "code",
   "execution_count": null,
   "id": "a8a6734f",
   "metadata": {},
   "outputs": [],
   "source": [
    "#Data scaling Z=(X-mean)/std\n",
    "\n",
    "scaler=StandardScaler()\n",
    "X_scaled=scaler.fit_transform(X)"
   ]
  },
  {
   "cell_type": "code",
   "execution_count": null,
   "id": "1167c956",
   "metadata": {},
   "outputs": [],
   "source": [
    "X_scaled.shape[1]"
   ]
  },
  {
   "cell_type": "code",
   "execution_count": null,
   "id": "fca7db93",
   "metadata": {},
   "outputs": [],
   "source": [
    "vif=pd.DataFrame()\n",
    "vif[\"vif\"]=[variance_inflation_factor(X_scaled,i) for i in range(X_scaled.shape[1])]\n",
    "vif[\"Features\"]=X.columns\n",
    "vif"
   ]
  },
  {
   "cell_type": "code",
   "execution_count": null,
   "id": "bb7bfe6e",
   "metadata": {},
   "outputs": [],
   "source": [
    "rf = RandomForestRegressor()\n",
    "for i in range(0,100):\n",
    "    X_train,X_test,y_train,y_test =train_test_split(X_scaled,y,test_size=0.2,random_state=i)\n",
    "    rf.fit(X_train,y_train)\n",
    "    pred_train = rf.predict(X_train)\n",
    "    pred_test= rf.predict(X_test)\n",
    "    print(f\"At random state{i},the training accuracy is:-{r2_score(y_train,pred_train)}\")\n",
    "    print(f\"At random state{i},the testing accuracy is:-{r2_score(y_test,pred_test)}\")\n",
    "    print(\"\\n\")"
   ]
  },
  {
   "cell_type": "code",
   "execution_count": null,
   "id": "a1d11883",
   "metadata": {},
   "outputs": [],
   "source": [
    "#so as we can interpret random state 87 is giving best train and test accuracy,so we train our model at random state 87:\n",
    "\n",
    "X_train,X_test,y_train,y_test = train_test_split(X,y,test_size=0.2,random_state=87)"
   ]
  },
  {
   "cell_type": "code",
   "execution_count": null,
   "id": "58be91c9",
   "metadata": {},
   "outputs": [],
   "source": [
    "rf=RandomForestRegressor()\n",
    "rf.fit(X_train,y_train)\n",
    "rf.score(X_train,y_train)\n",
    "y_pred=rf.predict(X_test)\n",
    "rfs=r2_score(y_test,y_pred)\n",
    "print('R2 score:',rfs*100)\n",
    "\n",
    "rfscore=cross_val_score(rf,X,y,cv=5)\n",
    "rfc=rfscore.mean()\n",
    "print('cross val score:',rfc*100)"
   ]
  },
  {
   "cell_type": "code",
   "execution_count": null,
   "id": "7fe49f7c",
   "metadata": {},
   "outputs": [],
   "source": [
    "y_pred=rf.predict(X_test)\n",
    "y_train.head()"
   ]
  },
  {
   "cell_type": "code",
   "execution_count": null,
   "id": "4857bea4",
   "metadata": {},
   "outputs": [],
   "source": [
    "#Adjusted R2 score\n",
    "rf.score(X_train,y_train)"
   ]
  },
  {
   "cell_type": "code",
   "execution_count": null,
   "id": "b2cfaa03",
   "metadata": {},
   "outputs": [],
   "source": [
    "rf.score(X_test,y_test)"
   ]
  },
  {
   "cell_type": "code",
   "execution_count": null,
   "id": "cb636846",
   "metadata": {},
   "outputs": [],
   "source": [
    "#lets plot and visualize\n",
    "y_pred=rf.predict(X_test)\n",
    "y_pred"
   ]
  },
  {
   "cell_type": "code",
   "execution_count": null,
   "id": "cfda90ca",
   "metadata": {},
   "outputs": [],
   "source": [
    "plt.scatter(y_test,y_pred,color='r')\n",
    "plt.xlabel='actual PRICE'\n",
    "plt.ylabel='Predicted PRICE'\n",
    "plt.title='Actual vs model predicted '\n",
    "plt.show()"
   ]
  },
  {
   "cell_type": "code",
   "execution_count": null,
   "id": "22deda13",
   "metadata": {},
   "outputs": [],
   "source": [
    "print('MAE:', mean_absolute_error(y_test, y_pred))\n",
    "print('MSE:', mean_squared_error(y_test, y_pred))\n",
    "print('RMSE:', np.sqrt(mean_squared_error(y_test, y_pred)))"
   ]
  },
  {
   "cell_type": "code",
   "execution_count": null,
   "id": "b5d6d82f",
   "metadata": {},
   "outputs": [],
   "source": [
    "dt=DecisionTreeRegressor()\n",
    "dt.fit(X_train,y_train)\n",
    "dt.score(X_train,y_train)\n",
    "y_pred=dt.predict(X_test)\n",
    "dtr=r2_score(y_test,y_pred)\n",
    "print('R2 score:',dtr*100)\n",
    "\n",
    "dtscore=cross_val_score(dt,X,y,cv=5)\n",
    "dtr=dtscore.mean()\n",
    "print('cross val score:',dtr*100)"
   ]
  },
  {
   "cell_type": "code",
   "execution_count": null,
   "id": "b6b0997e",
   "metadata": {},
   "outputs": [],
   "source": [
    "print('MAE:', mean_absolute_error(y_test, y_pred))\n",
    "print('MSE:', mean_squared_error(y_test, y_pred))\n",
    "print('RMSE:', np.sqrt(mean_squared_error(y_test, y_pred)))"
   ]
  },
  {
   "cell_type": "code",
   "execution_count": null,
   "id": "ca262650",
   "metadata": {},
   "outputs": [],
   "source": [
    "from sklearn.ensemble import ExtraTreesRegressor"
   ]
  },
  {
   "cell_type": "code",
   "execution_count": null,
   "id": "a8075943",
   "metadata": {},
   "outputs": [],
   "source": [
    "model = ExtraTreesRegressor()\n",
    "model.fit(X_train,y_train)\n",
    "model.score(X_train,y_train)\n",
    "y_pred=model.predict(X_test)\n",
    "modelr=r2_score(y_test,y_pred)\n",
    "print('R2 score:',modelr*100)\n",
    "modelscore=cross_val_score(model,X,y,cv=5)\n",
    "modelr=modelscore.mean()\n",
    "print('cross val score:',modelr*100)"
   ]
  },
  {
   "cell_type": "code",
   "execution_count": null,
   "id": "f0b8c055",
   "metadata": {},
   "outputs": [],
   "source": [
    "print('MAE:', mean_absolute_error(y_test, y_pred))\n",
    "print('MSE:', mean_squared_error(y_test, y_pred))\n",
    "print('RMSE:', np.sqrt(mean_squared_error(y_test, y_pred)))"
   ]
  },
  {
   "cell_type": "code",
   "execution_count": null,
   "id": "c0ea25e3",
   "metadata": {},
   "outputs": [],
   "source": [
    "import xgboost as xgb\n",
    "from xgboost import XGBRegressor\n",
    "xg=XGBRegressor()\n",
    "\n",
    "xg.fit(X_train,y_train)\n",
    "xg.score(X_train,y_train)\n",
    "y_pred=xg.predict(X_test)\n",
    "xg_score=r2_score(y_test,y_pred)\n",
    "print('R2 score:',xg_score*100)\n",
    "xgscore=cross_val_score(xg,X,y,cv=5)\n",
    "xgr=dtscore.mean()\n",
    "print('cross val score:',xgr*100)"
   ]
  },
  {
   "cell_type": "code",
   "execution_count": null,
   "id": "523a6014",
   "metadata": {},
   "outputs": [],
   "source": [
    "print('MAE:', mean_absolute_error(y_test, y_pred))\n",
    "print('MSE:', mean_squared_error(y_test, y_pred))\n",
    "print('RMSE:', np.sqrt(mean_squared_error(y_test, y_pred)))"
   ]
  },
  {
   "cell_type": "code",
   "execution_count": null,
   "id": "da503430",
   "metadata": {},
   "outputs": [],
   "source": [
    "from sklearn.ensemble import AdaBoostRegressor\n",
    "ada=AdaBoostRegressor()\n",
    "ada.fit(X_train,y_train)\n",
    "ada.score(X_train,y_train)\n",
    "y_pred=ada.predict(X_test)\n",
    "ada_score=r2_score(y_test,y_pred)\n",
    "print('R2 score:',ada_score*100)\n",
    "\n",
    "adascore=cross_val_score(ada,X,y,cv=5)\n",
    "adab=adascore.mean()\n",
    "print('cross val score:',adab*100)"
   ]
  },
  {
   "cell_type": "code",
   "execution_count": null,
   "id": "4744d266",
   "metadata": {},
   "outputs": [],
   "source": [
    "print('MAE:', mean_absolute_error(y_test, y_pred))\n",
    "print('MSE:', mean_squared_error(y_test, y_pred))\n",
    "print('RMSE:', np.sqrt(mean_squared_error(y_test, y_pred)))"
   ]
  },
  {
   "cell_type": "code",
   "execution_count": null,
   "id": "ef9b63e3",
   "metadata": {},
   "outputs": [],
   "source": [
    "#as observed the random forest regressor works well with this dataset...so we hypertune parameters of final model RandomForestRegressor using gridsearchCV\n",
    "\n",
    "parameters ={'criterion':['mse','mae'],'max_features':['auto','sqrt','log2'],'min_samples_split':[2], \n",
    "             'min_samples_leaf':[1], 'bootstrap':[True]}"
   ]
  },
  {
   "cell_type": "code",
   "execution_count": null,
   "id": "82067546",
   "metadata": {},
   "outputs": [],
   "source": [
    "rf=RandomForestRegressor()\n",
    "gcv=GridSearchCV(rf,parameters)\n",
    "gcv.fit(X_train,y_train)\n",
    "print(gcv.best_params_)"
   ]
  },
  {
   "cell_type": "code",
   "execution_count": null,
   "id": "d98035c8",
   "metadata": {},
   "outputs": [],
   "source": [
    "rf=RandomForestRegressor(criterion='mse',max_features='log2',min_samples_split= 2 ,\n",
    "             min_samples_leaf=1, bootstrap=True)\n",
    "rf.fit(X_train,y_train)\n",
    "rf.score(X_train,y_train)\n",
    "y_pred=rf.predict(X_test)\n",
    "rfs=r2_score(y_test,y_pred)\n",
    "print('R2 score:',rfs*100)\n",
    "rfscore=cross_val_score(rf,X,y,cv=5)\n",
    "rfr=rfscore.mean()\n",
    "print('cross val score:',rfr*100)"
   ]
  },
  {
   "cell_type": "code",
   "execution_count": null,
   "id": "77432020",
   "metadata": {},
   "outputs": [],
   "source": [
    "print('MAE:', mean_absolute_error(y_test, y_pred))\n",
    "print('MSE:',mean_squared_error(y_test, y_pred))\n",
    "print('RMSE:', np.sqrt(mean_squared_error(y_test, y_pred)))"
   ]
  },
  {
   "cell_type": "code",
   "execution_count": null,
   "id": "51de841c",
   "metadata": {},
   "outputs": [],
   "source": [
    "plt.scatter(y_test,y_pred,color='r')\n",
    "plt.xlabel='actual PRICE'\n",
    "plt.ylabel='Predicted PRICE'\n",
    "plt.title='Actual vs model predicted '\n",
    "plt.show()"
   ]
  },
  {
   "cell_type": "code",
   "execution_count": null,
   "id": "9ea23e19",
   "metadata": {},
   "outputs": [],
   "source": [
    "#the best model is RandomForestRegressor with 71% accuracy and 62% cross validation score & \n",
    "#MAE: 1541.4725361417416\n",
    "#MSE: 5051623.706897248\n",
    "#RMSE: 2247.5817464326515"
   ]
  },
  {
   "cell_type": "code",
   "execution_count": null,
   "id": "24b6af88",
   "metadata": {},
   "outputs": [],
   "source": [
    "#saving the model to local file system\n",
    "filename='flight price prediction_model.pickle'\n",
    "pickle.dump(rf,open(filename,'wb'))"
   ]
  },
  {
   "cell_type": "code",
   "execution_count": null,
   "id": "914aadeb",
   "metadata": {},
   "outputs": [],
   "source": []
  },
  {
   "cell_type": "code",
   "execution_count": null,
   "id": "ef5196f4",
   "metadata": {},
   "outputs": [],
   "source": []
  }
 ],
 "metadata": {
  "kernelspec": {
   "display_name": "Python 3 (ipykernel)",
   "language": "python",
   "name": "python3"
  },
  "language_info": {
   "codemirror_mode": {
    "name": "ipython",
    "version": 3
   },
   "file_extension": ".py",
   "mimetype": "text/x-python",
   "name": "python",
   "nbconvert_exporter": "python",
   "pygments_lexer": "ipython3",
   "version": "3.9.7"
  }
 },
 "nbformat": 4,
 "nbformat_minor": 5
}
