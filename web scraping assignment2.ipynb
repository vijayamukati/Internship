{
 "cells": [
  {
   "cell_type": "code",
   "execution_count": 249,
   "id": "17bfe51a",
   "metadata": {},
   "outputs": [
    {
     "name": "stdout",
     "output_type": "stream",
     "text": [
      "^C\n"
     ]
    }
   ],
   "source": [
    "!pip install selenium"
   ]
  },
  {
   "cell_type": "code",
   "execution_count": 2,
   "id": "bb105db0",
   "metadata": {},
   "outputs": [],
   "source": [
    "#Q1...............\n",
    "\n",
    "import selenium\n",
    "import pandas as pd\n",
    "from selenium import webdriver\n",
    "import time\n",
    "import warnings\n",
    "warnings.filterwarnings(\"ignore\")"
   ]
  },
  {
   "cell_type": "code",
   "execution_count": null,
   "id": "4ebe87f3",
   "metadata": {},
   "outputs": [],
   "source": [
    "driver = webdriver.Chrome(\"chromedriver.exe\")\n",
    "time.sleep(2)"
   ]
  },
  {
   "cell_type": "code",
   "execution_count": null,
   "id": "24607588",
   "metadata": {},
   "outputs": [],
   "source": [
    "driver.get('https://www.naukri.com/')"
   ]
  },
  {
   "cell_type": "code",
   "execution_count": null,
   "id": "4bfbc107",
   "metadata": {},
   "outputs": [],
   "source": [
    "search_field_designation=driver.find_element_by_class_name(\"suggestor-input\")\n",
    "search_field_designation.send_keys(\"Data Analyst\")"
   ]
  },
  {
   "cell_type": "code",
   "execution_count": null,
   "id": "18f2d7bc",
   "metadata": {},
   "outputs": [],
   "source": [
    "search_field_loc=driver.find_element_by_class_name(\"suggestor-input\")\n",
    "search_field_loc.send_keys(\"Banglore\")"
   ]
  },
  {
   "cell_type": "code",
   "execution_count": null,
   "id": "3e666bc8",
   "metadata": {},
   "outputs": [],
   "source": [
    "search_field_location=driver.find_element_by_xpath('//*[@id=\"root\"]/div[2]/div[3]/div/div/div[5]/div/div/div/input')\n",
    "search_field_location.send_keys(\"Banglore\")"
   ]
  },
  {
   "cell_type": "code",
   "execution_count": null,
   "id": "b71a5045",
   "metadata": {},
   "outputs": [],
   "source": [
    "search_button=driver.find_element_by_xpath('//*[@id=\"root\"]/div[2]/div[3]/div/div/div[6]')\n",
    "search_button.click()"
   ]
  },
  {
   "cell_type": "code",
   "execution_count": null,
   "id": "85a620c2",
   "metadata": {},
   "outputs": [],
   "source": [
    "job_titles=[]\n",
    "job_locations=[] \n",
    "company_name=[] \n",
    "experience_required=[]"
   ]
  },
  {
   "cell_type": "code",
   "execution_count": null,
   "id": "54b82142",
   "metadata": {},
   "outputs": [],
   "source": [
    "title_tags=driver.find_elements_by_xpath(\"//a[@class='title fw500 ellipsis']\")\n",
    "title_tags[0:10]"
   ]
  },
  {
   "cell_type": "code",
   "execution_count": null,
   "id": "342b08c2",
   "metadata": {
    "scrolled": true
   },
   "outputs": [],
   "source": [
    "for i in title_tags:\n",
    "    title=i.text\n",
    "    job_titles.append(title)\n",
    "job_titles[0:10]"
   ]
  },
  {
   "cell_type": "code",
   "execution_count": null,
   "id": "086b2351",
   "metadata": {},
   "outputs": [],
   "source": [
    "location_tags=driver.find_elements_by_xpath('//li[@class=\"fleft grey-text br2 placeHolderLi location\"]')\n",
    "location_tags[0:10]"
   ]
  },
  {
   "cell_type": "code",
   "execution_count": null,
   "id": "0f570887",
   "metadata": {},
   "outputs": [],
   "source": [
    "for i in location_tags:\n",
    "    loc=i.text\n",
    "    job_locations.append(loc)\n",
    "job_locations[0:10]"
   ]
  },
  {
   "cell_type": "code",
   "execution_count": null,
   "id": "47740314",
   "metadata": {},
   "outputs": [],
   "source": [
    "company_tags=driver.find_elements_by_xpath(\"//a[@class='subTitle ellipsis fleft']\")\n",
    "company_tags[0:10]"
   ]
  },
  {
   "cell_type": "code",
   "execution_count": null,
   "id": "8827a618",
   "metadata": {},
   "outputs": [],
   "source": [
    "for i in company_tags:\n",
    "    comp=i.text\n",
    "    company_name.append(comp)\n",
    "company_name[0:10]"
   ]
  },
  {
   "cell_type": "code",
   "execution_count": null,
   "id": "b8cd3ce2",
   "metadata": {},
   "outputs": [],
   "source": [
    "experience_tags=driver.find_elements_by_xpath('//li[@class=\"fleft grey-text br2 placeHolderLi experience\"]')\n",
    "experience_tags[0:10]"
   ]
  },
  {
   "cell_type": "code",
   "execution_count": null,
   "id": "4196ed57",
   "metadata": {},
   "outputs": [],
   "source": [
    "for i in experience_tags:\n",
    "    exp=i.text\n",
    "    experience_required.append(exp)\n",
    "experience_required[0:10]"
   ]
  },
  {
   "cell_type": "code",
   "execution_count": null,
   "id": "e470afe1",
   "metadata": {},
   "outputs": [],
   "source": [
    "print(len(job_titles),len(job_locations),len(company_name),len(experience_required))"
   ]
  },
  {
   "cell_type": "code",
   "execution_count": null,
   "id": "cd939d77",
   "metadata": {},
   "outputs": [],
   "source": [
    "import pandas as pd\n",
    "df=pd.DataFrame({'JOB_TITLE':job_titles,'LOCATION':job_locations,'COMPANY':company_name,'EXPERIENCE':experience_required})\n",
    "df"
   ]
  },
  {
   "cell_type": "code",
   "execution_count": null,
   "id": "c9a2b604",
   "metadata": {},
   "outputs": [],
   "source": []
  },
  {
   "cell_type": "code",
   "execution_count": 664,
   "id": "e4b75a51",
   "metadata": {},
   "outputs": [],
   "source": [
    "#Q.2.................\n",
    "driver = webdriver.Chrome(\"chromedriver.exe\")\n",
    "time.sleep(2)"
   ]
  },
  {
   "cell_type": "code",
   "execution_count": 665,
   "id": "f05d0239",
   "metadata": {},
   "outputs": [],
   "source": [
    "driver.get('https://www.naukri.com/')"
   ]
  },
  {
   "cell_type": "code",
   "execution_count": 666,
   "id": "d057baa7",
   "metadata": {},
   "outputs": [],
   "source": [
    "search_field_designation=driver.find_element_by_class_name(\"suggestor-input\")\n",
    "search_field_designation.send_keys(\"Data Scientist\")"
   ]
  },
  {
   "cell_type": "code",
   "execution_count": 667,
   "id": "f90c6ec7",
   "metadata": {},
   "outputs": [],
   "source": [
    "search_field_location=driver.find_element_by_xpath('//*[@id=\"root\"]/div[2]/div[3]/div/div/div[5]/div/div/div/input')\n",
    "search_field_location.send_keys(\"Banglore\")"
   ]
  },
  {
   "cell_type": "code",
   "execution_count": 668,
   "id": "71f67138",
   "metadata": {},
   "outputs": [],
   "source": [
    "search_button=driver.find_element_by_xpath('//div[@class=\"qsbSubmit\"]')\n",
    "search_button.click()"
   ]
  },
  {
   "cell_type": "code",
   "execution_count": 669,
   "id": "00d4b30d",
   "metadata": {},
   "outputs": [],
   "source": [
    "job_titles=[]\n",
    "job_locations=[] \n",
    "company_name=[] \n",
    "experience_required=[]"
   ]
  },
  {
   "cell_type": "code",
   "execution_count": 670,
   "id": "2e02fb14",
   "metadata": {},
   "outputs": [
    {
     "data": {
      "text/plain": [
       "[<selenium.webdriver.remote.webelement.WebElement (session=\"a6b32299c1318fd804838312f1d3605c\", element=\"5d8e68d5-aec7-4f91-af79-0421c4502ea9\")>,\n",
       " <selenium.webdriver.remote.webelement.WebElement (session=\"a6b32299c1318fd804838312f1d3605c\", element=\"91b82ea1-4ddb-48f5-89c9-3e84e1cd285d\")>,\n",
       " <selenium.webdriver.remote.webelement.WebElement (session=\"a6b32299c1318fd804838312f1d3605c\", element=\"d8e6afd6-4df4-43c4-ad31-48b2d7c352a4\")>,\n",
       " <selenium.webdriver.remote.webelement.WebElement (session=\"a6b32299c1318fd804838312f1d3605c\", element=\"c1c15a59-6771-473a-b718-cd9ba366c94c\")>,\n",
       " <selenium.webdriver.remote.webelement.WebElement (session=\"a6b32299c1318fd804838312f1d3605c\", element=\"684fa72d-3fd1-4745-a334-0e8bb50d67db\")>,\n",
       " <selenium.webdriver.remote.webelement.WebElement (session=\"a6b32299c1318fd804838312f1d3605c\", element=\"65919a68-ef22-403a-b8c2-f9b83e835c88\")>,\n",
       " <selenium.webdriver.remote.webelement.WebElement (session=\"a6b32299c1318fd804838312f1d3605c\", element=\"cc05fb5c-473d-4f8c-999d-b895200089c3\")>,\n",
       " <selenium.webdriver.remote.webelement.WebElement (session=\"a6b32299c1318fd804838312f1d3605c\", element=\"3c94bf68-30c5-4c7c-878b-b39d907c731e\")>,\n",
       " <selenium.webdriver.remote.webelement.WebElement (session=\"a6b32299c1318fd804838312f1d3605c\", element=\"8151f0a5-5fad-4ea0-adaf-c8b761250aef\")>,\n",
       " <selenium.webdriver.remote.webelement.WebElement (session=\"a6b32299c1318fd804838312f1d3605c\", element=\"a0897c51-b5b5-4365-9819-8d7a33890b96\")>]"
      ]
     },
     "execution_count": 670,
     "metadata": {},
     "output_type": "execute_result"
    }
   ],
   "source": [
    "title_tags=driver.find_elements_by_xpath(\"//a[@class='title fw500 ellipsis']\")\n",
    "title_tags[0:10]"
   ]
  },
  {
   "cell_type": "code",
   "execution_count": 671,
   "id": "7c5e7ec4",
   "metadata": {
    "scrolled": true
   },
   "outputs": [
    {
     "data": {
      "text/plain": [
       "['Specialist - Data Scientist',\n",
       " 'Urgent Hiring For AI Data Scientist',\n",
       " 'Data Scientist',\n",
       " 'Hiring For AI/ML professionals',\n",
       " 'Data Scientist II',\n",
       " 'Hiring For Data Science Intern- DataTrained Education',\n",
       " 'Data Scientist - Predictive Analytics',\n",
       " 'Data Scientist',\n",
       " 'Backend Developer',\n",
       " 'Data Scientist - Engine Algorithm']"
      ]
     },
     "execution_count": 671,
     "metadata": {},
     "output_type": "execute_result"
    }
   ],
   "source": [
    "for i in title_tags:\n",
    "    title=i.text\n",
    "    job_titles.append(title)\n",
    "job_titles[0:10]"
   ]
  },
  {
   "cell_type": "code",
   "execution_count": 672,
   "id": "62529c4e",
   "metadata": {},
   "outputs": [
    {
     "data": {
      "text/plain": [
       "[<selenium.webdriver.remote.webelement.WebElement (session=\"a6b32299c1318fd804838312f1d3605c\", element=\"a058b46f-7ccd-4601-89f1-e71023ed814c\")>,\n",
       " <selenium.webdriver.remote.webelement.WebElement (session=\"a6b32299c1318fd804838312f1d3605c\", element=\"2ae74575-0a7e-4d92-bd71-51798b8cdcf3\")>,\n",
       " <selenium.webdriver.remote.webelement.WebElement (session=\"a6b32299c1318fd804838312f1d3605c\", element=\"c46ce7cf-e9e9-4c1e-8377-1424236a5762\")>,\n",
       " <selenium.webdriver.remote.webelement.WebElement (session=\"a6b32299c1318fd804838312f1d3605c\", element=\"d7874457-78f7-498e-8fec-959daf54ecbe\")>,\n",
       " <selenium.webdriver.remote.webelement.WebElement (session=\"a6b32299c1318fd804838312f1d3605c\", element=\"7e4d1757-b72e-4210-9c94-b59e87083008\")>,\n",
       " <selenium.webdriver.remote.webelement.WebElement (session=\"a6b32299c1318fd804838312f1d3605c\", element=\"ec20369d-9a00-4eba-ab34-0f5734d18151\")>,\n",
       " <selenium.webdriver.remote.webelement.WebElement (session=\"a6b32299c1318fd804838312f1d3605c\", element=\"da487eae-5c1e-40bb-892c-80908b0ebd06\")>,\n",
       " <selenium.webdriver.remote.webelement.WebElement (session=\"a6b32299c1318fd804838312f1d3605c\", element=\"1ea5bc88-dc39-4635-8974-a1bedb6f1db8\")>,\n",
       " <selenium.webdriver.remote.webelement.WebElement (session=\"a6b32299c1318fd804838312f1d3605c\", element=\"2fc426cd-59c0-4ed0-a510-e3ef1186fcfc\")>,\n",
       " <selenium.webdriver.remote.webelement.WebElement (session=\"a6b32299c1318fd804838312f1d3605c\", element=\"eed3cfec-9203-436d-baf7-24ef80d8dce9\")>]"
      ]
     },
     "execution_count": 672,
     "metadata": {},
     "output_type": "execute_result"
    }
   ],
   "source": [
    "location_tags=driver.find_elements_by_xpath('//li[@class=\"fleft grey-text br2 placeHolderLi location\"]')\n",
    "location_tags[0:10]"
   ]
  },
  {
   "cell_type": "code",
   "execution_count": 673,
   "id": "86cf64ae",
   "metadata": {},
   "outputs": [
    {
     "data": {
      "text/plain": [
       "['Bangalore/Bengaluru',\n",
       " 'New Delhi, Bangalore/Bengaluru, Mumbai (All Areas)\\n(WFH during Covid)',\n",
       " 'Bangalore/Bengaluru, Mumbai (All Areas)',\n",
       " 'Kochi/Cochin, Bangalore/Bengaluru',\n",
       " 'Bangalore/Bengaluru',\n",
       " 'Gurgaon/Gurugram, Bangalore/Bengaluru, Delhi / NCR',\n",
       " 'Noida, Mumbai, Chandigarh, Hyderabad/Secunderabad, Pune, Chennai, Gurgaon/Gurugram, Coimbatore, Bangalore/Bengaluru',\n",
       " 'Bangalore/Bengaluru',\n",
       " 'Bangalore/Bengaluru, Remote',\n",
       " 'Kolkata, Mumbai, Hyderabad/Secunderabad, Pune, Chennai, Bangalore/Bengaluru']"
      ]
     },
     "execution_count": 673,
     "metadata": {},
     "output_type": "execute_result"
    }
   ],
   "source": [
    "for i in location_tags:\n",
    "    loc=i.text\n",
    "    job_locations.append(loc)\n",
    "job_locations[0:10]"
   ]
  },
  {
   "cell_type": "code",
   "execution_count": 674,
   "id": "7bfdbe14",
   "metadata": {},
   "outputs": [
    {
     "data": {
      "text/plain": [
       "[<selenium.webdriver.remote.webelement.WebElement (session=\"a6b32299c1318fd804838312f1d3605c\", element=\"9871661b-3d24-4ef3-8b1c-c6f0acce2387\")>,\n",
       " <selenium.webdriver.remote.webelement.WebElement (session=\"a6b32299c1318fd804838312f1d3605c\", element=\"5362c88a-7488-42b2-8260-21ef98ff7dc4\")>,\n",
       " <selenium.webdriver.remote.webelement.WebElement (session=\"a6b32299c1318fd804838312f1d3605c\", element=\"8be53f99-a8f4-44fd-a033-0ca00a7d7a06\")>,\n",
       " <selenium.webdriver.remote.webelement.WebElement (session=\"a6b32299c1318fd804838312f1d3605c\", element=\"db22479e-e6cd-4a41-942b-5774a15e2b39\")>,\n",
       " <selenium.webdriver.remote.webelement.WebElement (session=\"a6b32299c1318fd804838312f1d3605c\", element=\"8dbb74f2-4d42-4acd-89c5-a4853e5937ea\")>,\n",
       " <selenium.webdriver.remote.webelement.WebElement (session=\"a6b32299c1318fd804838312f1d3605c\", element=\"56461bab-427b-4aaa-95fb-55643d1d74b1\")>,\n",
       " <selenium.webdriver.remote.webelement.WebElement (session=\"a6b32299c1318fd804838312f1d3605c\", element=\"0128505f-116b-4528-8b41-c2316af3225b\")>,\n",
       " <selenium.webdriver.remote.webelement.WebElement (session=\"a6b32299c1318fd804838312f1d3605c\", element=\"71cde85c-f25a-4b9a-9238-cfcf9d694370\")>,\n",
       " <selenium.webdriver.remote.webelement.WebElement (session=\"a6b32299c1318fd804838312f1d3605c\", element=\"b8117e96-e89a-4433-9835-1444113a4229\")>,\n",
       " <selenium.webdriver.remote.webelement.WebElement (session=\"a6b32299c1318fd804838312f1d3605c\", element=\"cb30f102-5d7d-4093-a7f7-3c6667752937\")>]"
      ]
     },
     "execution_count": 674,
     "metadata": {},
     "output_type": "execute_result"
    }
   ],
   "source": [
    "company_tags=driver.find_elements_by_xpath(\"//a[@class='subTitle ellipsis fleft']\")\n",
    "company_tags[0:10]"
   ]
  },
  {
   "cell_type": "code",
   "execution_count": 675,
   "id": "7c5b62f0",
   "metadata": {},
   "outputs": [
    {
     "data": {
      "text/plain": [
       "['AT and T Global Business Services India P. Ltd.',\n",
       " 'Ashkom Media India Private Limited',\n",
       " 'UPL',\n",
       " 'EY',\n",
       " 'Uber',\n",
       " 'DataTrained',\n",
       " 'Confidential',\n",
       " 'Snaphunt',\n",
       " 'Snaphunt',\n",
       " 'Primo Hiring']"
      ]
     },
     "execution_count": 675,
     "metadata": {},
     "output_type": "execute_result"
    }
   ],
   "source": [
    "for i in company_tags:\n",
    "    comp=i.text\n",
    "    company_name.append(comp)\n",
    "company_name[0:10]"
   ]
  },
  {
   "cell_type": "code",
   "execution_count": 676,
   "id": "9b5b1918",
   "metadata": {},
   "outputs": [
    {
     "data": {
      "text/plain": [
       "[<selenium.webdriver.remote.webelement.WebElement (session=\"a6b32299c1318fd804838312f1d3605c\", element=\"83572abd-8fc6-42d5-ba13-05c557b02a6c\")>,\n",
       " <selenium.webdriver.remote.webelement.WebElement (session=\"a6b32299c1318fd804838312f1d3605c\", element=\"6062d97e-b298-4634-bab9-16eb4fccfc6d\")>,\n",
       " <selenium.webdriver.remote.webelement.WebElement (session=\"a6b32299c1318fd804838312f1d3605c\", element=\"d3ed57a3-30a7-4895-82a4-c3a18bd77c92\")>,\n",
       " <selenium.webdriver.remote.webelement.WebElement (session=\"a6b32299c1318fd804838312f1d3605c\", element=\"e5a9765c-f80f-4276-9f39-a595af813c3f\")>,\n",
       " <selenium.webdriver.remote.webelement.WebElement (session=\"a6b32299c1318fd804838312f1d3605c\", element=\"daf8a38b-4f65-4b90-9035-c90cbe8fe04e\")>,\n",
       " <selenium.webdriver.remote.webelement.WebElement (session=\"a6b32299c1318fd804838312f1d3605c\", element=\"d940a484-cf84-49da-9782-fa3945a21e4a\")>,\n",
       " <selenium.webdriver.remote.webelement.WebElement (session=\"a6b32299c1318fd804838312f1d3605c\", element=\"110c1dcd-aabb-4028-9d35-037b8cff2dfa\")>,\n",
       " <selenium.webdriver.remote.webelement.WebElement (session=\"a6b32299c1318fd804838312f1d3605c\", element=\"1c20e123-1a7a-4c12-abf6-21ced4561394\")>,\n",
       " <selenium.webdriver.remote.webelement.WebElement (session=\"a6b32299c1318fd804838312f1d3605c\", element=\"450d226b-6286-4ba9-ab78-091657b95fd2\")>,\n",
       " <selenium.webdriver.remote.webelement.WebElement (session=\"a6b32299c1318fd804838312f1d3605c\", element=\"4b448559-818f-41c7-90cb-15e3de009250\")>]"
      ]
     },
     "execution_count": 676,
     "metadata": {},
     "output_type": "execute_result"
    }
   ],
   "source": [
    "experience_tags=driver.find_elements_by_xpath('//li[@class=\"fleft grey-text br2 placeHolderLi experience\"]')\n",
    "experience_tags[0:10]"
   ]
  },
  {
   "cell_type": "code",
   "execution_count": 677,
   "id": "21b96e46",
   "metadata": {},
   "outputs": [
    {
     "data": {
      "text/plain": [
       "['1-4 Yrs',\n",
       " '1-4 Yrs',\n",
       " '1-4 Yrs',\n",
       " '1-3 Yrs',\n",
       " '1-4 Yrs',\n",
       " '0-2 Yrs',\n",
       " '1-6 Yrs',\n",
       " '0-5 Yrs',\n",
       " '0-5 Yrs',\n",
       " '1-3 Yrs']"
      ]
     },
     "execution_count": 677,
     "metadata": {},
     "output_type": "execute_result"
    }
   ],
   "source": [
    "for i in experience_tags:\n",
    "    exp=i.text\n",
    "    experience_required.append(exp)\n",
    "experience_required[0:10]"
   ]
  },
  {
   "cell_type": "code",
   "execution_count": 678,
   "id": "5d65a15f",
   "metadata": {},
   "outputs": [
    {
     "name": "stdout",
     "output_type": "stream",
     "text": [
      "20 20 20 20\n"
     ]
    }
   ],
   "source": [
    "print(len(job_titles),len(job_locations),len(company_name),len(experience_required))"
   ]
  },
  {
   "cell_type": "code",
   "execution_count": 679,
   "id": "1d9f0ab4",
   "metadata": {},
   "outputs": [
    {
     "data": {
      "text/html": [
       "<div>\n",
       "<style scoped>\n",
       "    .dataframe tbody tr th:only-of-type {\n",
       "        vertical-align: middle;\n",
       "    }\n",
       "\n",
       "    .dataframe tbody tr th {\n",
       "        vertical-align: top;\n",
       "    }\n",
       "\n",
       "    .dataframe thead th {\n",
       "        text-align: right;\n",
       "    }\n",
       "</style>\n",
       "<table border=\"1\" class=\"dataframe\">\n",
       "  <thead>\n",
       "    <tr style=\"text-align: right;\">\n",
       "      <th></th>\n",
       "      <th>JOB_TITLE</th>\n",
       "      <th>LOCATION</th>\n",
       "      <th>COMPANY</th>\n",
       "      <th>EXPERIENCE</th>\n",
       "    </tr>\n",
       "  </thead>\n",
       "  <tbody>\n",
       "    <tr>\n",
       "      <th>0</th>\n",
       "      <td>Specialist - Data Scientist</td>\n",
       "      <td>Bangalore/Bengaluru</td>\n",
       "      <td>AT and T Global Business Services India P. Ltd.</td>\n",
       "      <td>1-4 Yrs</td>\n",
       "    </tr>\n",
       "    <tr>\n",
       "      <th>1</th>\n",
       "      <td>Urgent Hiring For AI Data Scientist</td>\n",
       "      <td>New Delhi, Bangalore/Bengaluru, Mumbai (All Ar...</td>\n",
       "      <td>Ashkom Media India Private Limited</td>\n",
       "      <td>1-4 Yrs</td>\n",
       "    </tr>\n",
       "    <tr>\n",
       "      <th>2</th>\n",
       "      <td>Data Scientist</td>\n",
       "      <td>Bangalore/Bengaluru, Mumbai (All Areas)</td>\n",
       "      <td>UPL</td>\n",
       "      <td>1-4 Yrs</td>\n",
       "    </tr>\n",
       "    <tr>\n",
       "      <th>3</th>\n",
       "      <td>Hiring For AI/ML professionals</td>\n",
       "      <td>Kochi/Cochin, Bangalore/Bengaluru</td>\n",
       "      <td>EY</td>\n",
       "      <td>1-3 Yrs</td>\n",
       "    </tr>\n",
       "    <tr>\n",
       "      <th>4</th>\n",
       "      <td>Data Scientist II</td>\n",
       "      <td>Bangalore/Bengaluru</td>\n",
       "      <td>Uber</td>\n",
       "      <td>1-4 Yrs</td>\n",
       "    </tr>\n",
       "    <tr>\n",
       "      <th>5</th>\n",
       "      <td>Hiring For Data Science Intern- DataTrained Ed...</td>\n",
       "      <td>Gurgaon/Gurugram, Bangalore/Bengaluru, Delhi /...</td>\n",
       "      <td>DataTrained</td>\n",
       "      <td>0-2 Yrs</td>\n",
       "    </tr>\n",
       "    <tr>\n",
       "      <th>6</th>\n",
       "      <td>Data Scientist - Predictive Analytics</td>\n",
       "      <td>Noida, Mumbai, Chandigarh, Hyderabad/Secundera...</td>\n",
       "      <td>Confidential</td>\n",
       "      <td>1-6 Yrs</td>\n",
       "    </tr>\n",
       "    <tr>\n",
       "      <th>7</th>\n",
       "      <td>Data Scientist</td>\n",
       "      <td>Bangalore/Bengaluru</td>\n",
       "      <td>Snaphunt</td>\n",
       "      <td>0-5 Yrs</td>\n",
       "    </tr>\n",
       "    <tr>\n",
       "      <th>8</th>\n",
       "      <td>Backend Developer</td>\n",
       "      <td>Bangalore/Bengaluru, Remote</td>\n",
       "      <td>Snaphunt</td>\n",
       "      <td>0-5 Yrs</td>\n",
       "    </tr>\n",
       "    <tr>\n",
       "      <th>9</th>\n",
       "      <td>Data Scientist - Engine Algorithm</td>\n",
       "      <td>Kolkata, Mumbai, Hyderabad/Secunderabad, Pune,...</td>\n",
       "      <td>Primo Hiring</td>\n",
       "      <td>1-3 Yrs</td>\n",
       "    </tr>\n",
       "    <tr>\n",
       "      <th>10</th>\n",
       "      <td>Data Scientist/ Senior Data Scientist</td>\n",
       "      <td>Bangalore/Bengaluru(Old Madras Road)</td>\n",
       "      <td>FINNOVATION TECH SOLUTIONS PRIVATE LIMITED</td>\n",
       "      <td>1-5 Yrs</td>\n",
       "    </tr>\n",
       "    <tr>\n",
       "      <th>11</th>\n",
       "      <td>Machine Learning Engineer | Data Engineer | Da...</td>\n",
       "      <td>Chennai, Bangalore/Bengaluru, Delhi / NCR(Sect...</td>\n",
       "      <td>Tidyquant (OPC) Private Limited</td>\n",
       "      <td>1-3 Yrs</td>\n",
       "    </tr>\n",
       "    <tr>\n",
       "      <th>12</th>\n",
       "      <td>Data Scientist</td>\n",
       "      <td>Bangalore/Bengaluru, Delhi / NCR</td>\n",
       "      <td>Apnaklub</td>\n",
       "      <td>1-3 Yrs</td>\n",
       "    </tr>\n",
       "    <tr>\n",
       "      <th>13</th>\n",
       "      <td>Data Scientist I</td>\n",
       "      <td>Bangalore/Bengaluru</td>\n",
       "      <td>DAZN</td>\n",
       "      <td>1-3 Yrs</td>\n",
       "    </tr>\n",
       "    <tr>\n",
       "      <th>14</th>\n",
       "      <td>Data Scientist</td>\n",
       "      <td>Bangalore/Bengaluru</td>\n",
       "      <td>Pathway Creators</td>\n",
       "      <td>1-5 Yrs</td>\n",
       "    </tr>\n",
       "    <tr>\n",
       "      <th>15</th>\n",
       "      <td>Data Scientist</td>\n",
       "      <td>Gurgaon/Gurugram, Bangalore/Bengaluru</td>\n",
       "      <td>Whatfix</td>\n",
       "      <td>1-3 Yrs</td>\n",
       "    </tr>\n",
       "    <tr>\n",
       "      <th>16</th>\n",
       "      <td>Jr. Data Scientist</td>\n",
       "      <td>Bangalore/Bengaluru</td>\n",
       "      <td>TEOCO Software</td>\n",
       "      <td>1-5 Yrs</td>\n",
       "    </tr>\n",
       "    <tr>\n",
       "      <th>17</th>\n",
       "      <td>Senior Data Scientist</td>\n",
       "      <td>Bangalore/Bengaluru</td>\n",
       "      <td>Greenizon Agritech Consultancy</td>\n",
       "      <td>1-2 Yrs</td>\n",
       "    </tr>\n",
       "    <tr>\n",
       "      <th>18</th>\n",
       "      <td>Data Scientist Min 0-5 Exp</td>\n",
       "      <td>Hyderabad/Secunderabad, Bangalore/Bengaluru, M...</td>\n",
       "      <td>Vishwakarma Consultancy Services</td>\n",
       "      <td>0-5 Yrs</td>\n",
       "    </tr>\n",
       "    <tr>\n",
       "      <th>19</th>\n",
       "      <td>Data Scientist - NLP/Hadoop</td>\n",
       "      <td>Mumbai, Hyderabad/Secunderabad, Gurgaon/Gurugr...</td>\n",
       "      <td>TalPro</td>\n",
       "      <td>1-6 Yrs</td>\n",
       "    </tr>\n",
       "  </tbody>\n",
       "</table>\n",
       "</div>"
      ],
      "text/plain": [
       "                                            JOB_TITLE  \\\n",
       "0                         Specialist - Data Scientist   \n",
       "1                 Urgent Hiring For AI Data Scientist   \n",
       "2                                      Data Scientist   \n",
       "3                      Hiring For AI/ML professionals   \n",
       "4                                   Data Scientist II   \n",
       "5   Hiring For Data Science Intern- DataTrained Ed...   \n",
       "6               Data Scientist - Predictive Analytics   \n",
       "7                                      Data Scientist   \n",
       "8                                   Backend Developer   \n",
       "9                   Data Scientist - Engine Algorithm   \n",
       "10              Data Scientist/ Senior Data Scientist   \n",
       "11  Machine Learning Engineer | Data Engineer | Da...   \n",
       "12                                     Data Scientist   \n",
       "13                                   Data Scientist I   \n",
       "14                                     Data Scientist   \n",
       "15                                     Data Scientist   \n",
       "16                                 Jr. Data Scientist   \n",
       "17                              Senior Data Scientist   \n",
       "18                         Data Scientist Min 0-5 Exp   \n",
       "19                        Data Scientist - NLP/Hadoop   \n",
       "\n",
       "                                             LOCATION  \\\n",
       "0                                 Bangalore/Bengaluru   \n",
       "1   New Delhi, Bangalore/Bengaluru, Mumbai (All Ar...   \n",
       "2             Bangalore/Bengaluru, Mumbai (All Areas)   \n",
       "3                   Kochi/Cochin, Bangalore/Bengaluru   \n",
       "4                                 Bangalore/Bengaluru   \n",
       "5   Gurgaon/Gurugram, Bangalore/Bengaluru, Delhi /...   \n",
       "6   Noida, Mumbai, Chandigarh, Hyderabad/Secundera...   \n",
       "7                                 Bangalore/Bengaluru   \n",
       "8                         Bangalore/Bengaluru, Remote   \n",
       "9   Kolkata, Mumbai, Hyderabad/Secunderabad, Pune,...   \n",
       "10               Bangalore/Bengaluru(Old Madras Road)   \n",
       "11  Chennai, Bangalore/Bengaluru, Delhi / NCR(Sect...   \n",
       "12                   Bangalore/Bengaluru, Delhi / NCR   \n",
       "13                                Bangalore/Bengaluru   \n",
       "14                                Bangalore/Bengaluru   \n",
       "15              Gurgaon/Gurugram, Bangalore/Bengaluru   \n",
       "16                                Bangalore/Bengaluru   \n",
       "17                                Bangalore/Bengaluru   \n",
       "18  Hyderabad/Secunderabad, Bangalore/Bengaluru, M...   \n",
       "19  Mumbai, Hyderabad/Secunderabad, Gurgaon/Gurugr...   \n",
       "\n",
       "                                            COMPANY EXPERIENCE  \n",
       "0   AT and T Global Business Services India P. Ltd.    1-4 Yrs  \n",
       "1                Ashkom Media India Private Limited    1-4 Yrs  \n",
       "2                                               UPL    1-4 Yrs  \n",
       "3                                                EY    1-3 Yrs  \n",
       "4                                              Uber    1-4 Yrs  \n",
       "5                                       DataTrained    0-2 Yrs  \n",
       "6                                      Confidential    1-6 Yrs  \n",
       "7                                          Snaphunt    0-5 Yrs  \n",
       "8                                          Snaphunt    0-5 Yrs  \n",
       "9                                      Primo Hiring    1-3 Yrs  \n",
       "10       FINNOVATION TECH SOLUTIONS PRIVATE LIMITED    1-5 Yrs  \n",
       "11                  Tidyquant (OPC) Private Limited    1-3 Yrs  \n",
       "12                                         Apnaklub    1-3 Yrs  \n",
       "13                                             DAZN    1-3 Yrs  \n",
       "14                                 Pathway Creators    1-5 Yrs  \n",
       "15                                          Whatfix    1-3 Yrs  \n",
       "16                                   TEOCO Software    1-5 Yrs  \n",
       "17                   Greenizon Agritech Consultancy    1-2 Yrs  \n",
       "18                 Vishwakarma Consultancy Services    0-5 Yrs  \n",
       "19                                           TalPro    1-6 Yrs  "
      ]
     },
     "execution_count": 679,
     "metadata": {},
     "output_type": "execute_result"
    }
   ],
   "source": [
    "\n",
    "df=pd.DataFrame({'JOB_TITLE':job_titles,'LOCATION':job_locations,'COMPANY':company_name,'EXPERIENCE':experience_required})\n",
    "df"
   ]
  },
  {
   "cell_type": "code",
   "execution_count": 18,
   "id": "d899423d",
   "metadata": {},
   "outputs": [],
   "source": [
    "#Q.3............\n",
    "driver = webdriver.Chrome(\"chromedriver.exe\")\n",
    "time.sleep(2)"
   ]
  },
  {
   "cell_type": "code",
   "execution_count": 19,
   "id": "77464531",
   "metadata": {},
   "outputs": [],
   "source": [
    "driver.get('https://www.naukri.com/')"
   ]
  },
  {
   "cell_type": "code",
   "execution_count": 20,
   "id": "0a4a4d48",
   "metadata": {},
   "outputs": [],
   "source": [
    "search_field_designation=driver.find_element_by_class_name(\"suggestor-input\")\n",
    "search_field_designation.send_keys(\"Data Scientist\")"
   ]
  },
  {
   "cell_type": "code",
   "execution_count": 21,
   "id": "8086cf23",
   "metadata": {},
   "outputs": [],
   "source": [
    "search_button=driver.find_element_by_xpath('//*[@id=\"root\"]/div[2]/div[3]/div/div/div[6]')\n",
    "search_button.click()"
   ]
  },
  {
   "cell_type": "code",
   "execution_count": 23,
   "id": "2349b4a5",
   "metadata": {},
   "outputs": [],
   "source": [
    "driver.get('https://www.naukri.com/jobs-in-india?clusters=roleGid,citiesGid&roleTypeFilterGid=169&cityTypeGid=9508&ctcFilter=3to6')"
   ]
  },
  {
   "cell_type": "code",
   "execution_count": 24,
   "id": "5aa88dc4",
   "metadata": {},
   "outputs": [],
   "source": [
    "job_titles=[]\n",
    "job_locations=[] \n",
    "company_name=[] \n",
    "experience_required=[]"
   ]
  },
  {
   "cell_type": "code",
   "execution_count": 25,
   "id": "0522a9be",
   "metadata": {},
   "outputs": [
    {
     "data": {
      "text/plain": [
       "['Job Opening with Wipro For Data Scientist position',\n",
       " 'Data Scientist - Machine learning AI',\n",
       " 'Data Scientist -Machine Learning with Python',\n",
       " 'Data Scientist',\n",
       " 'Data Scientist - MIND Infotech',\n",
       " 'Data Scientist - MIND Infotech',\n",
       " 'Data Scientist - Predictive Analytics',\n",
       " 'Data Scientist - Internet Jobs - II',\n",
       " 'Machine Learning Engineer | Data Engineer | Data Scientist',\n",
       " 'Dot Net Developer']"
      ]
     },
     "execution_count": 25,
     "metadata": {},
     "output_type": "execute_result"
    }
   ],
   "source": [
    "title_tags=driver.find_elements_by_xpath(\"//a[@class='title fw500 ellipsis']\")\n",
    "for i in title_tags:\n",
    "    job_titles.append(i.text)\n",
    "job_titles[0:10]"
   ]
  },
  {
   "cell_type": "code",
   "execution_count": 26,
   "id": "a357c249",
   "metadata": {},
   "outputs": [
    {
     "data": {
      "text/plain": [
       "['Kolkata, Hyderabad/Secunderabad, Chennai, Bangalore/Bengaluru, Delhi / NCR, Mumbai (All Areas)',\n",
       " 'Bangalore/Bengaluru, Delhi / NCR, Mumbai (All Areas)\\n(WFH during Covid)',\n",
       " 'Noida, New Delhi, Gurgaon/Gurugram, Delhi / NCR\\n(WFH during Covid)',\n",
       " 'Pune, Gurgaon/Gurugram, Bangalore/Bengaluru',\n",
       " 'Noida',\n",
       " 'Noida',\n",
       " 'Noida, Mumbai, Chandigarh, Hyderabad/Secunderabad, Pune, Chennai, Gurgaon/Gurugram, Coimbatore, Bangalore/Bengaluru',\n",
       " 'Bangalore/Bengaluru, Delhi / NCR, Mumbai (All Areas)',\n",
       " 'Chennai, Bangalore/Bengaluru, Delhi / NCR(Sector-8 Noida)\\n(WFH during Covid)',\n",
       " 'Gurgaon/Gurugram, Delhi / NCR']"
      ]
     },
     "execution_count": 26,
     "metadata": {},
     "output_type": "execute_result"
    }
   ],
   "source": [
    "location_tags=driver.find_elements_by_xpath('//li[@class=\"fleft grey-text br2 placeHolderLi location\"]')\n",
    "for i in location_tags:\n",
    "    job_locations.append(i.text)\n",
    "job_locations[0:10]"
   ]
  },
  {
   "cell_type": "code",
   "execution_count": 27,
   "id": "e20ac542",
   "metadata": {},
   "outputs": [
    {
     "data": {
      "text/plain": [
       "['Wipro',\n",
       " 'Teq Analytics',\n",
       " 'Genpact',\n",
       " 'SS Supply Chain Solutions Pvt. Ltd. (3SC)',\n",
       " 'MOTHERSONSUMI INFOTECH & DESIGNS LIMITED',\n",
       " 'MOTHERSONSUMI INFOTECH & DESIGNS LIMITED',\n",
       " 'Confidential',\n",
       " 'Jobs Territory',\n",
       " 'Tidyquant (OPC) Private Limited',\n",
       " 'Nibha Infotech Private Limited']"
      ]
     },
     "execution_count": 27,
     "metadata": {},
     "output_type": "execute_result"
    }
   ],
   "source": [
    "company_tags=driver.find_elements_by_xpath(\"//a[@class='subTitle ellipsis fleft']\")\n",
    "for i in company_tags:\n",
    "    company_name.append(i.text)\n",
    "company_name[0:10]"
   ]
  },
  {
   "cell_type": "code",
   "execution_count": 28,
   "id": "779473df",
   "metadata": {},
   "outputs": [
    {
     "data": {
      "text/plain": [
       "['2-7 Yrs',\n",
       " '3-8 Yrs',\n",
       " '1-4 Yrs',\n",
       " '2-5 Yrs',\n",
       " '4-8 Yrs',\n",
       " '4-8 Yrs',\n",
       " '1-6 Yrs',\n",
       " '3-6 Yrs',\n",
       " '1-3 Yrs',\n",
       " '3-8 Yrs']"
      ]
     },
     "execution_count": 28,
     "metadata": {},
     "output_type": "execute_result"
    }
   ],
   "source": [
    "experience_tags=driver.find_elements_by_xpath('//li[@class=\"fleft grey-text br2 placeHolderLi experience\"]')\n",
    "for i in experience_tags:\n",
    "    experience_required.append(i.text)\n",
    "experience_required[0:10]"
   ]
  },
  {
   "cell_type": "code",
   "execution_count": 29,
   "id": "f7658e4d",
   "metadata": {},
   "outputs": [
    {
     "name": "stdout",
     "output_type": "stream",
     "text": [
      "20 20 20 20\n"
     ]
    }
   ],
   "source": [
    "print(len(job_titles),len(job_locations),len(company_name),len(experience_required))"
   ]
  },
  {
   "cell_type": "code",
   "execution_count": 30,
   "id": "acb042c1",
   "metadata": {},
   "outputs": [
    {
     "data": {
      "text/html": [
       "<div>\n",
       "<style scoped>\n",
       "    .dataframe tbody tr th:only-of-type {\n",
       "        vertical-align: middle;\n",
       "    }\n",
       "\n",
       "    .dataframe tbody tr th {\n",
       "        vertical-align: top;\n",
       "    }\n",
       "\n",
       "    .dataframe thead th {\n",
       "        text-align: right;\n",
       "    }\n",
       "</style>\n",
       "<table border=\"1\" class=\"dataframe\">\n",
       "  <thead>\n",
       "    <tr style=\"text-align: right;\">\n",
       "      <th></th>\n",
       "      <th>JOB_TITLE</th>\n",
       "      <th>LOCATION</th>\n",
       "      <th>COMPANY</th>\n",
       "      <th>EXPERIENCE</th>\n",
       "    </tr>\n",
       "  </thead>\n",
       "  <tbody>\n",
       "    <tr>\n",
       "      <th>0</th>\n",
       "      <td>Job Opening with Wipro For Data Scientist posi...</td>\n",
       "      <td>Kolkata, Hyderabad/Secunderabad, Chennai, Bang...</td>\n",
       "      <td>Wipro</td>\n",
       "      <td>2-7 Yrs</td>\n",
       "    </tr>\n",
       "    <tr>\n",
       "      <th>1</th>\n",
       "      <td>Data Scientist - Machine learning AI</td>\n",
       "      <td>Bangalore/Bengaluru, Delhi / NCR, Mumbai (All ...</td>\n",
       "      <td>Teq Analytics</td>\n",
       "      <td>3-8 Yrs</td>\n",
       "    </tr>\n",
       "    <tr>\n",
       "      <th>2</th>\n",
       "      <td>Data Scientist -Machine Learning with Python</td>\n",
       "      <td>Noida, New Delhi, Gurgaon/Gurugram, Delhi / NC...</td>\n",
       "      <td>Genpact</td>\n",
       "      <td>1-4 Yrs</td>\n",
       "    </tr>\n",
       "    <tr>\n",
       "      <th>3</th>\n",
       "      <td>Data Scientist</td>\n",
       "      <td>Pune, Gurgaon/Gurugram, Bangalore/Bengaluru</td>\n",
       "      <td>SS Supply Chain Solutions Pvt. Ltd. (3SC)</td>\n",
       "      <td>2-5 Yrs</td>\n",
       "    </tr>\n",
       "    <tr>\n",
       "      <th>4</th>\n",
       "      <td>Data Scientist - MIND Infotech</td>\n",
       "      <td>Noida</td>\n",
       "      <td>MOTHERSONSUMI INFOTECH &amp; DESIGNS LIMITED</td>\n",
       "      <td>4-8 Yrs</td>\n",
       "    </tr>\n",
       "    <tr>\n",
       "      <th>5</th>\n",
       "      <td>Data Scientist - MIND Infotech</td>\n",
       "      <td>Noida</td>\n",
       "      <td>MOTHERSONSUMI INFOTECH &amp; DESIGNS LIMITED</td>\n",
       "      <td>4-8 Yrs</td>\n",
       "    </tr>\n",
       "    <tr>\n",
       "      <th>6</th>\n",
       "      <td>Data Scientist - Predictive Analytics</td>\n",
       "      <td>Noida, Mumbai, Chandigarh, Hyderabad/Secundera...</td>\n",
       "      <td>Confidential</td>\n",
       "      <td>1-6 Yrs</td>\n",
       "    </tr>\n",
       "    <tr>\n",
       "      <th>7</th>\n",
       "      <td>Data Scientist - Internet Jobs - II</td>\n",
       "      <td>Bangalore/Bengaluru, Delhi / NCR, Mumbai (All ...</td>\n",
       "      <td>Jobs Territory</td>\n",
       "      <td>3-6 Yrs</td>\n",
       "    </tr>\n",
       "    <tr>\n",
       "      <th>8</th>\n",
       "      <td>Machine Learning Engineer | Data Engineer | Da...</td>\n",
       "      <td>Chennai, Bangalore/Bengaluru, Delhi / NCR(Sect...</td>\n",
       "      <td>Tidyquant (OPC) Private Limited</td>\n",
       "      <td>1-3 Yrs</td>\n",
       "    </tr>\n",
       "    <tr>\n",
       "      <th>9</th>\n",
       "      <td>Dot Net Developer</td>\n",
       "      <td>Gurgaon/Gurugram, Delhi / NCR</td>\n",
       "      <td>Nibha Infotech Private Limited</td>\n",
       "      <td>3-8 Yrs</td>\n",
       "    </tr>\n",
       "    <tr>\n",
       "      <th>10</th>\n",
       "      <td>Machine Learning Seniors</td>\n",
       "      <td>Hyderabad/Secunderabad, New Delhi</td>\n",
       "      <td>Walking Tree Consultancy Services pvt Ltd</td>\n",
       "      <td>2-5 Yrs</td>\n",
       "    </tr>\n",
       "    <tr>\n",
       "      <th>11</th>\n",
       "      <td>Data Science - Immediate Joiner - Pune, Noida,...</td>\n",
       "      <td>Noida, Pune, Gurgaon/Gurugram, Bangalore/Benga...</td>\n",
       "      <td>Mount Talent Consulting Private Limited</td>\n",
       "      <td>4-8 Yrs</td>\n",
       "    </tr>\n",
       "    <tr>\n",
       "      <th>12</th>\n",
       "      <td>Data Scientist (Python) Immediate Joiners</td>\n",
       "      <td>Noida, Pune, Ahmedabad</td>\n",
       "      <td>Om Software Internet Solutions Private Limited</td>\n",
       "      <td>1-4 Yrs</td>\n",
       "    </tr>\n",
       "    <tr>\n",
       "      <th>13</th>\n",
       "      <td>Data Science Associate</td>\n",
       "      <td>Delhi / NCR(Vaishali)</td>\n",
       "      <td>KREATE ENERGY (I) PRIVATE LIMITED</td>\n",
       "      <td>2-4 Yrs</td>\n",
       "    </tr>\n",
       "    <tr>\n",
       "      <th>14</th>\n",
       "      <td>Data scientist- Python</td>\n",
       "      <td>Gurgaon/Gurugram</td>\n",
       "      <td>TeamPlus Staffing Solution Pvt Ltd</td>\n",
       "      <td>3-6 Yrs</td>\n",
       "    </tr>\n",
       "    <tr>\n",
       "      <th>15</th>\n",
       "      <td>Data Scientists</td>\n",
       "      <td>Gurgaon/Gurugram</td>\n",
       "      <td>Nibha Infotech Private Limited</td>\n",
       "      <td>5-8 Yrs</td>\n",
       "    </tr>\n",
       "    <tr>\n",
       "      <th>16</th>\n",
       "      <td>Data Scientist</td>\n",
       "      <td>Gurgaon/Gurugram</td>\n",
       "      <td>T &amp; A Solutions</td>\n",
       "      <td>2-6 Yrs</td>\n",
       "    </tr>\n",
       "    <tr>\n",
       "      <th>17</th>\n",
       "      <td>Data Scientist (4-8 Years)</td>\n",
       "      <td>Gurgaon/Gurugram, Delhi / NCR</td>\n",
       "      <td>Redian Software Private Limited</td>\n",
       "      <td>4-8 Yrs</td>\n",
       "    </tr>\n",
       "    <tr>\n",
       "      <th>18</th>\n",
       "      <td>Sr.Data Science Analyst || Exp- 7+ yrs || Delh...</td>\n",
       "      <td>Delhi / NCR(Sultanpur)</td>\n",
       "      <td>B4S Solutions Pvt Ltd</td>\n",
       "      <td>7-10 Yrs</td>\n",
       "    </tr>\n",
       "    <tr>\n",
       "      <th>19</th>\n",
       "      <td>Data Scientist / Sr. Data Scientist</td>\n",
       "      <td>Noida</td>\n",
       "      <td>WEGARNER SOLUTIONS PRIVATE LIMITED</td>\n",
       "      <td>2-7 Yrs</td>\n",
       "    </tr>\n",
       "  </tbody>\n",
       "</table>\n",
       "</div>"
      ],
      "text/plain": [
       "                                            JOB_TITLE  \\\n",
       "0   Job Opening with Wipro For Data Scientist posi...   \n",
       "1                Data Scientist - Machine learning AI   \n",
       "2        Data Scientist -Machine Learning with Python   \n",
       "3                                      Data Scientist   \n",
       "4                      Data Scientist - MIND Infotech   \n",
       "5                      Data Scientist - MIND Infotech   \n",
       "6               Data Scientist - Predictive Analytics   \n",
       "7                 Data Scientist - Internet Jobs - II   \n",
       "8   Machine Learning Engineer | Data Engineer | Da...   \n",
       "9                                   Dot Net Developer   \n",
       "10                           Machine Learning Seniors   \n",
       "11  Data Science - Immediate Joiner - Pune, Noida,...   \n",
       "12          Data Scientist (Python) Immediate Joiners   \n",
       "13                             Data Science Associate   \n",
       "14                             Data scientist- Python   \n",
       "15                                    Data Scientists   \n",
       "16                                     Data Scientist   \n",
       "17                         Data Scientist (4-8 Years)   \n",
       "18  Sr.Data Science Analyst || Exp- 7+ yrs || Delh...   \n",
       "19                Data Scientist / Sr. Data Scientist   \n",
       "\n",
       "                                             LOCATION  \\\n",
       "0   Kolkata, Hyderabad/Secunderabad, Chennai, Bang...   \n",
       "1   Bangalore/Bengaluru, Delhi / NCR, Mumbai (All ...   \n",
       "2   Noida, New Delhi, Gurgaon/Gurugram, Delhi / NC...   \n",
       "3         Pune, Gurgaon/Gurugram, Bangalore/Bengaluru   \n",
       "4                                               Noida   \n",
       "5                                               Noida   \n",
       "6   Noida, Mumbai, Chandigarh, Hyderabad/Secundera...   \n",
       "7   Bangalore/Bengaluru, Delhi / NCR, Mumbai (All ...   \n",
       "8   Chennai, Bangalore/Bengaluru, Delhi / NCR(Sect...   \n",
       "9                       Gurgaon/Gurugram, Delhi / NCR   \n",
       "10                  Hyderabad/Secunderabad, New Delhi   \n",
       "11  Noida, Pune, Gurgaon/Gurugram, Bangalore/Benga...   \n",
       "12                             Noida, Pune, Ahmedabad   \n",
       "13                              Delhi / NCR(Vaishali)   \n",
       "14                                   Gurgaon/Gurugram   \n",
       "15                                   Gurgaon/Gurugram   \n",
       "16                                   Gurgaon/Gurugram   \n",
       "17                      Gurgaon/Gurugram, Delhi / NCR   \n",
       "18                             Delhi / NCR(Sultanpur)   \n",
       "19                                              Noida   \n",
       "\n",
       "                                           COMPANY EXPERIENCE  \n",
       "0                                            Wipro    2-7 Yrs  \n",
       "1                                    Teq Analytics    3-8 Yrs  \n",
       "2                                          Genpact    1-4 Yrs  \n",
       "3        SS Supply Chain Solutions Pvt. Ltd. (3SC)    2-5 Yrs  \n",
       "4         MOTHERSONSUMI INFOTECH & DESIGNS LIMITED    4-8 Yrs  \n",
       "5         MOTHERSONSUMI INFOTECH & DESIGNS LIMITED    4-8 Yrs  \n",
       "6                                     Confidential    1-6 Yrs  \n",
       "7                                   Jobs Territory    3-6 Yrs  \n",
       "8                  Tidyquant (OPC) Private Limited    1-3 Yrs  \n",
       "9                   Nibha Infotech Private Limited    3-8 Yrs  \n",
       "10       Walking Tree Consultancy Services pvt Ltd    2-5 Yrs  \n",
       "11         Mount Talent Consulting Private Limited    4-8 Yrs  \n",
       "12  Om Software Internet Solutions Private Limited    1-4 Yrs  \n",
       "13               KREATE ENERGY (I) PRIVATE LIMITED    2-4 Yrs  \n",
       "14              TeamPlus Staffing Solution Pvt Ltd    3-6 Yrs  \n",
       "15                  Nibha Infotech Private Limited    5-8 Yrs  \n",
       "16                                 T & A Solutions    2-6 Yrs  \n",
       "17                 Redian Software Private Limited    4-8 Yrs  \n",
       "18                           B4S Solutions Pvt Ltd   7-10 Yrs  \n",
       "19              WEGARNER SOLUTIONS PRIVATE LIMITED    2-7 Yrs  "
      ]
     },
     "execution_count": 30,
     "metadata": {},
     "output_type": "execute_result"
    }
   ],
   "source": [
    "df=pd.DataFrame({'JOB_TITLE':job_titles,'LOCATION':job_locations,'COMPANY':company_name,'EXPERIENCE':experience_required})\n",
    "df"
   ]
  },
  {
   "cell_type": "code",
   "execution_count": 13,
   "id": "56a676a8",
   "metadata": {},
   "outputs": [],
   "source": [
    "#Q.4.......................\n",
    "driver = webdriver.Chrome(\"chromedriver.exe\")\n",
    "time.sleep(2)"
   ]
  },
  {
   "cell_type": "code",
   "execution_count": 14,
   "id": "2aa98e87",
   "metadata": {},
   "outputs": [],
   "source": [
    "driver.get('https://www.flipkart.com/')"
   ]
  },
  {
   "cell_type": "code",
   "execution_count": 44,
   "id": "c9916b87",
   "metadata": {},
   "outputs": [],
   "source": [
    "search_field=driver.find_element_by_xpath('//*[@id=\"container\"]/div/div[1]/div[1]/div[2]/div[2]/form/div/div/input')\n",
    "search_field.send_keys(\"sunglasses\")"
   ]
  },
  {
   "cell_type": "code",
   "execution_count": 45,
   "id": "9856a027",
   "metadata": {},
   "outputs": [],
   "source": [
    "search_button=driver.find_element_by_xpath('//button[@class=\"L0Z3Pu\"]')\n",
    "search_button.click()"
   ]
  },
  {
   "cell_type": "code",
   "execution_count": 46,
   "id": "2d88ccfd",
   "metadata": {},
   "outputs": [],
   "source": [
    "brand=[]\n",
    "product_description=[] \n",
    "price=[] \n",
    "discount=[]"
   ]
  },
  {
   "cell_type": "code",
   "execution_count": 51,
   "id": "2d633acd",
   "metadata": {},
   "outputs": [],
   "source": [
    "\n",
    "for i in range(0,3):\n",
    "    \n",
    "    brand_tags=driver.find_elements_by_xpath('//div[@class=\"_2WkVRV\"]')                                                                                                                                                                                                  \n",
    "    for i in brand_tags:\n",
    "        brand.append(i.text)\n",
    "     \n",
    "    \n",
    "    prd_desc_tags=driver.find_elements_by_xpath('//a[@class=\"IRpwTa\"]')\n",
    "    for i in prd_desc_tags:\n",
    "        product_description.append(i.text)\n",
    "    \n",
    "\n",
    "    price_tags=driver.find_elements_by_xpath('//div[@class=\"_30jeq3\"]')      \n",
    "    for i in price_tags:\n",
    "        price.append(i.text)\n",
    "\n",
    "    discount_tags=driver.find_elements_by_xpath('//div[@class=\"_3Ay6Sb\"]')\n",
    "    for i in discount_tags:\n",
    "        discount.append(i.text)\n",
    "        \n",
    "    next_button=driver.find_element_by_xpath('//*[@id=\"container\"]/div/div[3]/div[1]/div[2]/div[12]/div/div/nav/a[11]')\n",
    "    next_button.click()\n",
    "    time.sleep(5)\n",
    "   "
   ]
  },
  {
   "cell_type": "code",
   "execution_count": 53,
   "id": "e8374641",
   "metadata": {},
   "outputs": [
    {
     "name": "stdout",
     "output_type": "stream",
     "text": [
      "120 120 120 120\n"
     ]
    }
   ],
   "source": [
    "print(len(brand),len(product_description),len(price),len(discount))"
   ]
  },
  {
   "cell_type": "code",
   "execution_count": 54,
   "id": "8b2252f7",
   "metadata": {},
   "outputs": [
    {
     "data": {
      "text/plain": [
       "['Mi',\n",
       " 'Mi',\n",
       " 'Fastrack',\n",
       " 'Fastrack',\n",
       " 'SRPM',\n",
       " 'Elligator',\n",
       " 'PIRASO',\n",
       " 'PIRASO',\n",
       " 'PIRASO',\n",
       " 'New Specs',\n",
       " 'ROZZETTA CRAFT',\n",
       " 'VINCENT CHASE',\n",
       " 'PIRASO',\n",
       " 'Mi',\n",
       " 'PIRASO',\n",
       " 'Fastrack',\n",
       " 'SUNBEE',\n",
       " 'Lee Topper',\n",
       " 'United Colors of Benetton',\n",
       " 'PIRASO',\n",
       " 'Fastrack',\n",
       " 'Fastrack',\n",
       " 'New Specs',\n",
       " 'Fastrack',\n",
       " 'ROZZETTA CRAFT',\n",
       " 'United Colors of Benetton',\n",
       " 'VINCENT CHASE',\n",
       " 'SHAAH COLLECTIONS',\n",
       " 'Fastrack',\n",
       " 'Fastrack',\n",
       " 'ROZZETTA CRAFT',\n",
       " 'SRPM',\n",
       " 'PHENOMENAL',\n",
       " 'kingsunglasses',\n",
       " 'SUNBEE',\n",
       " 'ROZZETTA CRAFT',\n",
       " 'Ray-Ban',\n",
       " 'Fastrack',\n",
       " 'United Colors of Benetton',\n",
       " 'AISLIN',\n",
       " 'VINCENT CHASE',\n",
       " 'Fastrack',\n",
       " 'GANSTA',\n",
       " 'ROYAL SON',\n",
       " 'Elligator',\n",
       " 'ROZZETTA CRAFT',\n",
       " 'SRPM',\n",
       " 'HRX by Hrithik Roshan',\n",
       " 'ROYAL SON',\n",
       " 'VINCENT CHASE',\n",
       " 'Urbanic',\n",
       " 'DEIXELS',\n",
       " 'SHAAH COLLECTIONS',\n",
       " 'GANSTA',\n",
       " 'Fastrack',\n",
       " 'PIRASO',\n",
       " 'SUNBEE',\n",
       " 'Urbanic',\n",
       " 'ROYAL SON',\n",
       " 'kingsunglasses',\n",
       " 'PHENOMENAL',\n",
       " 'United Colors of Benetton',\n",
       " 'IZAAN MART',\n",
       " 'kingsunglasses',\n",
       " 'AISLIN',\n",
       " 'ROZZETTA CRAFT',\n",
       " 'kingsunglasses',\n",
       " 'Fastrack',\n",
       " 'SRPM',\n",
       " 'New Specs',\n",
       " 'VINCENT CHASE',\n",
       " 'ROZZETTA CRAFT',\n",
       " 'PIRASO',\n",
       " 'kingscape',\n",
       " 'GHAWK',\n",
       " 'AISLIN',\n",
       " 'New Specs',\n",
       " 'ROZZETTA CRAFT',\n",
       " 'CRYSTAL CART',\n",
       " 'AISLIN',\n",
       " 'NuVew',\n",
       " 'Poloport',\n",
       " 'ROYAL SON',\n",
       " 'Ray-Ban',\n",
       " 'IDEE',\n",
       " 'PHENOMENAL',\n",
       " 'AISLIN',\n",
       " 'PETER JONES',\n",
       " 'Ray-Ban',\n",
       " 'GANSTA',\n",
       " 'kingsunglasses',\n",
       " 'AISLIN',\n",
       " 'ROYAL SON',\n",
       " 'AISLIN',\n",
       " 'elegante',\n",
       " 'New Specs',\n",
       " 'Urbanic',\n",
       " 'GANSTA',\n",
       " 'VINCENT CHASE',\n",
       " 'Ray-Ban']"
      ]
     },
     "execution_count": 54,
     "metadata": {},
     "output_type": "execute_result"
    }
   ],
   "source": [
    "brand[0:100]"
   ]
  },
  {
   "cell_type": "code",
   "execution_count": 55,
   "id": "48ea8a3b",
   "metadata": {},
   "outputs": [
    {
     "data": {
      "text/plain": [
       "['Polarized Aviator Sunglasses (Free Size)',\n",
       " 'Polarized Aviator Sunglasses (Free Size)',\n",
       " 'UV Protection Rectangular Sunglasses (Free Size)',\n",
       " 'UV Protection Wayfarer Sunglasses (Free Size)',\n",
       " 'UV Protection Wayfarer Sunglasses (50)',\n",
       " 'UV Protection Round Sunglasses (54)',\n",
       " 'UV Protection Aviator Sunglasses (54)',\n",
       " 'UV Protection Aviator Sunglasses (58)',\n",
       " 'UV Protection Aviator Sunglasses (54)',\n",
       " 'UV Protection Rectangular Sunglasses (Free Size)',\n",
       " 'Polarized, Riding Glasses Sports, Wrap-around Sunglasse...',\n",
       " 'by Lenskart Polarized, UV Protection Cat-eye Sunglasses...',\n",
       " 'UV Protection Rectangular Sunglasses (52)',\n",
       " 'Polarized Wayfarer Sunglasses (Free Size)',\n",
       " 'UV Protection Aviator Sunglasses (54)',\n",
       " 'UV Protection Aviator Sunglasses (Free Size)',\n",
       " 'UV Protection, Polarized Wayfarer Sunglasses (Free Size...',\n",
       " 'Riding Glasses Wrap-around Sunglasses (Free Size)',\n",
       " 'Gradient Cat-eye Sunglasses (57)',\n",
       " 'UV Protection Over-sized Sunglasses (65)',\n",
       " 'UV Protection Aviator Sunglasses (58)',\n",
       " 'UV Protection Aviator Sunglasses (58)',\n",
       " 'Mirrored, UV Protection, Riding Glasses, Others Round S...',\n",
       " 'Gradient, UV Protection Wayfarer Sunglasses (Free Size)',\n",
       " 'UV Protection, Gradient Retro Square Sunglasses (Free S...',\n",
       " 'Gradient, UV Protection Aviator Sunglasses (56)',\n",
       " 'by Lenskart Polarized, UV Protection Round Sunglasses (...',\n",
       " 'UV Protection, Polarized, Mirrored Rectangular Sunglass...',\n",
       " 'Gradient, UV Protection Wayfarer Sunglasses (Free Size)',\n",
       " 'UV Protection Wayfarer Sunglasses (Free Size)',\n",
       " 'UV Protection Rectangular Sunglasses (Free Size)',\n",
       " 'Others Wayfarer, Retro Square Sunglasses (50)',\n",
       " 'UV Protection, Mirrored Clubmaster Sunglasses (Free Siz...',\n",
       " 'UV Protection, Riding Glasses, Mirrored Wayfarer Sungla...',\n",
       " 'UV Protection, Polarized, Mirrored Retro Square Sunglas...',\n",
       " 'UV Protection Retro Square Sunglasses (Free Size)',\n",
       " 'Mirrored Aviator Sunglasses (63)',\n",
       " 'UV Protection Wayfarer Sunglasses (54)',\n",
       " 'Mirrored, UV Protection Round Sunglasses (57)',\n",
       " 'Toughened Glass Lens, UV Protection Wayfarer, Rectangul...',\n",
       " 'by Lenskart Polarized, UV Protection Aviator Sunglasses...',\n",
       " 'UV Protection Wayfarer Sunglasses (Free Size)',\n",
       " 'UV Protection Aviator Sunglasses (57)',\n",
       " 'Mirrored Aviator Sunglasses (Free Size)',\n",
       " 'UV Protection Round Sunglasses (53)',\n",
       " 'UV Protection, Gradient Round Sunglasses (Free Size)',\n",
       " 'Night Vision, UV Protection Round Sunglasses (54)',\n",
       " 'UV Protection Aviator Sunglasses (Free Size)',\n",
       " 'UV Protection, Gradient Butterfly Sunglasses (62)',\n",
       " 'by Lenskart UV Protection Aviator Sunglasses (Free Size...',\n",
       " 'Others Oval Sunglasses (Free Size)',\n",
       " 'UV Protection Aviator Sunglasses (Free Size)',\n",
       " 'UV Protection Round Sunglasses (Free Size)',\n",
       " 'Gradient, UV Protection Retro Square, Wayfarer Sunglass...',\n",
       " 'UV Protection Aviator Sunglasses (58)',\n",
       " 'UV Protection Aviator Sunglasses (58)',\n",
       " 'UV Protection, Polarized, Mirrored Wayfarer Sunglasses ...',\n",
       " 'Others Retro Square Sunglasses (Free Size)',\n",
       " 'Mirrored Aviator Sunglasses (55)',\n",
       " 'Mirrored, UV Protection Wayfarer Sunglasses (Free Size)',\n",
       " 'UV Protection Retro Square Sunglasses (Free Size)',\n",
       " 'Mirrored, UV Protection Wayfarer Sunglasses (57)',\n",
       " 'UV Protection Rectangular Sunglasses (55)',\n",
       " 'UV Protection, Mirrored Aviator Sunglasses (Free Size)',\n",
       " 'UV Protection, Gradient Retro Square Sunglasses (58)',\n",
       " 'UV Protection Retro Square Sunglasses (Free Size)',\n",
       " 'UV Protection Rectangular Sunglasses (55)',\n",
       " 'UV Protection Shield Sunglasses (Free Size)',\n",
       " 'UV Protection Wayfarer Sunglasses (53)',\n",
       " 'UV Protection Round Sunglasses (Free Size)',\n",
       " 'by Lenskart Polarized, UV Protection Wayfarer Sunglasse...',\n",
       " 'UV Protection, Gradient Rectangular Sunglasses (Free Si...',\n",
       " 'UV Protection Butterfly Sunglasses (60)',\n",
       " 'UV Protection Rectangular Sunglasses (Free Size)',\n",
       " 'UV Protection Rectangular Sunglasses (Free Size)',\n",
       " 'UV Protection, Gradient Oval Sunglasses (58)',\n",
       " 'UV Protection Rectangular Sunglasses (Free Size)',\n",
       " 'UV Protection Aviator Sunglasses (62)',\n",
       " 'Polarized, UV Protection Retro Square Sunglasses (Free ...',\n",
       " 'UV Protection, Gradient Retro Square Sunglasses (58)',\n",
       " 'UV Protection, Night Vision, Riding Glasses Sports Sung...',\n",
       " 'UV Protection Wayfarer Sunglasses (Free Size)',\n",
       " 'UV Protection, Polarized Wrap-around, Sports Sunglasses...',\n",
       " 'Gradient, UV Protection Aviator Sunglasses (55)',\n",
       " 'Mirrored Aviator Sunglasses (58)',\n",
       " 'UV Protection Round Sunglasses (53)',\n",
       " 'Toughened Glass Lens, UV Protection Aviator Sunglasses ...',\n",
       " 'UV Protection Oval Sunglasses (52)',\n",
       " 'Wayfarer Sunglasses (50)',\n",
       " 'UV Protection, Night Vision, Riding Glasses Aviator Sun...',\n",
       " 'UV Protection Round Sunglasses (Free Size)',\n",
       " 'UV Protection, Gradient Oval Sunglasses (58)',\n",
       " 'UV Protection Retro Square Sunglasses (58)',\n",
       " 'UV Protection, Gradient Butterfly, Over-sized Sunglasse...',\n",
       " 'Polarized, Riding Glasses, Night Vision Sports Sunglass...',\n",
       " 'UV Protection, Riding Glasses, Others Round Sunglasses ...',\n",
       " 'Mirrored, UV Protection Cat-eye Sunglasses (Free Size)',\n",
       " 'UV Protection, Riding Glasses Wayfarer Sunglasses (53)',\n",
       " 'by Lenskart Polarized, UV Protection Aviator Sunglasses...',\n",
       " 'Polarized Oval Sunglasses (Free Size)']"
      ]
     },
     "execution_count": 55,
     "metadata": {},
     "output_type": "execute_result"
    }
   ],
   "source": [
    "product_description[0:100]"
   ]
  },
  {
   "cell_type": "code",
   "execution_count": 56,
   "id": "20420595",
   "metadata": {},
   "outputs": [
    {
     "data": {
      "text/plain": [
       "['₹649',\n",
       " '₹649',\n",
       " '₹639',\n",
       " '₹699',\n",
       " '₹199',\n",
       " '₹280',\n",
       " '₹199',\n",
       " '₹319',\n",
       " '₹199',\n",
       " '₹264',\n",
       " '₹449',\n",
       " '₹719',\n",
       " '₹272',\n",
       " '₹599',\n",
       " '₹219',\n",
       " '₹629',\n",
       " '₹283',\n",
       " '₹299',\n",
       " '₹669',\n",
       " '₹410',\n",
       " '₹899',\n",
       " '₹989',\n",
       " '₹299',\n",
       " '₹599',\n",
       " '₹314',\n",
       " '₹739',\n",
       " '₹719',\n",
       " '₹195',\n",
       " '₹699',\n",
       " '₹639',\n",
       " '₹287',\n",
       " '₹195',\n",
       " '₹332',\n",
       " '₹213',\n",
       " '₹259',\n",
       " '₹449',\n",
       " '₹3,639',\n",
       " '₹629',\n",
       " '₹669',\n",
       " '₹681',\n",
       " '₹683',\n",
       " '₹759',\n",
       " '₹279',\n",
       " '₹359',\n",
       " '₹195',\n",
       " '₹359',\n",
       " '₹207',\n",
       " '₹999',\n",
       " '₹531',\n",
       " '₹720',\n",
       " '₹449',\n",
       " '₹249',\n",
       " '₹279',\n",
       " '₹207',\n",
       " '₹1,025',\n",
       " '₹307',\n",
       " '₹283',\n",
       " '₹439',\n",
       " '₹359',\n",
       " '₹269',\n",
       " '₹341',\n",
       " '₹769',\n",
       " '₹330',\n",
       " '₹269',\n",
       " '₹387',\n",
       " '₹449',\n",
       " '₹189',\n",
       " '₹789',\n",
       " '₹221',\n",
       " '₹265',\n",
       " '₹719',\n",
       " '₹359',\n",
       " '₹360',\n",
       " '₹160',\n",
       " '₹299',\n",
       " '₹387',\n",
       " '₹189',\n",
       " '₹519',\n",
       " '₹303',\n",
       " '₹387',\n",
       " '₹253',\n",
       " '₹331',\n",
       " '₹683',\n",
       " '₹7,079',\n",
       " '₹1,529',\n",
       " '₹293',\n",
       " '₹618',\n",
       " '₹499',\n",
       " '₹8,429',\n",
       " '₹279',\n",
       " '₹299',\n",
       " '₹387',\n",
       " '₹449',\n",
       " '₹504',\n",
       " '₹499',\n",
       " '₹259',\n",
       " '₹479',\n",
       " '₹231',\n",
       " '₹1,008',\n",
       " '₹4,831']"
      ]
     },
     "execution_count": 56,
     "metadata": {},
     "output_type": "execute_result"
    }
   ],
   "source": [
    "price[0:100]"
   ]
  },
  {
   "cell_type": "code",
   "execution_count": 57,
   "id": "4031616f",
   "metadata": {},
   "outputs": [
    {
     "data": {
      "text/plain": [
       "['45% off',\n",
       " '45% off',\n",
       " '20% off',\n",
       " '30% off',\n",
       " '84% off',\n",
       " '88% off',\n",
       " '87% off',\n",
       " '87% off',\n",
       " '87% off',\n",
       " '89% off',\n",
       " '77% off',\n",
       " '64% off',\n",
       " '89% off',\n",
       " '40% off',\n",
       " '86% off',\n",
       " '21% off',\n",
       " '78% off',\n",
       " '88% off',\n",
       " '81% off',\n",
       " '84% off',\n",
       " '30% off',\n",
       " '23% off',\n",
       " '81% off',\n",
       " '25% off',\n",
       " '84% off',\n",
       " '81% off',\n",
       " '64% off',\n",
       " '88% off',\n",
       " '22% off',\n",
       " '20% off',\n",
       " '80% off',\n",
       " '80% off',\n",
       " '83% off',\n",
       " '82% off',\n",
       " '80% off',\n",
       " '79% off',\n",
       " '33% off',\n",
       " '30% off',\n",
       " '81% off',\n",
       " '81% off',\n",
       " '65% off',\n",
       " '15% off',\n",
       " '86% off',\n",
       " '76% off',\n",
       " '80% off',\n",
       " '82% off',\n",
       " '79% off',\n",
       " '61% off',\n",
       " '73% off',\n",
       " '63% off',\n",
       " '54% off',\n",
       " '79% off',\n",
       " '78% off',\n",
       " '88% off',\n",
       " '21% off',\n",
       " '88% off',\n",
       " '78% off',\n",
       " '59% off',\n",
       " '76% off',\n",
       " '82% off',\n",
       " '82% off',\n",
       " '82% off',\n",
       " '83% off',\n",
       " '85% off',\n",
       " '74% off',\n",
       " '80% off',\n",
       " '85% off',\n",
       " '12% off',\n",
       " '77% off',\n",
       " '79% off',\n",
       " '64% off',\n",
       " '82% off',\n",
       " '86% off',\n",
       " '83% off',\n",
       " '70% off',\n",
       " '74% off',\n",
       " '88% off',\n",
       " '79% off',\n",
       " '76% off',\n",
       " '74% off',\n",
       " '67% off',\n",
       " '81% off',\n",
       " '65% off',\n",
       " '12% off',\n",
       " '45% off',\n",
       " '87% off',\n",
       " '83% off',\n",
       " '64% off',\n",
       " '12% off',\n",
       " '86% off',\n",
       " '80% off',\n",
       " '74% off',\n",
       " '70% off',\n",
       " '76% off',\n",
       " '78% off',\n",
       " '80% off',\n",
       " '59% off',\n",
       " '88% off',\n",
       " '49% off',\n",
       " '46% off']"
      ]
     },
     "execution_count": 57,
     "metadata": {},
     "output_type": "execute_result"
    }
   ],
   "source": [
    "discount[0:100]"
   ]
  },
  {
   "cell_type": "code",
   "execution_count": null,
   "id": "e73a9694",
   "metadata": {},
   "outputs": [],
   "source": []
  },
  {
   "cell_type": "code",
   "execution_count": 3,
   "id": "97a5ea87",
   "metadata": {},
   "outputs": [],
   "source": [
    "#Q.5............\n",
    "driver = webdriver.Chrome(\"chromedriver.exe\")\n",
    "time.sleep(2)"
   ]
  },
  {
   "cell_type": "code",
   "execution_count": 4,
   "id": "1c6ded9a",
   "metadata": {},
   "outputs": [],
   "source": [
    "driver.get('https://www.flipkart.com/')"
   ]
  },
  {
   "cell_type": "code",
   "execution_count": 5,
   "id": "52c895a4",
   "metadata": {},
   "outputs": [],
   "source": [
    "search_field=driver.find_element_by_xpath('//*[@id=\"container\"]/div/div[1]/div[1]/div[2]/div[2]/form/div/div/input')\n",
    "search_field.send_keys(\"iphone11\")"
   ]
  },
  {
   "cell_type": "code",
   "execution_count": 6,
   "id": "f5904bbe",
   "metadata": {},
   "outputs": [],
   "source": [
    "search_button=driver.find_element_by_xpath('//button[@class=\"L0Z3Pu\"]')\n",
    "search_button.click()"
   ]
  },
  {
   "cell_type": "code",
   "execution_count": 7,
   "id": "3341483b",
   "metadata": {},
   "outputs": [],
   "source": [
    "driver.get(\"https://www.flipkart.com/apple-iphone-11-black-64-gb-includes-earpods-power-adapter/product-reviews/itm0f37c2240b217?pid=MOBFKCTSVZAXUHGR&lid=LSTMOBFKCTSVZAXUHGREPBFGI&marketplace=FLIPKART\")\n",
    "\n"
   ]
  },
  {
   "cell_type": "code",
   "execution_count": 8,
   "id": "badfbd33",
   "metadata": {},
   "outputs": [],
   "source": [
    "rating=[]\n",
    "review=[]\n",
    "full_review=[]"
   ]
  },
  {
   "cell_type": "code",
   "execution_count": 9,
   "id": "d90a084f",
   "metadata": {},
   "outputs": [],
   "source": [
    "for i in range(0,10):\n",
    "    rating_tags=driver.find_elements_by_xpath('//div[@class=\"_3LWZlK _1BLPMq\"]')\n",
    "    for i in rating_tags:\n",
    "        rtng=i.text\n",
    "        rating.append(rtng)\n",
    "\n",
    "    review_tags=driver.find_elements_by_xpath('//p[@class=\"_2-N8zT\"]')\n",
    "    for i in review_tags:\n",
    "        rvw=i.text\n",
    "        review.append(rvw)\n",
    "\n",
    "    fullreview_tags=driver.find_elements_by_xpath('//div[@class=\"t-ZTKy\"]')      \n",
    "    for i in fullreview_tags:\n",
    "        fr=i.text\n",
    "        full_review.append(fr)\n",
    " \n",
    "   \n",
    "    next_button=driver.find_element_by_xpath('//a[@class=\"_1LKTO3\"]')\n",
    "    next_button.click()\n",
    "    time.sleep(5)\n",
    "   "
   ]
  },
  {
   "cell_type": "code",
   "execution_count": 10,
   "id": "c3d2ea7f",
   "metadata": {},
   "outputs": [
    {
     "data": {
      "text/plain": [
       "['Really satisfied with the Product I received... It’s totally genuine and the packaging was also really good so if ur planning to buy just go for it.',\n",
       " 'Great iPhone very snappy experience as apple kind. Upgraded from iPhone 7.\\nPros\\n-Camera top class\\n- Battery top performed\\n-Chipset no need to say as apple kind\\n-Security as you expect from apple\\n- Display super bright industry leading colour\\naccuracy and super responsive\\n-Build quality as expect from apple sturdy\\npremium durable beautiful stylish.\\n-Os most stable os in smartphone industry\\n\\nCons\\n-No 5G\\n-Display is not based on OLED technology\\n-Charger headphones and 1 apple stic...\\nREAD MORE',\n",
       " 'Amazing phone with great cameras and better battery which gives you the best performance. I just love the camera .',\n",
       " 'Previously I was using one plus 3t it was a great phone\\nAnd then I decided to upgrade I am stuck between Samsung s10 plus or iPhone 11\\nI have seen the specs and everything were good except the display it’s somewhere between 720-1080 and it’s not even an amoled it’s an LCD display\\nBut I decided to go with iPhone because I have never used an IOS device I have Been an android user from the past 9 years I ordered IPhone 11 (128gb) product red\\nMy experience after using 3 weeks\\n1. The delivery ...\\nREAD MORE',\n",
       " 'This is my first iOS phone. I am very happy with this product. Very much satisfied with this. I love this phone.',\n",
       " 'What a camera .....just awesome ..you can feel this iPhone just awesome . Good for gaming also ...try pubg in hd it’s just wow',\n",
       " 'Amazing Powerful and Durable Gadget.\\n\\nI’m am very happy with the camera picture quality, Amazing face id unlocked in dark room, Strong battery with perfect screen size as you can carry easily in pocket. This is my third iPhone.\\n\\nI shifted from android Samsung Note series to iPhone because of the strong build quality and peace of mind for next 3-4 years.\\n\\nDon’t think to much just go for it and I suggest you to go for minimum 128gb variant or more 256gb.\\n\\nI’ve attached my puppy pics and no fi...\\nREAD MORE',\n",
       " 'i11 is worthy to buy, too much happy with the product. Thank u flipkart I received the item on time..loved it..',\n",
       " 'So far it’s been an AMAZING experience coming back to iOS after nearly a decade but it’s not as versatile as android though phone is sturdy dropped it accidentally a couple of times and nothing happened fortunately camera is awesome',\n",
       " 'iphone 11 is a very good phone to buy only if you can compromise for the display. The display on this is device is pretty good but you can get other options with better displays in this price segment.\\nIf you can survive with an HD+ LCD panel with thicker bezels and a notch up top then this is a very good phone for you.\\nCameras are awesome, battery backup excellent, great performance and a decent premium look. Good job Apple !',\n",
       " 'Really satisfied with the Product I received... It’s totally genuine and the packaging was also really good so if ur planning to buy just go for it.',\n",
       " 'Great iPhone very snappy experience as apple kind. Upgraded from iPhone 7.\\nPros\\n-Camera top class\\n- Battery top performed\\n-Chipset no need to say as apple kind\\n-Security as you expect from apple\\n- Display super bright industry leading colour\\naccuracy and super responsive\\n-Build quality as expect from apple sturdy\\npremium durable beautiful stylish.\\n-Os most stable os in smartphone industry\\n\\nCons\\n-No 5G\\n-Display is not based on OLED technology\\n-Charger headphones and 1 apple stic...\\nREAD MORE',\n",
       " 'Amazing phone with great cameras and better battery which gives you the best performance. I just love the camera .',\n",
       " 'Previously I was using one plus 3t it was a great phone\\nAnd then I decided to upgrade I am stuck between Samsung s10 plus or iPhone 11\\nI have seen the specs and everything were good except the display it’s somewhere between 720-1080 and it’s not even an amoled it’s an LCD display\\nBut I decided to go with iPhone because I have never used an IOS device I have Been an android user from the past 9 years I ordered IPhone 11 (128gb) product red\\nMy experience after using 3 weeks\\n1. The delivery ...\\nREAD MORE',\n",
       " 'This is my first iOS phone. I am very happy with this product. Very much satisfied with this. I love this phone.',\n",
       " 'What a camera .....just awesome ..you can feel this iPhone just awesome . Good for gaming also ...try pubg in hd it’s just wow',\n",
       " 'Amazing Powerful and Durable Gadget.\\n\\nI’m am very happy with the camera picture quality, Amazing face id unlocked in dark room, Strong battery with perfect screen size as you can carry easily in pocket. This is my third iPhone.\\n\\nI shifted from android Samsung Note series to iPhone because of the strong build quality and peace of mind for next 3-4 years.\\n\\nDon’t think to much just go for it and I suggest you to go for minimum 128gb variant or more 256gb.\\n\\nI’ve attached my puppy pics and no fi...\\nREAD MORE',\n",
       " 'i11 is worthy to buy, too much happy with the product. Thank u flipkart I received the item on time..loved it..',\n",
       " 'So far it’s been an AMAZING experience coming back to iOS after nearly a decade but it’s not as versatile as android though phone is sturdy dropped it accidentally a couple of times and nothing happened fortunately camera is awesome',\n",
       " 'iphone 11 is a very good phone to buy only if you can compromise for the display. The display on this is device is pretty good but you can get other options with better displays in this price segment.\\nIf you can survive with an HD+ LCD panel with thicker bezels and a notch up top then this is a very good phone for you.\\nCameras are awesome, battery backup excellent, great performance and a decent premium look. Good job Apple !',\n",
       " \"It's my first time to use iOS phone and I am loving my upgradation 😍😍 I love the color, I love the assebility of the phone....I need to learn more about its functionality, but as far as I have seen, it's quite easy and it has a lot of functions to work on, specially if you are a content writer or a blogger you get a lot of content creation platforms and they are really amazing.\\n\\nThis phone not only for good quality photography but a lot of other task too.😍💯\",\n",
       " 'It’s a must buy who is looking for an upgrade from previous generation of iPhones. If you are using XR then still you can hold on for sometime and upgrade to 2020 model else this phone is a must buy . Camera quality is amazing and wide angle is something to count upon. Performance wise it’s amazing and feels premium while holding in hand. So a big YES for this device. Go for 128 GB variant as the 4K videos will occupy lots of space and the storage can get over very quickly. Try to buy it with...\\nREAD MORE',\n",
       " 'Value for money❤️❤️\\nIts awesome mobile phone in the world ...\\nDisplay was very good and bright ..\\nTrust me freinds you r never regret after Buying..\\nJust go for it....\\nI love this phone and i switch to iphone x to 11',\n",
       " 'Smooth like butter, camera like fantabulous, sound is crystal clear & its red color is damn attractive, i am just loving it. Must buy if you love photography.\\n\\nLucky to get it in sale, thank you Flipkart.',\n",
       " 'It is just awesome mobile for this price from Apple,\\n\\nAfter 10 days review\\n\\nBattery enough for 1 day even 24*7 Internet will be on and mostly internet usage\\n\\nCamera is just awesome cool , android 64 MP is equal to this just 12 MP\\n\\nA13 Bionic chip will give more high performance without hanging\\n\\nAudio stereo speakers will give Dolby atoms sound with crystal clear\\n\\nVideo recording is like cinematic shots of every sec can be a 4K 60fps. Just awesome this phone\\niPhone 11 loved one',\n",
       " \"Iphone is just awesome.. battery backup is very very nice.. continuously for 10 hours we can use it.camera is just awesome.. display is just fab.i love it alot..i had to wait 15 days for it as i pre ordered it..overalll it's worth the price..these all images are clicked by my iPhone..and i love it.\",\n",
       " 'Best budget Iphone till date ❤️ go for it guys without second thought. Let me explain you guys about Camera, Display, battery, and performance.\\n\\nCamera: at this price range there is no comparison of camera, you’ll love the picture quality as well as video quality. I am a Vlogger I wanted an iPhone with 4k video by front camera and I got this phone and I am more than happy 😃\\n\\nBattery: I use this phone roughly as I am active social media person and I have a youtube channel. so the battery ba...\\nREAD MORE',\n",
       " 'Really worth of money. i just love it. It is the best phone ever.',\n",
       " 'Excellent camera, good performance, no lag. The lcd display is also good.. but difference come when we watch movie in prime and Netflix, the colours are not vibrant.. as we see in amoled display.. and the charger in box is of 5 watts.. takes more than 3 hours to charge from 0 to 100.. so guys be prepare to buy 18 watts charger . Finally I am an android user, it was my first Iapple phone, I promise u guys the iOS is so smooth.. overall the phone is damn good.... close eyes to buy it.. thanks t...\\nREAD MORE',\n",
       " 'Totally in love with this ❤ the camera quality is amazing just love it 😘😘😘 itsss dammnnnnnn amazing... Must buy iPhone 11 this is my best experience ever ☀👌👌🧡🧡🧡🧡🧡 thanku apple ❤',\n",
       " \"It's my first time to use iOS phone and I am loving my upgradation 😍😍 I love the color, I love the assebility of the phone....I need to learn more about its functionality, but as far as I have seen, it's quite easy and it has a lot of functions to work on, specially if you are a content writer or a blogger you get a lot of content creation platforms and they are really amazing.\\n\\nThis phone not only for good quality photography but a lot of other task too.😍💯\",\n",
       " 'It’s a must buy who is looking for an upgrade from previous generation of iPhones. If you are using XR then still you can hold on for sometime and upgrade to 2020 model else this phone is a must buy . Camera quality is amazing and wide angle is something to count upon. Performance wise it’s amazing and feels premium while holding in hand. So a big YES for this device. Go for 128 GB variant as the 4K videos will occupy lots of space and the storage can get over very quickly. Try to buy it with...\\nREAD MORE',\n",
       " 'Value for money❤️❤️\\nIts awesome mobile phone in the world ...\\nDisplay was very good and bright ..\\nTrust me freinds you r never regret after Buying..\\nJust go for it....\\nI love this phone and i switch to iphone x to 11',\n",
       " 'Smooth like butter, camera like fantabulous, sound is crystal clear & its red color is damn attractive, i am just loving it. Must buy if you love photography.\\n\\nLucky to get it in sale, thank you Flipkart.',\n",
       " 'It is just awesome mobile for this price from Apple,\\n\\nAfter 10 days review\\n\\nBattery enough for 1 day even 24*7 Internet will be on and mostly internet usage\\n\\nCamera is just awesome cool , android 64 MP is equal to this just 12 MP\\n\\nA13 Bionic chip will give more high performance without hanging\\n\\nAudio stereo speakers will give Dolby atoms sound with crystal clear\\n\\nVideo recording is like cinematic shots of every sec can be a 4K 60fps. Just awesome this phone\\niPhone 11 loved one',\n",
       " \"Iphone is just awesome.. battery backup is very very nice.. continuously for 10 hours we can use it.camera is just awesome.. display is just fab.i love it alot..i had to wait 15 days for it as i pre ordered it..overalll it's worth the price..these all images are clicked by my iPhone..and i love it.\",\n",
       " 'Best budget Iphone till date ❤️ go for it guys without second thought. Let me explain you guys about Camera, Display, battery, and performance.\\n\\nCamera: at this price range there is no comparison of camera, you’ll love the picture quality as well as video quality. I am a Vlogger I wanted an iPhone with 4k video by front camera and I got this phone and I am more than happy 😃\\n\\nBattery: I use this phone roughly as I am active social media person and I have a youtube channel. so the battery ba...\\nREAD MORE',\n",
       " 'Really worth of money. i just love it. It is the best phone ever.',\n",
       " 'Excellent camera, good performance, no lag. The lcd display is also good.. but difference come when we watch movie in prime and Netflix, the colours are not vibrant.. as we see in amoled display.. and the charger in box is of 5 watts.. takes more than 3 hours to charge from 0 to 100.. so guys be prepare to buy 18 watts charger . Finally I am an android user, it was my first Iapple phone, I promise u guys the iOS is so smooth.. overall the phone is damn good.... close eyes to buy it.. thanks t...\\nREAD MORE',\n",
       " 'Totally in love with this ❤ the camera quality is amazing just love it 😘😘😘 itsss dammnnnnnn amazing... Must buy iPhone 11 this is my best experience ever ☀👌👌🧡🧡🧡🧡🧡 thanku apple ❤',\n",
       " 'Really satisfied with the Product I received... It’s totally genuine and the packaging was also really good so if ur planning to buy just go for it.',\n",
       " 'Great iPhone very snappy experience as apple kind. Upgraded from iPhone 7.\\nPros\\n-Camera top class\\n- Battery top performed\\n-Chipset no need to say as apple kind\\n-Security as you expect from apple\\n- Display super bright industry leading colour\\naccuracy and super responsive\\n-Build quality as expect from apple sturdy\\npremium durable beautiful stylish.\\n-Os most stable os in smartphone industry\\n\\nCons\\n-No 5G\\n-Display is not based on OLED technology\\n-Charger headphones and 1 apple stic...\\nREAD MORE',\n",
       " 'Amazing phone with great cameras and better battery which gives you the best performance. I just love the camera .',\n",
       " 'Previously I was using one plus 3t it was a great phone\\nAnd then I decided to upgrade I am stuck between Samsung s10 plus or iPhone 11\\nI have seen the specs and everything were good except the display it’s somewhere between 720-1080 and it’s not even an amoled it’s an LCD display\\nBut I decided to go with iPhone because I have never used an IOS device I have Been an android user from the past 9 years I ordered IPhone 11 (128gb) product red\\nMy experience after using 3 weeks\\n1. The delivery ...\\nREAD MORE',\n",
       " 'What a camera .....just awesome ..you can feel this iPhone just awesome . Good for gaming also ...try pubg in hd it’s just wow',\n",
       " 'This is my first iOS phone. I am very happy with this product. Very much satisfied with this. I love this phone.',\n",
       " 'Amazing Powerful and Durable Gadget.\\n\\nI’m am very happy with the camera picture quality, Amazing face id unlocked in dark room, Strong battery with perfect screen size as you can carry easily in pocket. This is my third iPhone.\\n\\nI shifted from android Samsung Note series to iPhone because of the strong build quality and peace of mind for next 3-4 years.\\n\\nDon’t think to much just go for it and I suggest you to go for minimum 128gb variant or more 256gb.\\n\\nI’ve attached my puppy pics and no fi...\\nREAD MORE',\n",
       " 'i11 is worthy to buy, too much happy with the product. Thank u flipkart I received the item on time..loved it..',\n",
       " 'So far it’s been an AMAZING experience coming back to iOS after nearly a decade but it’s not as versatile as android though phone is sturdy dropped it accidentally a couple of times and nothing happened fortunately camera is awesome',\n",
       " 'iphone 11 is a very good phone to buy only if you can compromise for the display. The display on this is device is pretty good but you can get other options with better displays in this price segment.\\nIf you can survive with an HD+ LCD panel with thicker bezels and a notch up top then this is a very good phone for you.\\nCameras are awesome, battery backup excellent, great performance and a decent premium look. Good job Apple !',\n",
       " \"It's my first time to use iOS phone and I am loving my upgradation 😍😍 I love the color, I love the assebility of the phone....I need to learn more about its functionality, but as far as I have seen, it's quite easy and it has a lot of functions to work on, specially if you are a content writer or a blogger you get a lot of content creation platforms and they are really amazing.\\n\\nThis phone not only for good quality photography but a lot of other task too.😍💯\",\n",
       " 'It’s a must buy who is looking for an upgrade from previous generation of iPhones. If you are using XR then still you can hold on for sometime and upgrade to 2020 model else this phone is a must buy . Camera quality is amazing and wide angle is something to count upon. Performance wise it’s amazing and feels premium while holding in hand. So a big YES for this device. Go for 128 GB variant as the 4K videos will occupy lots of space and the storage can get over very quickly. Try to buy it with...\\nREAD MORE',\n",
       " 'Value for money❤️❤️\\nIts awesome mobile phone in the world ...\\nDisplay was very good and bright ..\\nTrust me freinds you r never regret after Buying..\\nJust go for it....\\nI love this phone and i switch to iphone x to 11',\n",
       " 'Smooth like butter, camera like fantabulous, sound is crystal clear & its red color is damn attractive, i am just loving it. Must buy if you love photography.\\n\\nLucky to get it in sale, thank you Flipkart.',\n",
       " 'It is just awesome mobile for this price from Apple,\\n\\nAfter 10 days review\\n\\nBattery enough for 1 day even 24*7 Internet will be on and mostly internet usage\\n\\nCamera is just awesome cool , android 64 MP is equal to this just 12 MP\\n\\nA13 Bionic chip will give more high performance without hanging\\n\\nAudio stereo speakers will give Dolby atoms sound with crystal clear\\n\\nVideo recording is like cinematic shots of every sec can be a 4K 60fps. Just awesome this phone\\niPhone 11 loved one',\n",
       " \"Iphone is just awesome.. battery backup is very very nice.. continuously for 10 hours we can use it.camera is just awesome.. display is just fab.i love it alot..i had to wait 15 days for it as i pre ordered it..overalll it's worth the price..these all images are clicked by my iPhone..and i love it.\",\n",
       " 'Best budget Iphone till date ❤️ go for it guys without second thought. Let me explain you guys about Camera, Display, battery, and performance.\\n\\nCamera: at this price range there is no comparison of camera, you’ll love the picture quality as well as video quality. I am a Vlogger I wanted an iPhone with 4k video by front camera and I got this phone and I am more than happy 😃\\n\\nBattery: I use this phone roughly as I am active social media person and I have a youtube channel. so the battery ba...\\nREAD MORE',\n",
       " 'Really worth of money. i just love it. It is the best phone ever.',\n",
       " 'Excellent camera, good performance, no lag. The lcd display is also good.. but difference come when we watch movie in prime and Netflix, the colours are not vibrant.. as we see in amoled display.. and the charger in box is of 5 watts.. takes more than 3 hours to charge from 0 to 100.. so guys be prepare to buy 18 watts charger . Finally I am an android user, it was my first Iapple phone, I promise u guys the iOS is so smooth.. overall the phone is damn good.... close eyes to buy it.. thanks t...\\nREAD MORE',\n",
       " 'Totally in love with this ❤ the camera quality is amazing just love it 😘😘😘 itsss dammnnnnnn amazing... Must buy iPhone 11 this is my best experience ever ☀👌👌🧡🧡🧡🧡🧡 thanku apple ❤',\n",
       " 'Really satisfied with the Product I received... It’s totally genuine and the packaging was also really good so if ur planning to buy just go for it.',\n",
       " 'Great iPhone very snappy experience as apple kind. Upgraded from iPhone 7.\\nPros\\n-Camera top class\\n- Battery top performed\\n-Chipset no need to say as apple kind\\n-Security as you expect from apple\\n- Display super bright industry leading colour\\naccuracy and super responsive\\n-Build quality as expect from apple sturdy\\npremium durable beautiful stylish.\\n-Os most stable os in smartphone industry\\n\\nCons\\n-No 5G\\n-Display is not based on OLED technology\\n-Charger headphones and 1 apple stic...\\nREAD MORE',\n",
       " 'Amazing phone with great cameras and better battery which gives you the best performance. I just love the camera .',\n",
       " 'Previously I was using one plus 3t it was a great phone\\nAnd then I decided to upgrade I am stuck between Samsung s10 plus or iPhone 11\\nI have seen the specs and everything were good except the display it’s somewhere between 720-1080 and it’s not even an amoled it’s an LCD display\\nBut I decided to go with iPhone because I have never used an IOS device I have Been an android user from the past 9 years I ordered IPhone 11 (128gb) product red\\nMy experience after using 3 weeks\\n1. The delivery ...\\nREAD MORE',\n",
       " 'What a camera .....just awesome ..you can feel this iPhone just awesome . Good for gaming also ...try pubg in hd it’s just wow',\n",
       " 'This is my first iOS phone. I am very happy with this product. Very much satisfied with this. I love this phone.',\n",
       " 'Amazing Powerful and Durable Gadget.\\n\\nI’m am very happy with the camera picture quality, Amazing face id unlocked in dark room, Strong battery with perfect screen size as you can carry easily in pocket. This is my third iPhone.\\n\\nI shifted from android Samsung Note series to iPhone because of the strong build quality and peace of mind for next 3-4 years.\\n\\nDon’t think to much just go for it and I suggest you to go for minimum 128gb variant or more 256gb.\\n\\nI’ve attached my puppy pics and no fi...\\nREAD MORE',\n",
       " 'i11 is worthy to buy, too much happy with the product. Thank u flipkart I received the item on time..loved it..',\n",
       " 'So far it’s been an AMAZING experience coming back to iOS after nearly a decade but it’s not as versatile as android though phone is sturdy dropped it accidentally a couple of times and nothing happened fortunately camera is awesome',\n",
       " 'iphone 11 is a very good phone to buy only if you can compromise for the display. The display on this is device is pretty good but you can get other options with better displays in this price segment.\\nIf you can survive with an HD+ LCD panel with thicker bezels and a notch up top then this is a very good phone for you.\\nCameras are awesome, battery backup excellent, great performance and a decent premium look. Good job Apple !',\n",
       " \"It's my first time to use iOS phone and I am loving my upgradation 😍😍 I love the color, I love the assebility of the phone....I need to learn more about its functionality, but as far as I have seen, it's quite easy and it has a lot of functions to work on, specially if you are a content writer or a blogger you get a lot of content creation platforms and they are really amazing.\\n\\nThis phone not only for good quality photography but a lot of other task too.😍💯\",\n",
       " 'It’s a must buy who is looking for an upgrade from previous generation of iPhones. If you are using XR then still you can hold on for sometime and upgrade to 2020 model else this phone is a must buy . Camera quality is amazing and wide angle is something to count upon. Performance wise it’s amazing and feels premium while holding in hand. So a big YES for this device. Go for 128 GB variant as the 4K videos will occupy lots of space and the storage can get over very quickly. Try to buy it with...\\nREAD MORE',\n",
       " 'Value for money❤️❤️\\nIts awesome mobile phone in the world ...\\nDisplay was very good and bright ..\\nTrust me freinds you r never regret after Buying..\\nJust go for it....\\nI love this phone and i switch to iphone x to 11',\n",
       " 'Smooth like butter, camera like fantabulous, sound is crystal clear & its red color is damn attractive, i am just loving it. Must buy if you love photography.\\n\\nLucky to get it in sale, thank you Flipkart.',\n",
       " 'It is just awesome mobile for this price from Apple,\\n\\nAfter 10 days review\\n\\nBattery enough for 1 day even 24*7 Internet will be on and mostly internet usage\\n\\nCamera is just awesome cool , android 64 MP is equal to this just 12 MP\\n\\nA13 Bionic chip will give more high performance without hanging\\n\\nAudio stereo speakers will give Dolby atoms sound with crystal clear\\n\\nVideo recording is like cinematic shots of every sec can be a 4K 60fps. Just awesome this phone\\niPhone 11 loved one',\n",
       " \"Iphone is just awesome.. battery backup is very very nice.. continuously for 10 hours we can use it.camera is just awesome.. display is just fab.i love it alot..i had to wait 15 days for it as i pre ordered it..overalll it's worth the price..these all images are clicked by my iPhone..and i love it.\",\n",
       " 'Best budget Iphone till date ❤️ go for it guys without second thought. Let me explain you guys about Camera, Display, battery, and performance.\\n\\nCamera: at this price range there is no comparison of camera, you’ll love the picture quality as well as video quality. I am a Vlogger I wanted an iPhone with 4k video by front camera and I got this phone and I am more than happy 😃\\n\\nBattery: I use this phone roughly as I am active social media person and I have a youtube channel. so the battery ba...\\nREAD MORE',\n",
       " 'Really worth of money. i just love it. It is the best phone ever.',\n",
       " 'Excellent camera, good performance, no lag. The lcd display is also good.. but difference come when we watch movie in prime and Netflix, the colours are not vibrant.. as we see in amoled display.. and the charger in box is of 5 watts.. takes more than 3 hours to charge from 0 to 100.. so guys be prepare to buy 18 watts charger . Finally I am an android user, it was my first Iapple phone, I promise u guys the iOS is so smooth.. overall the phone is damn good.... close eyes to buy it.. thanks t...\\nREAD MORE',\n",
       " 'Totally in love with this ❤ the camera quality is amazing just love it 😘😘😘 itsss dammnnnnnn amazing... Must buy iPhone 11 this is my best experience ever ☀👌👌🧡🧡🧡🧡🧡 thanku apple ❤',\n",
       " 'Really satisfied with the Product I received... It’s totally genuine and the packaging was also really good so if ur planning to buy just go for it.',\n",
       " 'Great iPhone very snappy experience as apple kind. Upgraded from iPhone 7.\\nPros\\n-Camera top class\\n- Battery top performed\\n-Chipset no need to say as apple kind\\n-Security as you expect from apple\\n- Display super bright industry leading colour\\naccuracy and super responsive\\n-Build quality as expect from apple sturdy\\npremium durable beautiful stylish.\\n-Os most stable os in smartphone industry\\n\\nCons\\n-No 5G\\n-Display is not based on OLED technology\\n-Charger headphones and 1 apple stic...\\nREAD MORE',\n",
       " 'Amazing phone with great cameras and better battery which gives you the best performance. I just love the camera .',\n",
       " 'Previously I was using one plus 3t it was a great phone\\nAnd then I decided to upgrade I am stuck between Samsung s10 plus or iPhone 11\\nI have seen the specs and everything were good except the display it’s somewhere between 720-1080 and it’s not even an amoled it’s an LCD display\\nBut I decided to go with iPhone because I have never used an IOS device I have Been an android user from the past 9 years I ordered IPhone 11 (128gb) product red\\nMy experience after using 3 weeks\\n1. The delivery ...\\nREAD MORE',\n",
       " 'What a camera .....just awesome ..you can feel this iPhone just awesome . Good for gaming also ...try pubg in hd it’s just wow',\n",
       " 'This is my first iOS phone. I am very happy with this product. Very much satisfied with this. I love this phone.',\n",
       " 'Amazing Powerful and Durable Gadget.\\n\\nI’m am very happy with the camera picture quality, Amazing face id unlocked in dark room, Strong battery with perfect screen size as you can carry easily in pocket. This is my third iPhone.\\n\\nI shifted from android Samsung Note series to iPhone because of the strong build quality and peace of mind for next 3-4 years.\\n\\nDon’t think to much just go for it and I suggest you to go for minimum 128gb variant or more 256gb.\\n\\nI’ve attached my puppy pics and no fi...\\nREAD MORE',\n",
       " 'i11 is worthy to buy, too much happy with the product. Thank u flipkart I received the item on time..loved it..',\n",
       " 'So far it’s been an AMAZING experience coming back to iOS after nearly a decade but it’s not as versatile as android though phone is sturdy dropped it accidentally a couple of times and nothing happened fortunately camera is awesome',\n",
       " 'iphone 11 is a very good phone to buy only if you can compromise for the display. The display on this is device is pretty good but you can get other options with better displays in this price segment.\\nIf you can survive with an HD+ LCD panel with thicker bezels and a notch up top then this is a very good phone for you.\\nCameras are awesome, battery backup excellent, great performance and a decent premium look. Good job Apple !',\n",
       " \"It's my first time to use iOS phone and I am loving my upgradation 😍😍 I love the color, I love the assebility of the phone....I need to learn more about its functionality, but as far as I have seen, it's quite easy and it has a lot of functions to work on, specially if you are a content writer or a blogger you get a lot of content creation platforms and they are really amazing.\\n\\nThis phone not only for good quality photography but a lot of other task too.😍💯\",\n",
       " 'It’s a must buy who is looking for an upgrade from previous generation of iPhones. If you are using XR then still you can hold on for sometime and upgrade to 2020 model else this phone is a must buy . Camera quality is amazing and wide angle is something to count upon. Performance wise it’s amazing and feels premium while holding in hand. So a big YES for this device. Go for 128 GB variant as the 4K videos will occupy lots of space and the storage can get over very quickly. Try to buy it with...\\nREAD MORE',\n",
       " 'Value for money❤️❤️\\nIts awesome mobile phone in the world ...\\nDisplay was very good and bright ..\\nTrust me freinds you r never regret after Buying..\\nJust go for it....\\nI love this phone and i switch to iphone x to 11',\n",
       " 'Smooth like butter, camera like fantabulous, sound is crystal clear & its red color is damn attractive, i am just loving it. Must buy if you love photography.\\n\\nLucky to get it in sale, thank you Flipkart.',\n",
       " 'It is just awesome mobile for this price from Apple,\\n\\nAfter 10 days review\\n\\nBattery enough for 1 day even 24*7 Internet will be on and mostly internet usage\\n\\nCamera is just awesome cool , android 64 MP is equal to this just 12 MP\\n\\nA13 Bionic chip will give more high performance without hanging\\n\\nAudio stereo speakers will give Dolby atoms sound with crystal clear\\n\\nVideo recording is like cinematic shots of every sec can be a 4K 60fps. Just awesome this phone\\niPhone 11 loved one',\n",
       " \"Iphone is just awesome.. battery backup is very very nice.. continuously for 10 hours we can use it.camera is just awesome.. display is just fab.i love it alot..i had to wait 15 days for it as i pre ordered it..overalll it's worth the price..these all images are clicked by my iPhone..and i love it.\",\n",
       " 'Best budget Iphone till date ❤️ go for it guys without second thought. Let me explain you guys about Camera, Display, battery, and performance.\\n\\nCamera: at this price range there is no comparison of camera, you’ll love the picture quality as well as video quality. I am a Vlogger I wanted an iPhone with 4k video by front camera and I got this phone and I am more than happy 😃\\n\\nBattery: I use this phone roughly as I am active social media person and I have a youtube channel. so the battery ba...\\nREAD MORE',\n",
       " 'Really worth of money. i just love it. It is the best phone ever.',\n",
       " 'Excellent camera, good performance, no lag. The lcd display is also good.. but difference come when we watch movie in prime and Netflix, the colours are not vibrant.. as we see in amoled display.. and the charger in box is of 5 watts.. takes more than 3 hours to charge from 0 to 100.. so guys be prepare to buy 18 watts charger . Finally I am an android user, it was my first Iapple phone, I promise u guys the iOS is so smooth.. overall the phone is damn good.... close eyes to buy it.. thanks t...\\nREAD MORE',\n",
       " 'Totally in love with this ❤ the camera quality is amazing just love it 😘😘😘 itsss dammnnnnnn amazing... Must buy iPhone 11 this is my best experience ever ☀👌👌🧡🧡🧡🧡🧡 thanku apple ❤']"
      ]
     },
     "execution_count": 10,
     "metadata": {},
     "output_type": "execute_result"
    }
   ],
   "source": [
    "full_review[0:100]"
   ]
  },
  {
   "cell_type": "code",
   "execution_count": 11,
   "id": "919bae01",
   "metadata": {},
   "outputs": [
    {
     "data": {
      "text/plain": [
       "['Simply awesome',\n",
       " 'Best in the market!',\n",
       " 'Perfect product!',\n",
       " 'Worth every penny',\n",
       " 'Fabulous!',\n",
       " 'Highly recommended',\n",
       " 'Great product',\n",
       " 'Worth every penny',\n",
       " 'Good choice',\n",
       " 'Highly recommended',\n",
       " 'Simply awesome',\n",
       " 'Best in the market!',\n",
       " 'Perfect product!',\n",
       " 'Worth every penny',\n",
       " 'Fabulous!',\n",
       " 'Highly recommended',\n",
       " 'Great product',\n",
       " 'Worth every penny',\n",
       " 'Good choice',\n",
       " 'Highly recommended',\n",
       " 'Highly recommended',\n",
       " 'Perfect product!',\n",
       " 'Perfect product!',\n",
       " 'Worth every penny',\n",
       " 'Perfect product!',\n",
       " 'Perfect product!',\n",
       " 'Worth every penny',\n",
       " 'Terrific',\n",
       " 'Simply awesome',\n",
       " 'Classy product',\n",
       " 'Highly recommended',\n",
       " 'Perfect product!',\n",
       " 'Perfect product!',\n",
       " 'Worth every penny',\n",
       " 'Perfect product!',\n",
       " 'Perfect product!',\n",
       " 'Worth every penny',\n",
       " 'Terrific',\n",
       " 'Simply awesome',\n",
       " 'Classy product',\n",
       " 'Simply awesome',\n",
       " 'Best in the market!',\n",
       " 'Perfect product!',\n",
       " 'Worth every penny',\n",
       " 'Highly recommended',\n",
       " 'Fabulous!',\n",
       " 'Great product',\n",
       " 'Worth every penny',\n",
       " 'Good choice',\n",
       " 'Highly recommended',\n",
       " 'Highly recommended',\n",
       " 'Perfect product!',\n",
       " 'Perfect product!',\n",
       " 'Worth every penny',\n",
       " 'Perfect product!',\n",
       " 'Perfect product!',\n",
       " 'Worth every penny',\n",
       " 'Terrific',\n",
       " 'Simply awesome',\n",
       " 'Classy product',\n",
       " 'Simply awesome',\n",
       " 'Best in the market!',\n",
       " 'Perfect product!',\n",
       " 'Worth every penny',\n",
       " 'Highly recommended',\n",
       " 'Fabulous!',\n",
       " 'Great product',\n",
       " 'Worth every penny',\n",
       " 'Good choice',\n",
       " 'Highly recommended',\n",
       " 'Highly recommended',\n",
       " 'Perfect product!',\n",
       " 'Perfect product!',\n",
       " 'Worth every penny',\n",
       " 'Perfect product!',\n",
       " 'Perfect product!',\n",
       " 'Worth every penny',\n",
       " 'Terrific',\n",
       " 'Simply awesome',\n",
       " 'Classy product',\n",
       " 'Simply awesome',\n",
       " 'Best in the market!',\n",
       " 'Perfect product!',\n",
       " 'Worth every penny',\n",
       " 'Highly recommended',\n",
       " 'Fabulous!',\n",
       " 'Great product',\n",
       " 'Worth every penny',\n",
       " 'Good choice',\n",
       " 'Highly recommended',\n",
       " 'Highly recommended',\n",
       " 'Perfect product!',\n",
       " 'Perfect product!',\n",
       " 'Worth every penny',\n",
       " 'Perfect product!',\n",
       " 'Perfect product!',\n",
       " 'Worth every penny',\n",
       " 'Terrific',\n",
       " 'Simply awesome',\n",
       " 'Classy product']"
      ]
     },
     "execution_count": 11,
     "metadata": {},
     "output_type": "execute_result"
    }
   ],
   "source": [
    "review[0:100]"
   ]
  },
  {
   "cell_type": "code",
   "execution_count": 12,
   "id": "cdc454a1",
   "metadata": {},
   "outputs": [
    {
     "data": {
      "text/plain": [
       "['5',\n",
       " '5',\n",
       " '5',\n",
       " '5',\n",
       " '5',\n",
       " '5',\n",
       " '5',\n",
       " '5',\n",
       " '4',\n",
       " '5',\n",
       " '5',\n",
       " '5',\n",
       " '5',\n",
       " '5',\n",
       " '5',\n",
       " '5',\n",
       " '5',\n",
       " '5',\n",
       " '4',\n",
       " '5',\n",
       " '5',\n",
       " '5',\n",
       " '5',\n",
       " '5',\n",
       " '5',\n",
       " '5',\n",
       " '5',\n",
       " '5',\n",
       " '5',\n",
       " '5',\n",
       " '5',\n",
       " '5',\n",
       " '5',\n",
       " '5',\n",
       " '5',\n",
       " '5',\n",
       " '5',\n",
       " '5',\n",
       " '5',\n",
       " '5',\n",
       " '5',\n",
       " '5',\n",
       " '5',\n",
       " '5',\n",
       " '5',\n",
       " '5',\n",
       " '5',\n",
       " '5',\n",
       " '4',\n",
       " '5',\n",
       " '5',\n",
       " '5',\n",
       " '5',\n",
       " '5',\n",
       " '5',\n",
       " '5',\n",
       " '5',\n",
       " '5',\n",
       " '5',\n",
       " '5',\n",
       " '5',\n",
       " '5',\n",
       " '5',\n",
       " '5',\n",
       " '5',\n",
       " '5',\n",
       " '5',\n",
       " '5',\n",
       " '4',\n",
       " '5',\n",
       " '5',\n",
       " '5',\n",
       " '5',\n",
       " '5',\n",
       " '5',\n",
       " '5',\n",
       " '5',\n",
       " '5',\n",
       " '5',\n",
       " '5',\n",
       " '5',\n",
       " '5',\n",
       " '5',\n",
       " '5',\n",
       " '5',\n",
       " '5',\n",
       " '5',\n",
       " '5',\n",
       " '4',\n",
       " '5',\n",
       " '5',\n",
       " '5',\n",
       " '5',\n",
       " '5',\n",
       " '5',\n",
       " '5',\n",
       " '5',\n",
       " '5',\n",
       " '5',\n",
       " '5']"
      ]
     },
     "execution_count": 12,
     "metadata": {},
     "output_type": "execute_result"
    }
   ],
   "source": [
    "rating[0:100]"
   ]
  },
  {
   "cell_type": "code",
   "execution_count": 31,
   "id": "c2675172",
   "metadata": {},
   "outputs": [
    {
     "name": "stdout",
     "output_type": "stream",
     "text": [
      "100 100 100\n"
     ]
    }
   ],
   "source": [
    "print(len(rating),len(review),len(full_review))"
   ]
  },
  {
   "cell_type": "code",
   "execution_count": null,
   "id": "f2f5f688",
   "metadata": {},
   "outputs": [],
   "source": []
  },
  {
   "cell_type": "code",
   "execution_count": null,
   "id": "adcf8506",
   "metadata": {},
   "outputs": [],
   "source": [
    "#Q.6............\n",
    "driver = webdriver.Chrome(\"chromedriver.exe\")\n",
    "time.sleep(2)"
   ]
  },
  {
   "cell_type": "code",
   "execution_count": 129,
   "id": "66932747",
   "metadata": {},
   "outputs": [],
   "source": [
    "driver.get('https://www.flipkart.com/')"
   ]
  },
  {
   "cell_type": "code",
   "execution_count": 130,
   "id": "ab3a8ba0",
   "metadata": {},
   "outputs": [],
   "source": [
    "search_field=driver.find_element_by_xpath('//*[@id=\"container\"]/div/div[1]/div[1]/div[2]/div[2]/form/div/div/input')\n",
    "search_field.send_keys(\"sneakers\")"
   ]
  },
  {
   "cell_type": "code",
   "execution_count": 131,
   "id": "971b2b20",
   "metadata": {},
   "outputs": [],
   "source": [
    "search_button=driver.find_element_by_xpath('//button[@class=\"L0Z3Pu\"]')\n",
    "search_button.click()"
   ]
  },
  {
   "cell_type": "code",
   "execution_count": 132,
   "id": "383f01ba",
   "metadata": {},
   "outputs": [],
   "source": [
    "brand=[]\n",
    "product_description=[] \n",
    "price=[] \n",
    "discount=[]"
   ]
  },
  {
   "cell_type": "code",
   "execution_count": 133,
   "id": "2d4d5fc5",
   "metadata": {},
   "outputs": [],
   "source": [
    "for i in range(0,3):\n",
    "    \n",
    "    brand_tags=driver.find_elements_by_xpath('//div[@class=\"_2WkVRV\"]')                                                                                                                                                                                                  \n",
    "    for i in brand_tags:\n",
    "        brand.append(i.text)\n",
    "     \n",
    "    \n",
    "    prd_desc_tags=driver.find_elements_by_xpath('//a[@class=\"IRpwTa\"]')\n",
    "    for i in prd_desc_tags:\n",
    "        product_description.append(i.text)\n",
    "    \n",
    "\n",
    "    price_tags=driver.find_elements_by_xpath('//div[@class=\"_30jeq3\"]')      \n",
    "    for i in price_tags:\n",
    "        price.append(i.text)\n",
    "\n",
    "    discount_tags=driver.find_elements_by_xpath('//div[@class=\"_3Ay6Sb\"]')\n",
    "    for i in discount_tags:\n",
    "        discount.append(i.text)\n",
    "        \n",
    "    next_button=driver.find_element_by_xpath('//*[@id=\"container\"]/div/div[3]/div[1]/div[2]/div[12]/div/div/nav/a[11]')\n",
    "    next_button.click()\n",
    "    time.sleep(5)\n",
    "   "
   ]
  },
  {
   "cell_type": "code",
   "execution_count": 134,
   "id": "72d3fd7b",
   "metadata": {},
   "outputs": [
    {
     "name": "stdout",
     "output_type": "stream",
     "text": [
      "120 109 120 120\n"
     ]
    }
   ],
   "source": [
    "print(len(brand),len(product_description),len(price),len(discount))"
   ]
  },
  {
   "cell_type": "code",
   "execution_count": 135,
   "id": "a22fd424",
   "metadata": {},
   "outputs": [
    {
     "data": {
      "text/plain": [
       "['Layasa',\n",
       " 'BIRDE',\n",
       " 'Magnolia',\n",
       " 'Robbie jones',\n",
       " 'BRUTON',\n",
       " 'URBANBOX',\n",
       " 'Robbie jones',\n",
       " 'Labbin',\n",
       " 'BRUTON',\n",
       " 'BRUTON',\n",
       " 'Kraasa',\n",
       " 'D-SNEAKERZ',\n",
       " 'Robbie jones',\n",
       " 'PUMA',\n",
       " 'Robbie jones',\n",
       " 'ASTEROID',\n",
       " 'KWIK FIT',\n",
       " 'bluemaker',\n",
       " 'ADIDAS',\n",
       " 'corsac',\n",
       " 'CLYMB',\n",
       " 'Dicy',\n",
       " 'aadi',\n",
       " 'PUMA',\n",
       " 'ONECENTRE',\n",
       " 'HOTSTYLE',\n",
       " \"LEVI'S\",\n",
       " 'aadi',\n",
       " 'BRUTON',\n",
       " 'U.S. POLO ASSN.',\n",
       " 'Kraasa',\n",
       " 'Robbie jones',\n",
       " 'WROGN',\n",
       " 'Kzaara',\n",
       " 'Airland',\n",
       " 'ZF Klub',\n",
       " 'Echor',\n",
       " 'CAMPUS',\n",
       " 'Numenzo',\n",
       " 'Robbie jones',\n",
       " 'Skechers',\n",
       " 'SPARX',\n",
       " 'WHITE WALKERS',\n",
       " 'Layasa',\n",
       " 'asics',\n",
       " 'ASTEROID',\n",
       " 'Dizzler',\n",
       " 'Echor',\n",
       " 'KNIGHTWING',\n",
       " 'PUMA',\n",
       " 'U.S. POLO ASSN.',\n",
       " 'SCATCHITE',\n",
       " 'NAUTICA',\n",
       " 'Robbie jones',\n",
       " 'SPARX',\n",
       " 'Chevit',\n",
       " 'Kraasa',\n",
       " 'Numenzo',\n",
       " 'BIRDE',\n",
       " 'Roadster',\n",
       " 'WHITE WALKERS',\n",
       " 'corsac',\n",
       " 'PUMA',\n",
       " 'LE GREEM',\n",
       " \"LEVI'S\",\n",
       " 'WOODLAND',\n",
       " 'AMICO',\n",
       " 'BRUTON',\n",
       " 'Layasa',\n",
       " 'WHITE WALKERS',\n",
       " 'U.S. POLO ASSN.',\n",
       " 'NAUTICA',\n",
       " 'KNIGHT WALKERS',\n",
       " 'JACK & JONES',\n",
       " 'WOODLAND',\n",
       " 'Chevit',\n",
       " 'AKIMBO',\n",
       " 'CAMPUS',\n",
       " 'BIRDE',\n",
       " 'PUMA',\n",
       " 'RED TAPE',\n",
       " 'SPARX',\n",
       " 'Skechers',\n",
       " 'PUMA',\n",
       " \"LEVI'S\",\n",
       " 'BIRDE',\n",
       " 'T-ROCK',\n",
       " 'bacca bucci',\n",
       " 'CAMPUS',\n",
       " 'Old Skool',\n",
       " 'PUMA',\n",
       " 'SLAZENGER',\n",
       " 'FEWEYU',\n",
       " 'DUCATI',\n",
       " 'Z Blue',\n",
       " 'SLAZENGER',\n",
       " 'WROGN',\n",
       " 'ONECENTRE',\n",
       " 'SPARX',\n",
       " 'SPARX']"
      ]
     },
     "execution_count": 135,
     "metadata": {},
     "output_type": "execute_result"
    }
   ],
   "source": [
    "brand[0:100]"
   ]
  },
  {
   "cell_type": "code",
   "execution_count": 136,
   "id": "e9a20fdd",
   "metadata": {},
   "outputs": [
    {
     "data": {
      "text/plain": [
       "['Sneakers For Men',\n",
       " 'Stylish Comfortable Lightweight, Breathable Walking Sho...',\n",
       " 'Sneakers For Men',\n",
       " 'Casual Sneakers Canvas Shoes For Men Sneakers For Men',\n",
       " 'Modern Trendy Sneakers Shoes Sneakers For Men',\n",
       " 'Casual Sneakers Green Shoes For Men And Boys Sneakers F...',\n",
       " 'Sneakers For Men',\n",
       " 'Modern Trendy Sneakers Shoes Sneakers For Men',\n",
       " 'Lightweight Pack Of 1 Trendy Sneakers Sneakers For Men',\n",
       " 'Shark-41 Sneakers For Men',\n",
       " \"Casual , Partywear Sneakers Shoes For Men's And Boys Wh...\",\n",
       " 'Sneakers For Men',\n",
       " 'Puma Smash Vulc Sneakers For Men',\n",
       " 'Sneakers For Men',\n",
       " \"Original Luxury Branded Fashionable Men's Casual Walkin...\",\n",
       " 'Kwik FIT casual sneaker shoes and partywear shoes Casua...',\n",
       " 'casual for men Sneakers For Men',\n",
       " 'STREET ICON M Sneakers For Men',\n",
       " 'STYLISH MENS BLACK SNEAKER Sneakers For Men',\n",
       " 'Sneakers For Men',\n",
       " 'Sneakers For Men',\n",
       " 'Sneakers For Men',\n",
       " 'Puma Rebound LayUp SL Sneakers For Men',\n",
       " 'STR2 Sneakers For Men',\n",
       " 'Sneakers For Men',\n",
       " \"Levi's Men's Henry Sneakers Sneakers For Men\",\n",
       " 'Sneakers For Men',\n",
       " 'Lattest Sneakers Shoe Sneakers For Men',\n",
       " 'PANAL Sneakers For Men',\n",
       " 'Series 7 Sneakers For Men',\n",
       " 'Casual Sneakers Shoes For Men And Boys Sneakers For Men',\n",
       " 'Athleisure Sneakers For Men',\n",
       " 'Sneakers For Men',\n",
       " '1259 smart black lace-ups sneakers for men Sneakers For...',\n",
       " 'Sneakers For Men',\n",
       " \"Men's Sneakers Fashion Lightweight Running Shoes Tennis...\",\n",
       " 'KING PRO Sneakers For Men',\n",
       " 'Sneakers For Men',\n",
       " 'Sneakers For Men',\n",
       " 'Summits - Brisbane Sneakers For Men',\n",
       " 'Sneakers For Men',\n",
       " 'Stylish & Trending Outdoor Walking Comfortable Sneakers...',\n",
       " 'Sneakers For Men',\n",
       " 'fuzor B Sneakers For Men',\n",
       " \"Original Luxury Branded Fashionable Men's Casual Walkin...\",\n",
       " \"Men's Sneakers Fashion Lightweight Running Shoes Tennis...\",\n",
       " 'Puma Smash v2 L Sneakers For Men',\n",
       " 'Sneakers For Men',\n",
       " 'Sneakers Sneakers For Men',\n",
       " 'Sneakers For Men',\n",
       " 'Casual Sneakers White Shoes For Men Sneakers For Men',\n",
       " 'Men White Sneakers Sneakers For Men',\n",
       " '516 Trendy Star Perfect Sneakers For Men',\n",
       " 'Casuals, Canvas, Partywear Sneakers For Men',\n",
       " '411 Casual Sneakers For Men',\n",
       " 'Stylish Comfortable Lightweight, Breathable Walking Sho...',\n",
       " 'Sneakers For Men',\n",
       " 'Stylish & Trending Outdoor Walking Comfortable Sneakers...',\n",
       " 'STYLISH MENS BLACK TRENDY SNEAKER FOR MENS Sneakers For...',\n",
       " 'x KL Seattle Sneakers For Men',\n",
       " 'Comfortable & Ultra Light Weight Sneaker Sneakers For M...',\n",
       " \"Men's Lancer Sneakers Sneakers For Men\",\n",
       " 'Sneakers For Men',\n",
       " 'Sneakers For Men',\n",
       " 'Combo Pack Of 2 Latest Stylish Casual Shoes for Men Lac...',\n",
       " 'Sneakers For Men',\n",
       " 'Stylish & Trending Outdoor Walking Comfortable Sneakers...',\n",
       " 'Sneakers For Men',\n",
       " 'Sneakers For Men',\n",
       " 'SS1100 Sneakers For Men',\n",
       " 'JFWGEORGE KNIT LACE UP Sneakers For Men',\n",
       " 'Sneakers For Men',\n",
       " 'Super Stylish & Trendy Combo Pack of 02 Pairs Sneakers ...',\n",
       " 'EXPLORE Sneakers For Men',\n",
       " 'Stylish Comfortable Lightweight, Breathable Casual Walk...',\n",
       " 'Blend Sneakers For Men',\n",
       " 'Sneakers For Men',\n",
       " 'Casual Sneakers Sneakers For Men',\n",
       " 'TRACK - KNOCKHILL Sneakers For Men',\n",
       " 'RS-X Mix Sneakers For Men',\n",
       " \"Levi's Men's Henry Sneakers Sneakers For Men\",\n",
       " 'Stylish and Trendy New Design Lightweight,Casual shoes ...',\n",
       " \"ICE Men's flat Sole Casual Lace up Sneakers with Transl...\",\n",
       " 'KING PRO Sneakers For Men',\n",
       " 'X-Ray 2 Square Sneakers For Men',\n",
       " 'Sneakers For Men',\n",
       " \"Original Luxury Branded Fashionable Men's Casual Walkin...\",\n",
       " 'Sneakers For Men',\n",
       " 'Sneakers For Men',\n",
       " 'Athleisure Sneakers For Men',\n",
       " 'STR2 Sneakers For Men',\n",
       " 'Sneakers For Men',\n",
       " 'Stylish Comfortable Lightweight, Breathable Walking Sho...',\n",
       " 'Skypy-31 Walking Shoes,Training Shoes,Sneakers,Loafers,...',\n",
       " 'CL LTHR GROW Sneakers For Men',\n",
       " 'AFRON Sneakers For Men',\n",
       " 'Casual Sneakers Canvas Shoes For Men Sneakers For Men',\n",
       " 'Trendy Sneakers For Men',\n",
       " 'Basket Classic Gum Deluxe Sneakers For Men',\n",
       " 'Sneakers For Men']"
      ]
     },
     "execution_count": 136,
     "metadata": {},
     "output_type": "execute_result"
    }
   ],
   "source": [
    "product_description[0:100]"
   ]
  },
  {
   "cell_type": "code",
   "execution_count": 137,
   "id": "94c6f94b",
   "metadata": {},
   "outputs": [
    {
     "data": {
      "text/plain": [
       "['₹399',\n",
       " '₹299',\n",
       " '₹374',\n",
       " '₹399',\n",
       " '₹269',\n",
       " '₹198',\n",
       " '₹399',\n",
       " '₹474',\n",
       " '₹283',\n",
       " '₹149',\n",
       " '₹419',\n",
       " '₹284',\n",
       " '₹399',\n",
       " '₹2,102',\n",
       " '₹379',\n",
       " '₹474',\n",
       " '₹397',\n",
       " '₹399',\n",
       " '₹2,389',\n",
       " '₹499',\n",
       " '₹519',\n",
       " '₹284',\n",
       " '₹319',\n",
       " '₹1,841',\n",
       " '₹300',\n",
       " '₹245',\n",
       " '₹1,259',\n",
       " '₹299',\n",
       " '₹278',\n",
       " '₹1,295',\n",
       " '₹449',\n",
       " '₹399',\n",
       " '₹979',\n",
       " '₹244',\n",
       " '₹210',\n",
       " '₹363',\n",
       " '₹539',\n",
       " '₹789',\n",
       " '₹569',\n",
       " '₹379',\n",
       " '₹2,449',\n",
       " '₹658',\n",
       " '₹599',\n",
       " '₹399',\n",
       " '₹2,199',\n",
       " '₹474',\n",
       " '₹465',\n",
       " '₹539',\n",
       " '₹664',\n",
       " '₹1,410',\n",
       " '₹1,295',\n",
       " '₹360',\n",
       " '₹1,059',\n",
       " '₹379',\n",
       " '₹741',\n",
       " '₹269',\n",
       " '₹479',\n",
       " '₹450',\n",
       " '₹356',\n",
       " '₹989',\n",
       " '₹599',\n",
       " '₹499',\n",
       " '₹3,399',\n",
       " '₹424',\n",
       " '₹1,439',\n",
       " '₹1,347',\n",
       " '₹549',\n",
       " '₹499',\n",
       " '₹399',\n",
       " '₹599',\n",
       " '₹1,295',\n",
       " '₹899',\n",
       " '₹664',\n",
       " '₹1,079',\n",
       " '₹2,136',\n",
       " '₹649',\n",
       " '₹520',\n",
       " '₹1,232',\n",
       " '₹299',\n",
       " '₹2,019',\n",
       " '₹758',\n",
       " '₹1,092',\n",
       " '₹2,699',\n",
       " '₹4,419',\n",
       " '₹1,259',\n",
       " '₹356',\n",
       " '₹377',\n",
       " '₹1,399',\n",
       " '₹989',\n",
       " '₹1,605',\n",
       " '₹4,209',\n",
       " '₹639',\n",
       " '₹499',\n",
       " '₹1,479',\n",
       " '₹1,999',\n",
       " '₹639',\n",
       " '₹804',\n",
       " '₹300',\n",
       " '₹741',\n",
       " '₹887']"
      ]
     },
     "execution_count": 137,
     "metadata": {},
     "output_type": "execute_result"
    }
   ],
   "source": [
    "price[0:100]"
   ]
  },
  {
   "cell_type": "code",
   "execution_count": 138,
   "id": "d9c759ac",
   "metadata": {},
   "outputs": [
    {
     "data": {
      "text/plain": [
       "['60% off',\n",
       " '70% off',\n",
       " '62% off',\n",
       " '60% off',\n",
       " '79% off',\n",
       " '80% off',\n",
       " '60% off',\n",
       " '52% off',\n",
       " '78% off',\n",
       " '75% off',\n",
       " '58% off',\n",
       " '56% off',\n",
       " '60% off',\n",
       " '44% off',\n",
       " '62% off',\n",
       " '76% off',\n",
       " '80% off',\n",
       " '60% off',\n",
       " '33% off',\n",
       " '66% off',\n",
       " '65% off',\n",
       " '52% off',\n",
       " '68% off',\n",
       " '63% off',\n",
       " '50% off',\n",
       " '75% off',\n",
       " '55% off',\n",
       " '70% off',\n",
       " '78% off',\n",
       " '56% off',\n",
       " '55% off',\n",
       " '60% off',\n",
       " '65% off',\n",
       " '75% off',\n",
       " '57% off',\n",
       " '63% off',\n",
       " '46% off',\n",
       " '28% off',\n",
       " '81% off',\n",
       " '62% off',\n",
       " '43% off',\n",
       " '15% off',\n",
       " '50% off',\n",
       " '60% off',\n",
       " '42% off',\n",
       " '52% off',\n",
       " '35% off',\n",
       " '46% off',\n",
       " '63% off',\n",
       " '59% off',\n",
       " '56% off',\n",
       " '63% off',\n",
       " '80% off',\n",
       " '62% off',\n",
       " '17% off',\n",
       " '66% off',\n",
       " '52% off',\n",
       " '77% off',\n",
       " '64% off',\n",
       " '69% off',\n",
       " '50% off',\n",
       " '66% off',\n",
       " '24% off',\n",
       " '57% off',\n",
       " '55% off',\n",
       " '46% off',\n",
       " '45% off',\n",
       " '80% off',\n",
       " '60% off',\n",
       " '50% off',\n",
       " '56% off',\n",
       " '80% off',\n",
       " '66% off',\n",
       " '73% off',\n",
       " '40% off',\n",
       " '65% off',\n",
       " '47% off',\n",
       " '35% off',\n",
       " '70% off',\n",
       " '32% off',\n",
       " '80% off',\n",
       " '15% off',\n",
       " '46% off',\n",
       " '55% off',\n",
       " '55% off',\n",
       " '28% off',\n",
       " '62% off',\n",
       " '53% off',\n",
       " '10% off',\n",
       " '59% off',\n",
       " '39% off',\n",
       " '72% off',\n",
       " '75% off',\n",
       " '67% off',\n",
       " '60% off',\n",
       " '72% off',\n",
       " '65% off',\n",
       " '52% off',\n",
       " '17% off',\n",
       " '19% off']"
      ]
     },
     "execution_count": 138,
     "metadata": {},
     "output_type": "execute_result"
    }
   ],
   "source": [
    "discount[0:100]"
   ]
  },
  {
   "cell_type": "code",
   "execution_count": null,
   "id": "f25764d7",
   "metadata": {},
   "outputs": [],
   "source": []
  },
  {
   "cell_type": "code",
   "execution_count": 216,
   "id": "a56e006c",
   "metadata": {},
   "outputs": [],
   "source": [
    "#Q.7....................\n",
    "driver = webdriver.Chrome(\"chromedriver.exe\")\n",
    "time.sleep(2)"
   ]
  },
  {
   "cell_type": "code",
   "execution_count": 217,
   "id": "543f48f0",
   "metadata": {},
   "outputs": [],
   "source": [
    "driver.get('https://www.myntra.com/shoes')"
   ]
  },
  {
   "cell_type": "code",
   "execution_count": 218,
   "id": "4d18fdb3",
   "metadata": {},
   "outputs": [],
   "source": [
    "driver.get('https://www.myntra.com/shoe?f=Color%3ABlack_36454f&rf=Price%3A7399.0_14599.0_7399.0%20TO%2014599.0%2C7179.0_14119.0_7179.0%20TO%2014119.0')"
   ]
  },
  {
   "cell_type": "code",
   "execution_count": 219,
   "id": "00d5769a",
   "metadata": {},
   "outputs": [],
   "source": [
    "brand=[]\n",
    "description=[] \n",
    "price=[] \n"
   ]
  },
  {
   "cell_type": "code",
   "execution_count": 220,
   "id": "d919799c",
   "metadata": {},
   "outputs": [],
   "source": [
    "for i in range(0,2):\n",
    "    \n",
    "    brand_tags=driver.find_elements_by_xpath('//h3[@class=\"product-brand\"]')                                                                                                                                                                                                  \n",
    "    for i in brand_tags:\n",
    "        brand.append(i.text)\n",
    "     \n",
    "    \n",
    "    desc_tags=driver.find_elements_by_xpath('//h4[@class=\"product-product\"]')\n",
    "    for i in desc_tags:\n",
    "        description.append(i.text)\n",
    "    \n",
    "\n",
    "    price_tags=driver.find_elements_by_xpath('//div[@class=\"product-price\"]')      \n",
    "    for i in price_tags:\n",
    "        price.append(i.text)\n",
    "        \n",
    "    next_button=driver.find_element_by_xpath('//li[@class=\"pagination-next\"]')\n",
    "    next_button.click()\n",
    "    time.sleep(5)\n",
    "   "
   ]
  },
  {
   "cell_type": "code",
   "execution_count": 228,
   "id": "499d3df6",
   "metadata": {},
   "outputs": [
    {
     "name": "stdout",
     "output_type": "stream",
     "text": [
      "100 100 100\n"
     ]
    }
   ],
   "source": [
    "print(len(brand),len(description),len(price))"
   ]
  },
  {
   "cell_type": "code",
   "execution_count": 222,
   "id": "8a039256",
   "metadata": {},
   "outputs": [
    {
     "data": {
      "text/plain": [
       "['Skechers',\n",
       " 'UNDER ARMOUR',\n",
       " 'Puma',\n",
       " 'Puma',\n",
       " 'Nike',\n",
       " 'Skechers',\n",
       " 'UNDER ARMOUR',\n",
       " 'Puma',\n",
       " 'Puma',\n",
       " 'Nike',\n",
       " 'Nike',\n",
       " 'Puma',\n",
       " 'UNDER ARMOUR',\n",
       " 'UNDER ARMOUR',\n",
       " 'Vans',\n",
       " 'ADIDAS',\n",
       " 'Reebok',\n",
       " 'Skechers',\n",
       " 'UNDER ARMOUR',\n",
       " 'Hush Puppies',\n",
       " 'Skechers',\n",
       " 'Geox',\n",
       " 'UNDER ARMOUR',\n",
       " 'Geox',\n",
       " 'ADIDAS',\n",
       " 'ADIDAS',\n",
       " 'Geox',\n",
       " 'J.FONTINI',\n",
       " 'Geox',\n",
       " 'Columbia',\n",
       " 'Hush Puppies',\n",
       " 'ASICS',\n",
       " 'Puma',\n",
       " 'Geox',\n",
       " 'Geox',\n",
       " 'Geox',\n",
       " 'Geox',\n",
       " 'ADIDAS',\n",
       " 'Geox',\n",
       " 'Geox',\n",
       " 'Geox',\n",
       " 'UNDER ARMOUR',\n",
       " 'Columbia',\n",
       " 'Geox',\n",
       " 'Geox',\n",
       " 'UNDER ARMOUR',\n",
       " 'Geox',\n",
       " 'ADIDAS',\n",
       " 'Geox',\n",
       " 'Saint G',\n",
       " 'Saint G',\n",
       " 'EVADICT By Decathlon',\n",
       " 'Geox',\n",
       " 'KIPRUN By Decathlon',\n",
       " 'J.FONTINI',\n",
       " 'ASICS',\n",
       " 'Clarks',\n",
       " 'DAVINCHI',\n",
       " 'Geox',\n",
       " 'Clarks',\n",
       " 'Saint G',\n",
       " 'Clarks',\n",
       " 'Bugatti',\n",
       " 'Bugatti',\n",
       " 'Heel & Buckle London',\n",
       " 'Saint G',\n",
       " 'Saint G',\n",
       " 'Geox',\n",
       " 'Geox',\n",
       " 'Geox',\n",
       " 'Geox',\n",
       " 'Louis Philippe',\n",
       " 'Quechua By Decathlon',\n",
       " 'Kenkoh',\n",
       " 'DAVINCHI',\n",
       " 'Saint G',\n",
       " 'Geox',\n",
       " 'Geox',\n",
       " 'FILA',\n",
       " 'Geox',\n",
       " 'J.FONTINI',\n",
       " 'ECCO',\n",
       " 'Columbia',\n",
       " 'Geox',\n",
       " 'FILA',\n",
       " 'ASICS',\n",
       " 'Columbia',\n",
       " 'Cole Haan',\n",
       " 'Geox',\n",
       " 'J.FONTINI',\n",
       " 'Clarks',\n",
       " 'Geox',\n",
       " 'J.FONTINI',\n",
       " 'Heel & Buckle London',\n",
       " 'Geox',\n",
       " 'Geox',\n",
       " 'Geox',\n",
       " 'Geox',\n",
       " 'Geox',\n",
       " 'Geox']"
      ]
     },
     "execution_count": 222,
     "metadata": {},
     "output_type": "execute_result"
    }
   ],
   "source": [
    "brand[0:100]"
   ]
  },
  {
   "cell_type": "code",
   "execution_count": 227,
   "id": "6a31a58d",
   "metadata": {},
   "outputs": [
    {
     "data": {
      "text/plain": [
       "['Men Go Walk 5 Walking Shoes',\n",
       " 'Men UA Charged Vantage 2 Run',\n",
       " 'Eternity Nitro Running Shoes',\n",
       " 'Electrify Nitro Running Shoes',\n",
       " 'Women Pegasus 39 Running Shoes',\n",
       " 'Women Go Walk EU Walking Shoes',\n",
       " 'Men UA Charged Breeze Training',\n",
       " 'Men M Nitro Running Shoess',\n",
       " 'Men Running Shoes',\n",
       " 'Women React MR 3 Running Shoes',\n",
       " 'Women React Escape Running',\n",
       " 'Men Velocity Nitro 2 Running',\n",
       " 'Men Charged Breeze Running',\n",
       " 'Men UA TriBase Reign4 Training',\n",
       " 'Men Colourblocked Sneakers',\n",
       " 'Men Solar Glide 4 ST Running',\n",
       " 'Men Nanoflex TR Training Shoes',\n",
       " 'Men Woven Design Sneakers',\n",
       " 'Women Charged Breeze Running',\n",
       " 'Men Textured Leather Sneakers',\n",
       " 'Men Textured Sneakers',\n",
       " 'Men Leather Loafers',\n",
       " 'W omen TriBase Reign 4 Running',\n",
       " 'Men Leather Sneakers',\n",
       " 'Women Sports Shoes',\n",
       " 'Women Supernova Running Shoes',\n",
       " 'Men Leather Driving Shoes',\n",
       " 'Men Leather Fashion',\n",
       " 'Men Textured Leather Driving Shoes',\n",
       " 'Men FACET OUTDRY Trekking Shoe',\n",
       " 'Men Solid Leather Formal Slip-Ons',\n",
       " 'Men Sports Shoes',\n",
       " 'Women Liberate NITRO Running',\n",
       " 'Men Textured Leather Driving Shoes',\n",
       " 'Men Textured Leather Driving Shoes',\n",
       " 'Men Textured Leather Driving Shoes',\n",
       " 'Men Textured Leather Slip-On Sneakers',\n",
       " 'Women Solar Glide 5 Running',\n",
       " 'Men Textured Leather Driving Shoes',\n",
       " 'Women Textured Leather Loafers',\n",
       " 'Men Solid Sneakers',\n",
       " 'Men HOVR Sonic SE Running Shoe',\n",
       " 'Women REDMOND V2 TrekkingShoe',\n",
       " 'Men Perforations Sneakers',\n",
       " 'Men Leather Sneakers',\n",
       " 'Women Hovr Sonic SE Run Shoes',\n",
       " 'Men Leather Sneakers',\n",
       " 'Women KarlieKlossX9000 Running',\n",
       " 'Men Leather Sneakers',\n",
       " 'Leather Block Sandals',\n",
       " 'Leather Block Sandals',\n",
       " 'Men Running Shoes',\n",
       " 'Men Leather Loafers',\n",
       " 'Men Running Shoes',\n",
       " 'Men Textured Leather Loafers',\n",
       " 'Women Running Shoes',\n",
       " 'Men Leather Derbys',\n",
       " 'Men Textured Formal Leather Loafers',\n",
       " 'Women Ballerinas Flats',\n",
       " 'Men Solid Leather Formal Loafers',\n",
       " 'Stiletto Heel Mules',\n",
       " 'Men Leather Slip-On Sneakers',\n",
       " 'Men Leather Monks',\n",
       " 'Men Leather Formal Derbys',\n",
       " 'Men Textured Leather Formal Loafers',\n",
       " 'Suede Leather Block Heel Boots',\n",
       " 'Men Leather Chelsea Boots',\n",
       " 'Leather Block Pumps',\n",
       " 'Textured Leather Block Pumps',\n",
       " 'Flatform Heels',\n",
       " 'Leather Block Sandals',\n",
       " 'Men Solid Leather Formal Loafers',\n",
       " 'Men Trekking Shoes',\n",
       " 'Leather Flatform Sandals',\n",
       " 'Men Formal Leather Slip-Ons',\n",
       " 'Suede Embellished Ankle Boots',\n",
       " 'Women Open Toe Flats',\n",
       " 'Women Ballerinas Flats',\n",
       " 'Women Colourblocked Leather Sneakers',\n",
       " 'Men Leather Formal Derbys',\n",
       " 'Men Leather Formal Loafers',\n",
       " 'Women Textured Leather Sneakers',\n",
       " 'PEAKFREAK OUTDRY Trekking Shoe',\n",
       " 'Women Leather Slip-On Sneakers',\n",
       " 'Women Leather Sneakers',\n",
       " 'Women Running Shoes',\n",
       " 'Women Trekking Shoes',\n",
       " 'Men GENERATION ZEROGRAND STITCHLITE',\n",
       " 'Men Solid Slip-On Sneakers',\n",
       " 'Men Textured Leather Loafers',\n",
       " 'Men Solid Formal Leather Derbys',\n",
       " 'Men Leather Formal Slip-Ons',\n",
       " 'Men Solid Loafers',\n",
       " 'Men Formal Leather Derby',\n",
       " 'Men Leather Formal Loafers',\n",
       " 'Men Leather Formal Slip-Ons',\n",
       " 'Women Leather Pumps',\n",
       " 'Women Solid Leather Heels',\n",
       " 'Women Solid Wedges',\n",
       " 'Women Solid Leather Pumps']"
      ]
     },
     "execution_count": 227,
     "metadata": {},
     "output_type": "execute_result"
    }
   ],
   "source": [
    "description[0:100]"
   ]
  },
  {
   "cell_type": "code",
   "execution_count": 224,
   "id": "85ab80c8",
   "metadata": {},
   "outputs": [
    {
     "data": {
      "text/plain": [
       "['Rs. 8499',\n",
       " 'Rs. 7999',\n",
       " 'Rs. 12999',\n",
       " 'Rs. 9999',\n",
       " 'Rs. 10495',\n",
       " 'Rs. 7499',\n",
       " 'Rs. 8999',\n",
       " 'Rs. 12999',\n",
       " 'Rs. 9999',\n",
       " 'Rs. 10495',\n",
       " 'Rs. 8046Rs. 11495(30% OFF)',\n",
       " 'Rs. 10999',\n",
       " 'Rs. 8999',\n",
       " 'Rs. 11999',\n",
       " 'Rs. 8249Rs. 10999(25% OFF)',\n",
       " 'Rs. 10499Rs. 14999(30% OFF)',\n",
       " 'Rs. 7999',\n",
       " 'Rs. 7499',\n",
       " 'Rs. 8999',\n",
       " 'Rs. 7199Rs. 7999(10% OFF)',\n",
       " 'Rs. 7999',\n",
       " 'Rs. 9341Rs. 10990(15% OFF)',\n",
       " 'Rs. 11999',\n",
       " 'Rs. 12990',\n",
       " 'Rs. 9899Rs. 17999(45% OFF)',\n",
       " 'Rs. 9999',\n",
       " 'Rs. 8992Rs. 11990(25% OFF)',\n",
       " 'Rs. 8490',\n",
       " 'Rs. 9441Rs. 10490(10% OFF)',\n",
       " 'Rs. 11699Rs. 12999(10% OFF)',\n",
       " 'Rs. 7999Rs. 9999(20% OFF)',\n",
       " 'Rs. 13999',\n",
       " 'Rs. 9999',\n",
       " 'Rs. 9891Rs. 10990(10% OFF)',\n",
       " 'Rs. 8491Rs. 9990(15% OFF)',\n",
       " 'Rs. 9891Rs. 10990(10% OFF)',\n",
       " 'Rs. 8991Rs. 9990(10% OFF)',\n",
       " 'Rs. 13999',\n",
       " 'Rs. 9341Rs. 10990(15% OFF)',\n",
       " 'Rs. 7492Rs. 9990(25% OFF)',\n",
       " 'Rs. 7499Rs. 9999(25% OFF)',\n",
       " 'Rs. 8999Rs. 9999(10% OFF)',\n",
       " 'Rs. 7199Rs. 7999(10% OFF)',\n",
       " 'Rs. 13990',\n",
       " 'Rs. 10990',\n",
       " 'Rs. 8999Rs. 9999(10% OFF)',\n",
       " 'Rs. 12990',\n",
       " 'Rs. 13999',\n",
       " 'Rs. 13990',\n",
       " 'Rs. 9810Rs. 10900(10% OFF)',\n",
       " 'Rs. 9810Rs. 10900(10% OFF)',\n",
       " 'Rs. 9239Rs. 10499(12% OFF)',\n",
       " 'Rs. 11041Rs. 12990(15% OFF)',\n",
       " 'Rs. 7372Rs. 10099(27% OFF)',\n",
       " 'Rs. 8490',\n",
       " 'Rs. 7599Rs. 7999(5% OFF)',\n",
       " 'Rs. 7499',\n",
       " 'Rs. 8990',\n",
       " 'Rs. 8055Rs. 8950(10% OFF)',\n",
       " 'Rs. 7999',\n",
       " 'Rs. 8075Rs. 8500(5% OFF)',\n",
       " 'Rs. 8999',\n",
       " 'Rs. 8999',\n",
       " 'Rs. 13999',\n",
       " 'Rs. 13990',\n",
       " 'Rs. 10355Rs. 10900(5% OFF)',\n",
       " 'Rs. 10710Rs. 11900(10% OFF)',\n",
       " 'Rs. 10791Rs. 11990(10% OFF)',\n",
       " 'Rs. 10791Rs. 11990(10% OFF)',\n",
       " 'Rs. 11990',\n",
       " 'Rs. 9891Rs. 10990(10% OFF)',\n",
       " 'Rs. 9999',\n",
       " 'Rs. 9999',\n",
       " 'Rs. 10400',\n",
       " 'Rs. 8990',\n",
       " 'Rs. 8455Rs. 8900(5% OFF)',\n",
       " 'Rs. 8091Rs. 8990(10% OFF)',\n",
       " 'Rs. 10990',\n",
       " 'Rs. 9999',\n",
       " 'Rs. 7499Rs. 9999(25% OFF)',\n",
       " 'Rs. 7490',\n",
       " 'Rs. 9099Rs. 13999(35% OFF)',\n",
       " 'Rs. 8999Rs. 9999(10% OFF)',\n",
       " 'Rs. 8242Rs. 10990(25% OFF)',\n",
       " 'Rs. 7999',\n",
       " 'Rs. 7999',\n",
       " 'Rs. 8099Rs. 8999(10% OFF)',\n",
       " 'Rs. 11999',\n",
       " 'Rs. 13990',\n",
       " 'Rs. 7990',\n",
       " 'Rs. 9999',\n",
       " 'Rs. 8991Rs. 9990(10% OFF)',\n",
       " 'Rs. 8990',\n",
       " 'Rs. 7990',\n",
       " 'Rs. 8491Rs. 9990(15% OFF)',\n",
       " 'Rs. 8991Rs. 9990(10% OFF)',\n",
       " 'Rs. 8099Rs. 8999(10% OFF)',\n",
       " 'Rs. 8091Rs. 8990(10% OFF)',\n",
       " 'Rs. 7641Rs. 8490(10% OFF)',\n",
       " 'Rs. 8242Rs. 10990(25% OFF)']"
      ]
     },
     "execution_count": 224,
     "metadata": {},
     "output_type": "execute_result"
    }
   ],
   "source": [
    "price[0:100]"
   ]
  },
  {
   "cell_type": "code",
   "execution_count": null,
   "id": "b5854c53",
   "metadata": {},
   "outputs": [],
   "source": []
  },
  {
   "cell_type": "code",
   "execution_count": 89,
   "id": "1ba0ac6f",
   "metadata": {},
   "outputs": [],
   "source": [
    "#Q.8............\n",
    "driver = webdriver.Chrome(\"chromedriver.exe\")\n",
    "time.sleep(2)"
   ]
  },
  {
   "cell_type": "code",
   "execution_count": 90,
   "id": "daa01500",
   "metadata": {},
   "outputs": [],
   "source": [
    "driver.get('https://www.amazon.in/')"
   ]
  },
  {
   "cell_type": "code",
   "execution_count": 91,
   "id": "c3cfe676",
   "metadata": {},
   "outputs": [],
   "source": [
    "search_field=driver.find_element_by_xpath('//*[@id=\"twotabsearchtextbox\"]')\n",
    "search_field.send_keys(\"Laptop\")"
   ]
  },
  {
   "cell_type": "code",
   "execution_count": 92,
   "id": "4b7c6d0c",
   "metadata": {},
   "outputs": [],
   "source": [
    "search_button=driver.find_element_by_xpath('//*[@id=\"nav-search-submit-button\"]')\n",
    "search_button.click()"
   ]
  },
  {
   "cell_type": "code",
   "execution_count": 93,
   "id": "4395422d",
   "metadata": {},
   "outputs": [],
   "source": [
    "driver.get('https://www.amazon.in/s?k=Laptop&rh=n%3A1375424031%2Cp_n_feature_thirteen_browse-bin%3A12598163031&dc&ds=v1%3A3ev0WX7LMRVKQK%2BB9VxsVfYP8W41O3QgLR7Zl5aiY8Y&crid=9VMZ38UCEIW&qid=1655380785&rnid=12598141031&sprefix=laptop%2Caps%2C531&ref=sr_nr_p_n_feature_thirteen_browse-bin_12')"
   ]
  },
  {
   "cell_type": "code",
   "execution_count": 94,
   "id": "32d19f88",
   "metadata": {},
   "outputs": [],
   "source": [
    "title=[]\n",
    "rating=[] \n",
    "price=[] "
   ]
  },
  {
   "cell_type": "code",
   "execution_count": 95,
   "id": "4edf16c0",
   "metadata": {},
   "outputs": [],
   "source": [
    "for i in range(0,2):\n",
    "    \n",
    "    title_tags=driver.find_elements_by_xpath('//span[@class=\"a-size-medium a-color-base a-text-normal\"]')                                                                                                                                                                                                  \n",
    "    for i in title_tags:\n",
    "        title.append(i.text)\n",
    "     \n",
    "    \n",
    "    rating_tags=driver.find_elements_by_xpath('//span[@class=\"a-size-base a-nowrap\"]//span')\n",
    "    for i in rating_tags:\n",
    "        rating.append(i.text)\n",
    "    \n",
    "\n",
    "    price_tags=driver.find_elements_by_xpath('//span[@class=\"a-price-whole\"]')      \n",
    "    for i in price_tags:\n",
    "        price.append(i.text)\n",
    "   "
   ]
  },
  {
   "cell_type": "code",
   "execution_count": 96,
   "id": "a6712666",
   "metadata": {},
   "outputs": [
    {
     "name": "stdout",
     "output_type": "stream",
     "text": [
      "60 0 60\n"
     ]
    }
   ],
   "source": [
    "print(len(title),len(rating),len(price))"
   ]
  },
  {
   "cell_type": "code",
   "execution_count": 97,
   "id": "0cb4410e",
   "metadata": {},
   "outputs": [
    {
     "data": {
      "text/plain": [
       "['Lenovo IdeaPad 5 Pro 11th Gen Intel Core i7 14 inches QHD IPS Thin and Light Laptop (16GB/512GB SSD/Iris Xe Graphics/Windows 11/Office 2021/Backlit/300Nits/Storm Grey/1.41Kg), 82L3006YIN',\n",
       " 'LG Gram 16 Intel Evo 11th Gen i7 Thin & Light Laptop 2K+ IPS 16:10 Display [16 GB RAM/ 512 GB SSD/ Windows 11 / Iris Xe Graphics/ Thunderbolt 4, USC -C x 2 / 1.19 kg, Black/ 3Yr Warranty] 16Z90P',\n",
       " 'ASUS VivoBook 14 (2021), 14-inch (35.56 cms) FHD, Intel Core i7-1065G7 10th Gen, Thin and Light Laptop (16GB/512GB SSD/Integrated Graphics/Office 2021/Windows 11/Silver/1.6 Kg), X415JA-EK701WS',\n",
       " 'Samsung Galaxy Book2 Intel 12th Gen core i7 39.6cm (15.6\") FHD LED Thin & Light Laptop (16 GB/512 GB SSD/Windows 11/MS Office/Backlit Keyboard/Fingerprint Reader/Silver/1.55Kg), NP750XED-KC2IN',\n",
       " 'LG Gram 17 Intel Evo 11th Gen i7 Thin & Light Laptop 2K+ IPS 16:10 Display [16 GB RAM/ 512 GB SSD/ Windows 11 / Iris Xe Graphics/ Thunderbolt 4/ USC -C x 2 / 1.35 kg, Black/ 3Yr Warranty] 17Z90P',\n",
       " 'Lenovo IdeaPad Flex 5 11th Gen Intel Core i7 14\" FHD 2-in-1 Convertible Laptop (16 GB/512GB SDD/Windows 11/MS Office 2021/Backlit Keyboard /3months Xbox Game Pass/Graphite Grey/1.5Kg), 82HS018XIN',\n",
       " 'HP Pavilion 15 12th Gen Intel Core i7 16GB SDRAM/1TB SSD 15.6 inch(39.6cm) FHD,IPS/Intel Iris Xe Graphics/B&O/Win 11/Alexa/Backlit KB/FPR/MSO 2021/1.75Kg, 15-EG2039TU, Natural Silver',\n",
       " 'HP Pavilion x360 11th Gen Intel Core i7 14 inch(35.6 cm) FHD Multitouch 2-in-1 Laptop(16GB RAM/512GB SSD/B&O/Win 11/FPR/Backlit KB/Intel Iris Xe Graphics/Pen/Alexa/MS Office/Silver/1.52Kg) 14-dy1047TU',\n",
       " 'LG Gram 14 Intel Evo 11th Gen  i7 Thin & Light Laptop 2K+ IPS 16:10 Display (16 GB RAM/ 512 GB SSD/ Windows 11 / Iris Xe Graphics/ Thunderbolt 4/ USC -C x 2 / 0.999Kg, Black/ 3Yr Warranty] 14Z90P',\n",
       " 'HP Pavilion 14 12th Gen Intel Core i7 16GB SDRAM/1TB SSD 14 inch(35.6cm) FHD,IPS,Micro-Edge Display/Intel UHD Graphics/B&O/Win 11/Alexa Built-in/Backlit KB/FPR/MSO 2021/Natural Silver, 14-dv2015TU']"
      ]
     },
     "execution_count": 97,
     "metadata": {},
     "output_type": "execute_result"
    }
   ],
   "source": [
    "title[0:10]"
   ]
  },
  {
   "cell_type": "code",
   "execution_count": 98,
   "id": "87c1b77e",
   "metadata": {},
   "outputs": [
    {
     "data": {
      "text/plain": [
       "[]"
      ]
     },
     "execution_count": 98,
     "metadata": {},
     "output_type": "execute_result"
    }
   ],
   "source": [
    "rating"
   ]
  },
  {
   "cell_type": "code",
   "execution_count": 99,
   "id": "931d2747",
   "metadata": {},
   "outputs": [
    {
     "data": {
      "text/plain": [
       "['75,309',\n",
       " '86,490',\n",
       " '57,490',\n",
       " '79,990',\n",
       " '88,490',\n",
       " '81,490',\n",
       " '89,791',\n",
       " '84,490',\n",
       " '84,490',\n",
       " '86,990']"
      ]
     },
     "execution_count": 99,
     "metadata": {},
     "output_type": "execute_result"
    }
   ],
   "source": [
    "price[0:10]"
   ]
  },
  {
   "cell_type": "code",
   "execution_count": null,
   "id": "eac91e54",
   "metadata": {},
   "outputs": [],
   "source": []
  },
  {
   "cell_type": "code",
   "execution_count": 451,
   "id": "6042c120",
   "metadata": {},
   "outputs": [],
   "source": [
    "#Q.9.................\n",
    "\n",
    "driver = webdriver.Chrome(\"chromedriver.exe\")\n",
    "time.sleep(2)"
   ]
  },
  {
   "cell_type": "code",
   "execution_count": 460,
   "id": "1afb6e17",
   "metadata": {},
   "outputs": [],
   "source": [
    "driver.get('https://www.ambitionbox.com/')"
   ]
  },
  {
   "cell_type": "code",
   "execution_count": 461,
   "id": "c1b35ea9",
   "metadata": {},
   "outputs": [],
   "source": [
    "driver.get('https://www.ambitionbox.com/jobs')"
   ]
  },
  {
   "cell_type": "code",
   "execution_count": 462,
   "id": "30749c12",
   "metadata": {},
   "outputs": [],
   "source": [
    "search_field_designation=driver.find_element_by_xpath('//*[@id=\"jobs-typeahead\"]/span/input')\n",
    "search_field_designation.send_keys(\"Data Scientist\")"
   ]
  },
  {
   "cell_type": "code",
   "execution_count": 463,
   "id": "12ade275",
   "metadata": {},
   "outputs": [],
   "source": [
    "search_button=driver.find_element_by_xpath('//button[@class=\"ab_btn search-btn round\"]')\n",
    "search_button.click()"
   ]
  },
  {
   "cell_type": "code",
   "execution_count": 466,
   "id": "fc9ae8e3",
   "metadata": {},
   "outputs": [],
   "source": [
    "search_field_location=driver.find_element_by_xpath('//div[@title=\"Location\"]')\n",
    "search_field_location.click()"
   ]
  },
  {
   "cell_type": "code",
   "execution_count": 467,
   "id": "eb9ed22a",
   "metadata": {},
   "outputs": [],
   "source": [
    "search_field_location=driver.find_element_by_xpath('//*[@id=\"filters-row\"]/div/div/div[2]/div[2]/div/div[2]/input')\n",
    "search_field_location.send_keys(\"Noida\")"
   ]
  },
  {
   "cell_type": "code",
   "execution_count": 468,
   "id": "22e48cf6",
   "metadata": {},
   "outputs": [],
   "source": [
    "search_field_location=driver.find_element_by_xpath('//*[@id=\"filters-row\"]/div/div/div[2]/div[2]/div/div[3]/div[1]/div[1]/div/label')\n",
    "search_field_location.click()"
   ]
  },
  {
   "cell_type": "code",
   "execution_count": 469,
   "id": "cef068eb",
   "metadata": {},
   "outputs": [],
   "source": [
    "company_rating=[]\n",
    "job_posted=[] \n",
    "company_name=[] "
   ]
  },
  {
   "cell_type": "code",
   "execution_count": 470,
   "id": "24c25dff",
   "metadata": {},
   "outputs": [
    {
     "data": {
      "text/plain": [
       "['4.0', '4.2', '4.0', '3.9', '3.9', '3.7', '4.5', '3.7', '3.3', '3.5']"
      ]
     },
     "execution_count": 470,
     "metadata": {},
     "output_type": "execute_result"
    }
   ],
   "source": [
    "rating_tags=driver.find_elements_by_xpath('//span[@class=\"body-small\"]')\n",
    "for i in rating_tags:\n",
    "    company_rating.append(i.text)\n",
    "company_rating[0:10]                                         "
   ]
  },
  {
   "cell_type": "code",
   "execution_count": 471,
   "id": "d6a4d7db",
   "metadata": {},
   "outputs": [
    {
     "data": {
      "text/plain": [
       "['GENPACT India Private Limited',\n",
       " 'Optum Global Solutions (India) Private Limited',\n",
       " 'GENPACT India Private Limited',\n",
       " 'Hcl Technologies Limited',\n",
       " 'EXL Services.com ( I ) Pvt. Ltd.',\n",
       " 'Paytm',\n",
       " 'Om Software Internet Solutions Private Limited',\n",
       " 'Paytm',\n",
       " 'MOTHERSONSUMI INFOTECH & DESIGNS LIMITED',\n",
       " 'Ashkom Media India Private Limited']"
      ]
     },
     "execution_count": 471,
     "metadata": {},
     "output_type": "execute_result"
    }
   ],
   "source": [
    "company_tags=driver.find_elements_by_xpath('//p[@class=\"company body-medium\"]')\n",
    "for i in company_tags:\n",
    "    company_name.append(i.text)\n",
    "company_name[0:10]"
   ]
  },
  {
   "cell_type": "code",
   "execution_count": 472,
   "id": "1c02d2da",
   "metadata": {},
   "outputs": [
    {
     "data": {
      "text/plain": [
       "['8d ago',\n",
       " '15d ago',\n",
       " '15d ago',\n",
       " '18d ago',\n",
       " '28d ago',\n",
       " '11d ago',\n",
       " '19d ago',\n",
       " '28d ago',\n",
       " '16d ago',\n",
       " '15d ago']"
      ]
     },
     "execution_count": 472,
     "metadata": {},
     "output_type": "execute_result"
    }
   ],
   "source": [
    "adposted_tags=driver.find_elements_by_xpath('//span[@class=\"body-small-l\"][1]')\n",
    "for i in adposted_tags:\n",
    "    job_posted.append(i.text)\n",
    "job_posted[0:10]\n"
   ]
  },
  {
   "cell_type": "code",
   "execution_count": 473,
   "id": "59c4102d",
   "metadata": {},
   "outputs": [
    {
     "name": "stdout",
     "output_type": "stream",
     "text": [
      "10 10 10\n"
     ]
    }
   ],
   "source": [
    "print(len(company_rating),len(job_posted),len(company_name))"
   ]
  },
  {
   "cell_type": "code",
   "execution_count": 474,
   "id": "ce79892b",
   "metadata": {},
   "outputs": [
    {
     "data": {
      "text/html": [
       "<div>\n",
       "<style scoped>\n",
       "    .dataframe tbody tr th:only-of-type {\n",
       "        vertical-align: middle;\n",
       "    }\n",
       "\n",
       "    .dataframe tbody tr th {\n",
       "        vertical-align: top;\n",
       "    }\n",
       "\n",
       "    .dataframe thead th {\n",
       "        text-align: right;\n",
       "    }\n",
       "</style>\n",
       "<table border=\"1\" class=\"dataframe\">\n",
       "  <thead>\n",
       "    <tr style=\"text-align: right;\">\n",
       "      <th></th>\n",
       "      <th>COMPANY</th>\n",
       "      <th>JOB_posted</th>\n",
       "      <th>Company_rating</th>\n",
       "    </tr>\n",
       "  </thead>\n",
       "  <tbody>\n",
       "    <tr>\n",
       "      <th>0</th>\n",
       "      <td>GENPACT India Private Limited</td>\n",
       "      <td>8d ago</td>\n",
       "      <td>4.0</td>\n",
       "    </tr>\n",
       "    <tr>\n",
       "      <th>1</th>\n",
       "      <td>Optum Global Solutions (India) Private Limited</td>\n",
       "      <td>15d ago</td>\n",
       "      <td>4.2</td>\n",
       "    </tr>\n",
       "    <tr>\n",
       "      <th>2</th>\n",
       "      <td>GENPACT India Private Limited</td>\n",
       "      <td>15d ago</td>\n",
       "      <td>4.0</td>\n",
       "    </tr>\n",
       "    <tr>\n",
       "      <th>3</th>\n",
       "      <td>Hcl Technologies Limited</td>\n",
       "      <td>18d ago</td>\n",
       "      <td>3.9</td>\n",
       "    </tr>\n",
       "    <tr>\n",
       "      <th>4</th>\n",
       "      <td>EXL Services.com ( I ) Pvt. Ltd.</td>\n",
       "      <td>28d ago</td>\n",
       "      <td>3.9</td>\n",
       "    </tr>\n",
       "    <tr>\n",
       "      <th>5</th>\n",
       "      <td>Paytm</td>\n",
       "      <td>11d ago</td>\n",
       "      <td>3.7</td>\n",
       "    </tr>\n",
       "    <tr>\n",
       "      <th>6</th>\n",
       "      <td>Om Software Internet Solutions Private Limited</td>\n",
       "      <td>19d ago</td>\n",
       "      <td>4.5</td>\n",
       "    </tr>\n",
       "    <tr>\n",
       "      <th>7</th>\n",
       "      <td>Paytm</td>\n",
       "      <td>28d ago</td>\n",
       "      <td>3.7</td>\n",
       "    </tr>\n",
       "    <tr>\n",
       "      <th>8</th>\n",
       "      <td>MOTHERSONSUMI INFOTECH &amp; DESIGNS LIMITED</td>\n",
       "      <td>16d ago</td>\n",
       "      <td>3.3</td>\n",
       "    </tr>\n",
       "    <tr>\n",
       "      <th>9</th>\n",
       "      <td>Ashkom Media India Private Limited</td>\n",
       "      <td>15d ago</td>\n",
       "      <td>3.5</td>\n",
       "    </tr>\n",
       "  </tbody>\n",
       "</table>\n",
       "</div>"
      ],
      "text/plain": [
       "                                          COMPANY JOB_posted Company_rating\n",
       "0                   GENPACT India Private Limited     8d ago            4.0\n",
       "1  Optum Global Solutions (India) Private Limited    15d ago            4.2\n",
       "2                   GENPACT India Private Limited    15d ago            4.0\n",
       "3                        Hcl Technologies Limited    18d ago            3.9\n",
       "4                EXL Services.com ( I ) Pvt. Ltd.    28d ago            3.9\n",
       "5                                           Paytm    11d ago            3.7\n",
       "6  Om Software Internet Solutions Private Limited    19d ago            4.5\n",
       "7                                           Paytm    28d ago            3.7\n",
       "8        MOTHERSONSUMI INFOTECH & DESIGNS LIMITED    16d ago            3.3\n",
       "9              Ashkom Media India Private Limited    15d ago            3.5"
      ]
     },
     "execution_count": 474,
     "metadata": {},
     "output_type": "execute_result"
    }
   ],
   "source": [
    "import pandas as pd\n",
    "df=pd.DataFrame({'COMPANY':company_name,'JOB_posted':job_posted,'Company_rating':company_rating})\n",
    "df"
   ]
  },
  {
   "cell_type": "code",
   "execution_count": null,
   "id": "2b9906a7",
   "metadata": {},
   "outputs": [],
   "source": []
  },
  {
   "cell_type": "code",
   "execution_count": 590,
   "id": "9349a67f",
   "metadata": {},
   "outputs": [],
   "source": [
    "#Q.10....................\n",
    "\n",
    "driver = webdriver.Chrome(\"chromedriver.exe\")\n",
    "time.sleep(2)"
   ]
  },
  {
   "cell_type": "code",
   "execution_count": 591,
   "id": "3e5eab9d",
   "metadata": {},
   "outputs": [],
   "source": [
    "driver.get('https://www.ambitionbox.com/')"
   ]
  },
  {
   "cell_type": "code",
   "execution_count": 592,
   "id": "641f5664",
   "metadata": {},
   "outputs": [],
   "source": [
    "driver.get('https://www.ambitionbox.com/salaries')"
   ]
  },
  {
   "cell_type": "code",
   "execution_count": 593,
   "id": "0e8c62c9",
   "metadata": {},
   "outputs": [],
   "source": [
    "search_job_profile=driver.find_element_by_xpath('//*[@id=\"jobProfileSearchbox\"]')\n",
    "search_job_profile.send_keys(\"Data Scientist\")"
   ]
  },
  {
   "cell_type": "code",
   "execution_count": 594,
   "id": "7402d1cf",
   "metadata": {},
   "outputs": [],
   "source": [
    "search_job_profile=driver.find_element_by_xpath('//*[@id=\"salaries\"]/main/section[1]/div[2]/div[1]/span/div/div/div[1]/div/div/p')\n",
    "search_job_profile.click()"
   ]
  },
  {
   "cell_type": "code",
   "execution_count": 616,
   "id": "d096dbf6",
   "metadata": {},
   "outputs": [],
   "source": [
    "company_name=[]\n",
    "ttl_sal_rec=[] \n",
    "avg_sal=[] \n",
    "min_sal=[] \n",
    "max_sal=[] \n",
    "exp_req=[]"
   ]
  },
  {
   "cell_type": "code",
   "execution_count": 617,
   "id": "9642e4f8",
   "metadata": {},
   "outputs": [
    {
     "data": {
      "text/plain": [
       "['Walmart',\n",
       " 'Ab Inbev',\n",
       " 'American Express',\n",
       " 'ZS',\n",
       " 'Optum',\n",
       " 'Reliance Jio',\n",
       " 'Fractal Analytics',\n",
       " 'Tiger Analytics',\n",
       " 'UnitedHealth',\n",
       " 'EXL Service']"
      ]
     },
     "execution_count": 617,
     "metadata": {},
     "output_type": "execute_result"
    }
   ],
   "source": [
    "company=driver.find_elements_by_xpath('//div[@class=\"name\"]/a')\n",
    "for i in company:\n",
    "    company_name.append(i.text)\n",
    "company_name[0:10]                                         "
   ]
  },
  {
   "cell_type": "code",
   "execution_count": 618,
   "id": "25bf9727",
   "metadata": {},
   "outputs": [
    {
     "data": {
      "text/plain": [
       "['based on 12 salaries',\n",
       " 'based on 33 salaries',\n",
       " 'based on 10 salaries',\n",
       " 'based on 15 salaries',\n",
       " 'based on 33 salaries',\n",
       " 'based on 21 salaries',\n",
       " 'based on 83 salaries',\n",
       " 'based on 50 salaries',\n",
       " 'based on 57 salaries',\n",
       " 'based on 10 salaries']"
      ]
     },
     "execution_count": 618,
     "metadata": {},
     "output_type": "execute_result"
    }
   ],
   "source": [
    "tsr_tags=driver.find_elements_by_xpath('//div[@class=\"name\"]/span')\n",
    "for i in tsr_tags:\n",
    "    ttl_sal_rec.append(i.text)\n",
    "ttl_sal_rec[0:10]"
   ]
  },
  {
   "cell_type": "code",
   "execution_count": 619,
   "id": "30256e3e",
   "metadata": {},
   "outputs": [
    {
     "data": {
      "text/plain": [
       "['₹ 30.2L',\n",
       " '₹ 20.6L',\n",
       " '₹ 19.9L',\n",
       " '₹ 16.7L',\n",
       " '₹ 16.1L',\n",
       " '₹ 15.7L',\n",
       " '₹ 15.4L',\n",
       " '₹ 14.8L',\n",
       " '₹ 14.0L',\n",
       " '₹ 13.3L']"
      ]
     },
     "execution_count": 619,
     "metadata": {},
     "output_type": "execute_result"
    }
   ],
   "source": [
    "avg_sal_tags=driver.find_elements_by_xpath('//p[@class=\"averageCtc\"]')\n",
    "for i in avg_sal_tags:\n",
    "    avg_sal.append(i.text)\n",
    "avg_sal[0:10]"
   ]
  },
  {
   "cell_type": "code",
   "execution_count": 620,
   "id": "c0cdcb35",
   "metadata": {},
   "outputs": [
    {
     "data": {
      "text/plain": [
       "['₹ 25.0L',\n",
       " '₹ 15.0L',\n",
       " '₹ 14.1L',\n",
       " '₹ 11.0L',\n",
       " '₹ 11.0L',\n",
       " '₹ 5.6L',\n",
       " '₹ 10.0L',\n",
       " '₹ 9.0L',\n",
       " '₹ 8.3L',\n",
       " '₹ 8.9L']"
      ]
     },
     "execution_count": 620,
     "metadata": {},
     "output_type": "execute_result"
    }
   ],
   "source": [
    "min_sal_tags=driver.find_elements_by_xpath('//div[@class=\"value body-medium\"][1]')\n",
    "for i in min_sal_tags:\n",
    "    min_sal.append(i.text)\n",
    "min_sal[0:10]"
   ]
  },
  {
   "cell_type": "code",
   "execution_count": 621,
   "id": "b2e966c8",
   "metadata": {},
   "outputs": [
    {
     "data": {
      "text/plain": [
       "['₹ 36.0L',\n",
       " '₹ 25.5L',\n",
       " '₹ 25.0L',\n",
       " '₹ 22.0L',\n",
       " '₹ 22.6L',\n",
       " '₹ 26.2L',\n",
       " '₹ 22.0L',\n",
       " '₹ 20.0L',\n",
       " '₹ 21.1L',\n",
       " '₹ 21.0L']"
      ]
     },
     "execution_count": 621,
     "metadata": {},
     "output_type": "execute_result"
    }
   ],
   "source": [
    "max_sal_tags=driver.find_elements_by_xpath('//div[@class=\"value body-medium\"][2]')\n",
    "for i in max_sal_tags:\n",
    "    max_sal.append(i.text)\n",
    "max_sal[0:10]"
   ]
  },
  {
   "cell_type": "code",
   "execution_count": 622,
   "id": "b1262d42",
   "metadata": {
    "scrolled": true
   },
   "outputs": [
    {
     "data": {
      "text/plain": [
       "['3 yrs exp',\n",
       " '3-4 yrs exp',\n",
       " '4 yrs exp',\n",
       " '2 yrs exp',\n",
       " '3-4 yrs exp',\n",
       " '3-4 yrs exp',\n",
       " '2-4 yrs exp',\n",
       " '2-4 yrs exp',\n",
       " '2-4 yrs exp',\n",
       " '4 yrs exp']"
      ]
     },
     "execution_count": 622,
     "metadata": {},
     "output_type": "execute_result"
    }
   ],
   "source": [
    "exp_req_tags=driver.find_elements_by_xpath('//div[@class=\"salaries sbold-list-header\"]')\n",
    "for i in exp_req_tags:\n",
    "    exp_req.append(i.text.replace('Data Scientist\\n . \\n',''))\n",
    "exp_req[0:10]"
   ]
  },
  {
   "cell_type": "code",
   "execution_count": null,
   "id": "a66f2754",
   "metadata": {},
   "outputs": [],
   "source": []
  },
  {
   "cell_type": "code",
   "execution_count": 623,
   "id": "ca49e1f0",
   "metadata": {},
   "outputs": [
    {
     "name": "stdout",
     "output_type": "stream",
     "text": [
      "10 10 10 10 10 10\n"
     ]
    }
   ],
   "source": [
    "print(len(company_name),len(ttl_sal_rec),len(avg_sal),len(min_sal),len(max_sal),len(exp_req))"
   ]
  },
  {
   "cell_type": "code",
   "execution_count": 624,
   "id": "6727ed51",
   "metadata": {},
   "outputs": [
    {
     "data": {
      "text/html": [
       "<div>\n",
       "<style scoped>\n",
       "    .dataframe tbody tr th:only-of-type {\n",
       "        vertical-align: middle;\n",
       "    }\n",
       "\n",
       "    .dataframe tbody tr th {\n",
       "        vertical-align: top;\n",
       "    }\n",
       "\n",
       "    .dataframe thead th {\n",
       "        text-align: right;\n",
       "    }\n",
       "</style>\n",
       "<table border=\"1\" class=\"dataframe\">\n",
       "  <thead>\n",
       "    <tr style=\"text-align: right;\">\n",
       "      <th></th>\n",
       "      <th>COMPANY</th>\n",
       "      <th>TOTAL_SALARY_RECORDS</th>\n",
       "      <th>Average_salary</th>\n",
       "      <th>MINIMUN_SALARY</th>\n",
       "      <th>MAXIMUM_SALARY</th>\n",
       "      <th>EXPERIENCE_REQUIRED</th>\n",
       "    </tr>\n",
       "  </thead>\n",
       "  <tbody>\n",
       "    <tr>\n",
       "      <th>0</th>\n",
       "      <td>Walmart</td>\n",
       "      <td>based on 12 salaries</td>\n",
       "      <td>₹ 30.2L</td>\n",
       "      <td>₹ 25.0L</td>\n",
       "      <td>₹ 36.0L</td>\n",
       "      <td>3 yrs exp</td>\n",
       "    </tr>\n",
       "    <tr>\n",
       "      <th>1</th>\n",
       "      <td>Ab Inbev</td>\n",
       "      <td>based on 33 salaries</td>\n",
       "      <td>₹ 20.6L</td>\n",
       "      <td>₹ 15.0L</td>\n",
       "      <td>₹ 25.5L</td>\n",
       "      <td>3-4 yrs exp</td>\n",
       "    </tr>\n",
       "    <tr>\n",
       "      <th>2</th>\n",
       "      <td>American Express</td>\n",
       "      <td>based on 10 salaries</td>\n",
       "      <td>₹ 19.9L</td>\n",
       "      <td>₹ 14.1L</td>\n",
       "      <td>₹ 25.0L</td>\n",
       "      <td>4 yrs exp</td>\n",
       "    </tr>\n",
       "    <tr>\n",
       "      <th>3</th>\n",
       "      <td>ZS</td>\n",
       "      <td>based on 15 salaries</td>\n",
       "      <td>₹ 16.7L</td>\n",
       "      <td>₹ 11.0L</td>\n",
       "      <td>₹ 22.0L</td>\n",
       "      <td>2 yrs exp</td>\n",
       "    </tr>\n",
       "    <tr>\n",
       "      <th>4</th>\n",
       "      <td>Optum</td>\n",
       "      <td>based on 33 salaries</td>\n",
       "      <td>₹ 16.1L</td>\n",
       "      <td>₹ 11.0L</td>\n",
       "      <td>₹ 22.6L</td>\n",
       "      <td>3-4 yrs exp</td>\n",
       "    </tr>\n",
       "    <tr>\n",
       "      <th>5</th>\n",
       "      <td>Reliance Jio</td>\n",
       "      <td>based on 21 salaries</td>\n",
       "      <td>₹ 15.7L</td>\n",
       "      <td>₹ 5.6L</td>\n",
       "      <td>₹ 26.2L</td>\n",
       "      <td>3-4 yrs exp</td>\n",
       "    </tr>\n",
       "    <tr>\n",
       "      <th>6</th>\n",
       "      <td>Fractal Analytics</td>\n",
       "      <td>based on 83 salaries</td>\n",
       "      <td>₹ 15.4L</td>\n",
       "      <td>₹ 10.0L</td>\n",
       "      <td>₹ 22.0L</td>\n",
       "      <td>2-4 yrs exp</td>\n",
       "    </tr>\n",
       "    <tr>\n",
       "      <th>7</th>\n",
       "      <td>Tiger Analytics</td>\n",
       "      <td>based on 50 salaries</td>\n",
       "      <td>₹ 14.8L</td>\n",
       "      <td>₹ 9.0L</td>\n",
       "      <td>₹ 20.0L</td>\n",
       "      <td>2-4 yrs exp</td>\n",
       "    </tr>\n",
       "    <tr>\n",
       "      <th>8</th>\n",
       "      <td>UnitedHealth</td>\n",
       "      <td>based on 57 salaries</td>\n",
       "      <td>₹ 14.0L</td>\n",
       "      <td>₹ 8.3L</td>\n",
       "      <td>₹ 21.1L</td>\n",
       "      <td>2-4 yrs exp</td>\n",
       "    </tr>\n",
       "    <tr>\n",
       "      <th>9</th>\n",
       "      <td>EXL Service</td>\n",
       "      <td>based on 10 salaries</td>\n",
       "      <td>₹ 13.3L</td>\n",
       "      <td>₹ 8.9L</td>\n",
       "      <td>₹ 21.0L</td>\n",
       "      <td>4 yrs exp</td>\n",
       "    </tr>\n",
       "  </tbody>\n",
       "</table>\n",
       "</div>"
      ],
      "text/plain": [
       "             COMPANY  TOTAL_SALARY_RECORDS Average_salary MINIMUN_SALARY  \\\n",
       "0            Walmart  based on 12 salaries        ₹ 30.2L        ₹ 25.0L   \n",
       "1           Ab Inbev  based on 33 salaries        ₹ 20.6L        ₹ 15.0L   \n",
       "2   American Express  based on 10 salaries        ₹ 19.9L        ₹ 14.1L   \n",
       "3                 ZS  based on 15 salaries        ₹ 16.7L        ₹ 11.0L   \n",
       "4              Optum  based on 33 salaries        ₹ 16.1L        ₹ 11.0L   \n",
       "5       Reliance Jio  based on 21 salaries        ₹ 15.7L         ₹ 5.6L   \n",
       "6  Fractal Analytics  based on 83 salaries        ₹ 15.4L        ₹ 10.0L   \n",
       "7    Tiger Analytics  based on 50 salaries        ₹ 14.8L         ₹ 9.0L   \n",
       "8       UnitedHealth  based on 57 salaries        ₹ 14.0L         ₹ 8.3L   \n",
       "9        EXL Service  based on 10 salaries        ₹ 13.3L         ₹ 8.9L   \n",
       "\n",
       "  MAXIMUM_SALARY EXPERIENCE_REQUIRED  \n",
       "0        ₹ 36.0L           3 yrs exp  \n",
       "1        ₹ 25.5L         3-4 yrs exp  \n",
       "2        ₹ 25.0L           4 yrs exp  \n",
       "3        ₹ 22.0L           2 yrs exp  \n",
       "4        ₹ 22.6L         3-4 yrs exp  \n",
       "5        ₹ 26.2L         3-4 yrs exp  \n",
       "6        ₹ 22.0L         2-4 yrs exp  \n",
       "7        ₹ 20.0L         2-4 yrs exp  \n",
       "8        ₹ 21.1L         2-4 yrs exp  \n",
       "9        ₹ 21.0L           4 yrs exp  "
      ]
     },
     "execution_count": 624,
     "metadata": {},
     "output_type": "execute_result"
    }
   ],
   "source": [
    "import pandas as pd\n",
    "df=pd.DataFrame({'COMPANY':company_name,'TOTAL_SALARY_RECORDS':ttl_sal_rec,'Average_salary':avg_sal,'MINIMUN_SALARY':min_sal, 'MAXIMUM_SALARY':max_sal,'EXPERIENCE_REQUIRED': exp_req})\n",
    "df"
   ]
  },
  {
   "cell_type": "code",
   "execution_count": null,
   "id": "c58149aa",
   "metadata": {},
   "outputs": [],
   "source": []
  },
  {
   "cell_type": "code",
   "execution_count": null,
   "id": "9b9a1e7e",
   "metadata": {},
   "outputs": [],
   "source": []
  }
 ],
 "metadata": {
  "kernelspec": {
   "display_name": "Python 3 (ipykernel)",
   "language": "python",
   "name": "python3"
  },
  "language_info": {
   "codemirror_mode": {
    "name": "ipython",
    "version": 3
   },
   "file_extension": ".py",
   "mimetype": "text/x-python",
   "name": "python",
   "nbconvert_exporter": "python",
   "pygments_lexer": "ipython3",
   "version": "3.9.7"
  }
 },
 "nbformat": 4,
 "nbformat_minor": 5
}
