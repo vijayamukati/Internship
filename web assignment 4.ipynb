{
 "cells": [
  {
   "cell_type": "code",
   "execution_count": null,
   "id": "c333125b",
   "metadata": {},
   "outputs": [],
   "source": [
    "#Q1 \n",
    "#Importing required libraries\n",
    "import selenium\n",
    "import pandas as pd\n",
    "from selenium import webdriver\n",
    "import time\n",
    "from selenium.common.exceptions import NoSuchElementException\n",
    "from selenium.webdriver.common.keys import Keys\n",
    "from selenium.webdriver.common.by import By\n",
    "import warnings\n",
    "warnings.filterwarnings(\"ignore\")\n"
   ]
  },
  {
   "cell_type": "code",
   "execution_count": null,
   "id": "b434ebb9",
   "metadata": {},
   "outputs": [],
   "source": [
    "driver = webdriver.Chrome(\"chromedriver.exe\")\n",
    "time.sleep(2)"
   ]
  },
  {
   "cell_type": "code",
   "execution_count": null,
   "id": "8aa4ea29",
   "metadata": {},
   "outputs": [],
   "source": [
    "driver.get('https://en.wikipedia.org/wiki/List_of_most-viewed_YouTube_videos')"
   ]
  },
  {
   "cell_type": "code",
   "execution_count": null,
   "id": "8cfc6c15",
   "metadata": {},
   "outputs": [],
   "source": [
    "rank =[]\n",
    "name=[]\n",
    "artist=[]\n",
    "upload_date=[] \n",
    "views=[]"
   ]
  },
  {
   "cell_type": "code",
   "execution_count": null,
   "id": "9955b295",
   "metadata": {},
   "outputs": [],
   "source": [
    "n=driver.find_elements(By.XPATH,\"//table[@class='wikitable sortable jquery-tablesorter']/tbody/tr/td[2]\")\n",
    "for i in n:\n",
    "        name.append(i.text)                         \n",
    "print(name[0:30])"
   ]
  },
  {
   "cell_type": "code",
   "execution_count": null,
   "id": "da466750",
   "metadata": {},
   "outputs": [],
   "source": [
    "r=driver.find_elements(By.XPATH,\"//table[@class='wikitable sortable jquery-tablesorter']/tbody/tr/td[1]\")     \n",
    "for i in r: \n",
    "        rank.append(i.text)\n",
    "print(rank[0:30])                            "
   ]
  },
  {
   "cell_type": "code",
   "execution_count": null,
   "id": "c80ffcff",
   "metadata": {},
   "outputs": [],
   "source": [
    "artst=driver.find_elements(By.XPATH,\"//table[@class='wikitable sortable jquery-tablesorter']/tbody/tr/td[3]\")\n",
    "for i in artst:         \n",
    "        artist.append(i.text)\n",
    "print(artist[0:30])               \n"
   ]
  },
  {
   "cell_type": "code",
   "execution_count": null,
   "id": "bae20721",
   "metadata": {},
   "outputs": [],
   "source": [
    "vws=driver.find_elements(By.XPATH,\"//table[@class='wikitable sortable jquery-tablesorter']/tbody/tr/td[4]\")\n",
    "for i in vws:\n",
    "    views.append(i.text)\n",
    "print(views[0:30])                  "
   ]
  },
  {
   "cell_type": "code",
   "execution_count": null,
   "id": "dac66812",
   "metadata": {},
   "outputs": [],
   "source": [
    "ud=driver.find_elements(By.XPATH,\"//table[@class='wikitable sortable jquery-tablesorter']/tbody/tr/td[5]\")\n",
    "for i in ud:   \n",
    "    upload_date.append(i.text)\n",
    "print(upload_date[0:30])        \n",
    " "
   ]
  },
  {
   "cell_type": "code",
   "execution_count": null,
   "id": "a52c28a1",
   "metadata": {},
   "outputs": [],
   "source": [
    "#Checking the length of data extracted\n",
    "print(len(name),len(rank),len(upload_date),len(views),len(artist))"
   ]
  },
  {
   "cell_type": "code",
   "execution_count": null,
   "id": "ad4f42bd",
   "metadata": {},
   "outputs": [],
   "source": [
    "Youtube=pd.DataFrame({})\n",
    "Youtube['Rank']=rank\n",
    "Youtube['Name']=name\n",
    "Youtube['Artist']=artist\n",
    "Youtube['Views']=views\n",
    "Youtube['Upload Date']=upload_date\n",
    "Youtube"
   ]
  },
  {
   "cell_type": "code",
   "execution_count": null,
   "id": "cfca9571",
   "metadata": {
    "scrolled": true
   },
   "outputs": [],
   "source": [
    "#Removing the stray numbers from videoname\n",
    "yt_new=Youtube[\"Name\"].str.split(\"[\", n = 1, expand = True) \n",
    "yt_new"
   ]
  },
  {
   "cell_type": "code",
   "execution_count": null,
   "id": "a9deeed3",
   "metadata": {},
   "outputs": [],
   "source": [
    "#Dropping the column with stray numbers\n",
    "Youtube.drop(columns=['Name'],axis=1,inplace=True)"
   ]
  },
  {
   "cell_type": "code",
   "execution_count": null,
   "id": "384a093e",
   "metadata": {},
   "outputs": [],
   "source": [
    "#Inserting the name column\n",
    "Youtube.insert(1,\"Name\",yt_new[0])"
   ]
  },
  {
   "cell_type": "code",
   "execution_count": null,
   "id": "ba9e56db",
   "metadata": {},
   "outputs": [],
   "source": [
    "#Checking the data after removing the stray numbers\n",
    "Youtube  "
   ]
  },
  {
   "cell_type": "code",
   "execution_count": null,
   "id": "6790c42c",
   "metadata": {},
   "outputs": [],
   "source": [
    "driver.close()"
   ]
  },
  {
   "cell_type": "code",
   "execution_count": null,
   "id": "8bea5591",
   "metadata": {},
   "outputs": [],
   "source": [
    "#Q2...............\n",
    "\n",
    "import selenium\n",
    "import pandas as pd\n",
    "from selenium import webdriver\n",
    "import time\n",
    "import warnings\n",
    "warnings.filterwarnings(\"ignore\")"
   ]
  },
  {
   "cell_type": "code",
   "execution_count": null,
   "id": "873db452",
   "metadata": {},
   "outputs": [],
   "source": [
    "driver = webdriver.Chrome(\"chromedriver.exe\")\n",
    "time.sleep(2)"
   ]
  },
  {
   "cell_type": "code",
   "execution_count": null,
   "id": "b78bb5e0",
   "metadata": {},
   "outputs": [],
   "source": [
    "driver.get('https://www.bcci.tv/')"
   ]
  },
  {
   "cell_type": "code",
   "execution_count": null,
   "id": "365aa239",
   "metadata": {},
   "outputs": [],
   "source": [
    "link_button=driver.find_element_by_xpath('//*[@id=\"navigation\"]/ul[1]/li[2]/a')\n",
    "link_button.click()"
   ]
  },
  {
   "cell_type": "code",
   "execution_count": null,
   "id": "7460067c",
   "metadata": {},
   "outputs": [],
   "source": [
    "match_title=[]\n",
    "series=[]\n",
    "place=[]\n",
    "Date=[]\n",
    "Time=[]"
   ]
  },
  {
   "cell_type": "code",
   "execution_count": null,
   "id": "c104d637",
   "metadata": {},
   "outputs": [],
   "source": [
    "title=driver.find_elements_by_xpath('//span[@class=\"matchOrderText ng-binding ng-scope\"]')\n",
    "for i in title:\n",
    "        match_title.append(i.text)\n",
    "print(match_title)"
   ]
  },
  {
   "cell_type": "code",
   "execution_count": null,
   "id": "08746216",
   "metadata": {},
   "outputs": [],
   "source": [
    "srs=driver.find_elements_by_xpath('//span[@class=\"ng-binding\"]')\n",
    "for i in srs:\n",
    "    series.append(i.text)\n",
    "print(series)"
   ]
  },
  {
   "cell_type": "code",
   "execution_count": null,
   "id": "8fe13230",
   "metadata": {},
   "outputs": [],
   "source": [
    "loc=driver.find_elements_by_xpath('//span[@class=\"ng-binding ng-scope\"]')\n",
    "for i in loc:\n",
    "    place.append(i.text)\n",
    "print(place)"
   ]
  },
  {
   "cell_type": "code",
   "execution_count": null,
   "id": "e7acfb9a",
   "metadata": {},
   "outputs": [],
   "source": [
    "date=driver.find_elements_by_xpath('//h5[@class=\"ng-binding\"]')\n",
    "for i in date:\n",
    "        Date.append(i.text)\n",
    "print(Date)"
   ]
  },
  {
   "cell_type": "code",
   "execution_count": null,
   "id": "625cfa9a",
   "metadata": {},
   "outputs": [],
   "source": [
    "time=driver.find_elements_by_xpath('//h5[@class=\"text-right ng-binding\"]')\n",
    "for i in time:\n",
    "    if i.text is None :\n",
    "        Time.append(\"-\") \n",
    "    else:\n",
    "        Time.append(i.text)\n",
    "print(Time)"
   ]
  },
  {
   "cell_type": "code",
   "execution_count": null,
   "id": "55878bc7",
   "metadata": {},
   "outputs": [],
   "source": [
    "#Checking the length of data extracted\n",
    "print(len(match_title),len(series),len(Date),len(Time),len(place))"
   ]
  },
  {
   "cell_type": "code",
   "execution_count": null,
   "id": "5ab2aedc",
   "metadata": {},
   "outputs": [],
   "source": [
    "Youtube=pd.DataFrame({'MATCH TITLE':match_title,'Series':series,'Date':Date,'Time':Time,'PLACE':place})\n",
    "Youtube\n"
   ]
  },
  {
   "cell_type": "code",
   "execution_count": null,
   "id": "b03be05f",
   "metadata": {},
   "outputs": [],
   "source": [
    "driver.close()"
   ]
  },
  {
   "cell_type": "code",
   "execution_count": null,
   "id": "215604fb",
   "metadata": {},
   "outputs": [],
   "source": [
    "#Q.3\n",
    "driver = webdriver.Chrome(\"chromedriver.exe\")\n",
    "time.sleep(2)"
   ]
  },
  {
   "cell_type": "code",
   "execution_count": null,
   "id": "3074a68c",
   "metadata": {},
   "outputs": [],
   "source": [
    "driver.get('https://www.guru99.com/')"
   ]
  },
  {
   "cell_type": "code",
   "execution_count": null,
   "id": "923a2b70",
   "metadata": {},
   "outputs": [],
   "source": [
    "sel_button=driver.find_element_by_xpath('//*[@id=\"post-2669\"]/div/div[1]/div[1]/div[2]/div/div[2]/span[8]/a')\n",
    "sel_button.click()"
   ]
  },
  {
   "cell_type": "code",
   "execution_count": null,
   "id": "4f73d90a",
   "metadata": {},
   "outputs": [],
   "source": [
    "tutorial_button=driver.find_element_by_xpath('//*[@id=\"post-193\"]/div/div/table[5]/tbody/tr[34]/td[1]/a')\n",
    "tutorial_button.click()\n",
    "time.sleep(2)"
   ]
  },
  {
   "cell_type": "code",
   "execution_count": null,
   "id": "cc4155b1",
   "metadata": {},
   "outputs": [],
   "source": [
    "Name=[]\n",
    "Description=[]"
   ]
  },
  {
   "cell_type": "code",
   "execution_count": null,
   "id": "bd2e0bd6",
   "metadata": {},
   "outputs": [],
   "source": [
    "name=driver.find_elements_by_xpath('//td[1]')\n",
    "for i in name:\n",
    "    Name.append(i.text)\n",
    "print(Name)"
   ]
  },
  {
   "cell_type": "code",
   "execution_count": null,
   "id": "ee5e450d",
   "metadata": {},
   "outputs": [],
   "source": [
    "desc=driver.find_elements_by_xpath('//td[2]')\n",
    "for i in desc:\n",
    "        Description.append(i.text)\n",
    "print(Description)"
   ]
  },
  {
   "cell_type": "code",
   "execution_count": null,
   "id": "a7f46e45",
   "metadata": {},
   "outputs": [],
   "source": [
    "print(len(Name),len(Description))"
   ]
  },
  {
   "cell_type": "code",
   "execution_count": null,
   "id": "4f32b06e",
   "metadata": {},
   "outputs": [],
   "source": [
    "import pandas as pd\n",
    "sel_exception =pd.DataFrame({'Name':Name,'Description':Description})\n",
    "sel_exception"
   ]
  },
  {
   "cell_type": "code",
   "execution_count": null,
   "id": "e5edd0c9",
   "metadata": {},
   "outputs": [],
   "source": [
    "driver.close()"
   ]
  },
  {
   "cell_type": "code",
   "execution_count": null,
   "id": "2f211319",
   "metadata": {},
   "outputs": [],
   "source": [
    "#Q.4.........\n",
    "\n",
    "driver = webdriver.Chrome(\"chromedriver.exe\")\n",
    "time.sleep(2)"
   ]
  },
  {
   "cell_type": "code",
   "execution_count": null,
   "id": "f8120187",
   "metadata": {},
   "outputs": [],
   "source": [
    "driver.get('http://statisticstimes.com/')\n",
    "time.sleep(2)"
   ]
  },
  {
   "cell_type": "code",
   "execution_count": null,
   "id": "e78ab652",
   "metadata": {},
   "outputs": [],
   "source": [
    "dropbutton=driver.find_element_by_xpath('//*[@id=\"top\"]/div[2]/div[2]/button')\n",
    "dropbutton.click()\n",
    "time.sleep(2)"
   ]
  },
  {
   "cell_type": "code",
   "execution_count": null,
   "id": "16b064af",
   "metadata": {},
   "outputs": [],
   "source": [
    "economy=driver.find_element_by_xpath(\"//div[@class='navbar']/div[2]/div/a[3]\")  \n",
    "try:\n",
    "     economy.click()\n",
    "except ElementNotInteractableException:\n",
    "    driver.get(economy.get_attribute('href'))\n",
    "\n",
    "time.sleep(2)"
   ]
  },
  {
   "cell_type": "code",
   "execution_count": null,
   "id": "72050caa",
   "metadata": {},
   "outputs": [],
   "source": [
    "gdp=driver.find_element_by_xpath(\"/html/body/div[2]/div[2]/div[2]/ul/li[1]/a\")\n",
    "try:\n",
    "    gdp.click()\n",
    "except ElementNotInteractableException:\n",
    "    driver.get(gdp.get_attribute('href'))   "
   ]
  },
  {
   "cell_type": "code",
   "execution_count": null,
   "id": "806fbcbb",
   "metadata": {},
   "outputs": [],
   "source": [
    "Rank=[]\n",
    "State=[]\n",
    "GSDP17_18=[]\n",
    "GSDP18_19=[]\n",
    "GSDP19_20=[]\n",
    "Share2019=[]\n",
    "GDP=[]"
   ]
  },
  {
   "cell_type": "code",
   "execution_count": null,
   "id": "ff566372",
   "metadata": {},
   "outputs": [],
   "source": [
    "rank=driver.find_elements_by_xpath(\"//table[@class='display dataTable']/tbody/tr/td[1]\")\n",
    "for i in rank:\n",
    "    Rank.append(i.text)\n",
    "\n",
    "state=driver.find_elements_by_xpath(\"//table[@class='display dataTable']/tbody/tr/td[2]\")\n",
    "for i in state:\n",
    "    State.append(i.text)\n",
    "    \n",
    "for i in driver.find_elements_by_xpath(\"//table[@class='display dataTable']/tbody/tr/td[3]\"):\n",
    "    GSDP19_20.append(i.text)\n",
    "    \n",
    "for i in driver.find_elements_by_xpath(\"//table[@class='display dataTable']/tbody/tr/td[4]\"):\n",
    "    GSDP18_19.append(i.text)\n",
    "    \n",
    "\n",
    "for i in driver.find_elements_by_xpath(\"//table[@class='display dataTable']/tbody/tr/td[5]\"):\n",
    "    Share2019.append(i.text)\n",
    "    \n",
    "\n",
    "for i in driver.find_elements_by_xpath(\"//table[@class='display dataTable']/tbody/tr/td[6]\"):\n",
    "    GDP.append(i.text)"
   ]
  },
  {
   "cell_type": "code",
   "execution_count": null,
   "id": "fcd1248f",
   "metadata": {},
   "outputs": [],
   "source": [
    "#Creating a dataframe for the scrapped data\n",
    "GDP_data=pd.DataFrame({'Rank':Rank,'State':State,'GSDP(19-20)':GSDP19_20,'GSDP(18-19)':GSDP18_19,'Share2019':Share2019,\n",
    "                      'GDP($ billion)':GDP})\n",
    "GDP_data"
   ]
  },
  {
   "cell_type": "code",
   "execution_count": null,
   "id": "6a30ce3c",
   "metadata": {},
   "outputs": [],
   "source": [
    "driver.close()"
   ]
  },
  {
   "cell_type": "code",
   "execution_count": null,
   "id": "804e82c4",
   "metadata": {},
   "outputs": [],
   "source": [
    "#Q.5.......\n",
    "driver = webdriver.Chrome(\"chromedriver.exe\")\n",
    "time.sleep(2)\n",
    "\n",
    "driver.get('https://github.com/')\n",
    "time.sleep(2)"
   ]
  },
  {
   "cell_type": "code",
   "execution_count": null,
   "id": "53c39f69",
   "metadata": {},
   "outputs": [],
   "source": [
    "button=driver.find_element_by_xpath('/html/body/div[1]/header/div/div[2]/nav/ul/li[4]')\n",
    "button.click()\n",
    "time.sleep(2)"
   ]
  },
  {
   "cell_type": "code",
   "execution_count": null,
   "id": "c99df07d",
   "metadata": {},
   "outputs": [],
   "source": [
    "trending=driver.find_element_by_xpath('/html/body/div[1]/header/div/div[2]/nav/ul/li[4]/details/div/ul/li[5]/a') \n",
    "try:\n",
    "     trending.click()\n",
    "except ElementNotInteractableException:\n",
    "    driver.get(trending.get_attribute('href'))\n",
    "time.sleep(2)\n"
   ]
  },
  {
   "cell_type": "code",
   "execution_count": null,
   "id": "a03fe483",
   "metadata": {},
   "outputs": [],
   "source": [
    "rep_title=[]\n",
    "rep_desc=[]\n",
    "Count=[]\n",
    "Lang=[]"
   ]
  },
  {
   "cell_type": "code",
   "execution_count": null,
   "id": "87f86670",
   "metadata": {},
   "outputs": [],
   "source": [
    "title=driver.find_elements_by_xpath(\"//h1[@class='h3 lh-condensed']/a\")\n",
    "for i in title:\n",
    "    rep_title.append(i.text)"
   ]
  },
  {
   "cell_type": "code",
   "execution_count": null,
   "id": "3d593042",
   "metadata": {},
   "outputs": [],
   "source": [
    "    \n",
    "\n",
    "desc=driver.find_elements_by_xpath('//p[@class=\"col-9 color-fg-muted my-1 pr-4\"]')\n",
    "for i in desc:\n",
    "    if i.text is None:\n",
    "        rep_desc.append('-')\n",
    "    else:\n",
    "        rep_desc.append(i.text)"
   ]
  },
  {
   "cell_type": "code",
   "execution_count": null,
   "id": "3d43fdd8",
   "metadata": {},
   "outputs": [],
   "source": [
    "    \n",
    "count=driver.find_elements_by_xpath('//div[@class=\"f6 color-fg-muted mt-2\"]//a[2]')\n",
    "for i in count:\n",
    "    if i.text is None:\n",
    "        Count.append('-')\n",
    "    else:\n",
    "        Count.append(i.text)"
   ]
  },
  {
   "cell_type": "code",
   "execution_count": null,
   "id": "92216038",
   "metadata": {},
   "outputs": [],
   "source": [
    "    \n",
    "\n",
    "lang=driver.find_elements_by_xpath(\"//span[@class='d-inline-block ml-0 mr-3']\")\n",
    "for i in lang:\n",
    "    if i.text is None:\n",
    "        Lang.append('-')\n",
    "    else:\n",
    "        Lang.append(i.text)\n",
    "        "
   ]
  },
  {
   "cell_type": "code",
   "execution_count": null,
   "id": "91d3ffb7",
   "metadata": {},
   "outputs": [],
   "source": [
    "print(len(rep_title),len(rep_desc),len(Count),len(Lang))"
   ]
  },
  {
   "cell_type": "code",
   "execution_count": null,
   "id": "3b6085e8",
   "metadata": {
    "scrolled": true
   },
   "outputs": [],
   "source": [
    "github=pd.DataFrame({})\n",
    "github['Repository title']=rep_title[:18]\n",
    "github['Description']=rep_desc[:18]\n",
    "github['Contributors count']=Count[:18]\n",
    "github['Language used']=Lang\n",
    "github"
   ]
  },
  {
   "cell_type": "code",
   "execution_count": null,
   "id": "dae37586",
   "metadata": {},
   "outputs": [],
   "source": [
    "driver.close()"
   ]
  },
  {
   "cell_type": "code",
   "execution_count": null,
   "id": "de2749e5",
   "metadata": {},
   "outputs": [],
   "source": [
    "#Q.6.......\n",
    "driver = webdriver.Chrome(\"chromedriver.exe\")\n",
    "time.sleep(2)"
   ]
  },
  {
   "cell_type": "code",
   "execution_count": null,
   "id": "2705199b",
   "metadata": {},
   "outputs": [],
   "source": [
    "driver.get('https://www.billboard.com/')"
   ]
  },
  {
   "cell_type": "code",
   "execution_count": null,
   "id": "12bd7b6b",
   "metadata": {},
   "outputs": [],
   "source": [
    "Song_name=[]\n",
    "Artist_name=[]\n",
    "Last_week_rank=[]\n",
    "Peak_rank=[]\n",
    "Weeks_on_board=[]"
   ]
  },
  {
   "cell_type": "code",
   "execution_count": null,
   "id": "c1a903b2",
   "metadata": {},
   "outputs": [],
   "source": [
    "hot_100=driver.find_element_by_xpath(\"//nav[@class='header__subnav bg--light']/ul/li[3]/a\")\n",
    "try:\n",
    "    hot_100.click()\n",
    "except ElementNotInteractableException:\n",
    "    driver.get(hot_100.get_attribute('href'))"
   ]
  },
  {
   "cell_type": "code",
   "execution_count": null,
   "id": "3022e2d3",
   "metadata": {},
   "outputs": [],
   "source": [
    "Song=[]\n",
    "Artist=[]\n",
    "Lastweek=[]\n",
    "Peak=[]\n",
    "Weeks_on_board=[]"
   ]
  },
  {
   "cell_type": "code",
   "execution_count": null,
   "id": "6b00685a",
   "metadata": {},
   "outputs": [],
   "source": [
    "song=driver.find_elements_by_xpath(\"//span[@class='chart-element__information__song text--truncate color--primary']\")\n",
    "for i in song:\n",
    "    Song.append(i.text)\n",
    "    \n",
    "\n",
    "artist=driver.find_elements_by_xpath(\"//span[@class='chart-element__information__artist text--truncate color--secondary']\")\n",
    "for i in artist:\n",
    "    Artist.append(i.text)\n",
    "    \n",
    "\n",
    "last_week=driver.find_elements_by_xpath(\"//div[@class='chart-element__meta text--center color--secondary text--last']\")\n",
    "for i in last_week:\n",
    "    if i.text is None:\n",
    "        Lastweek.append('-')\n",
    "    else:\n",
    "        Lastweek.append(i.text)\n",
    "        \n",
    "\n",
    "peak=driver.find_elements_by_xpath(\"//div[@class='chart-element__meta text--center color--secondary text--peak']\")\n",
    "for i in peak:\n",
    "    if i.text is None:\n",
    "        Peak.append('-')\n",
    "    else:\n",
    "        Peak.append(i.text)\n",
    "        \n",
    "\n",
    "weeks=driver.find_elements_by_xpath(\"//div[@class='chart-element__meta text--center color--secondary text--week']\")\n",
    "for i in weeks:\n",
    "    if i.text is None:\n",
    "        Weeks_on_board.append('-')\n",
    "    else:\n",
    "        Weeks_on_board.append(i.text)"
   ]
  },
  {
   "cell_type": "code",
   "execution_count": null,
   "id": "e797b9ff",
   "metadata": {},
   "outputs": [],
   "source": [
    "billboard=pd.DataFrame({'Song':Song,'Artist':Artist,'Last week Rank':Lastweek,'Peak Rank':Peak,'Weeks on board':Weeks_on_board})\n",
    "billboard"
   ]
  },
  {
   "cell_type": "code",
   "execution_count": null,
   "id": "76ec0e98",
   "metadata": {},
   "outputs": [],
   "source": [
    "# Q.7.............\n",
    "    \n",
    "driver=webdriver.Chrome(\"chromedriver.exe\")\n",
    "driver.get('https://www.naukri.com/')"
   ]
  },
  {
   "cell_type": "code",
   "execution_count": null,
   "id": "df548f66",
   "metadata": {},
   "outputs": [],
   "source": [
    "companies=driver.find_element_by_xpath('//*[@id=\"root\"]/div[2]/div[1]/div/ul/li[2]/a/div')\n",
    "companies.click()"
   ]
  },
  {
   "cell_type": "code",
   "execution_count": null,
   "id": "0e47fe27",
   "metadata": {},
   "outputs": [],
   "source": [
    "recruit=driver.find_element_by_xpath('//div[@class=\"mTxt\"]')\n",
    "recruit.click()"
   ]
  },
  {
   "cell_type": "code",
   "execution_count": null,
   "id": "d42c484c",
   "metadata": {},
   "outputs": [],
   "source": [
    "search_job=driver.find_element_by_xpath(\"//input[@class='sugInp']\")\n",
    "search_job.send_keys('Data science')  "
   ]
  },
  {
   "cell_type": "code",
   "execution_count": null,
   "id": "eb5cb72f",
   "metadata": {},
   "outputs": [],
   "source": [
    "driver.find_element_by_xpath('//*[@id=\"qsbFormBtn\"]').click()"
   ]
  },
  {
   "cell_type": "code",
   "execution_count": null,
   "id": "b0ffc754",
   "metadata": {},
   "outputs": [],
   "source": [
    "Name=[]\n",
    "Designation=[]\n",
    "Company=[]\n",
    "Skills=[]\n",
    "Location=[]"
   ]
  },
  {
   "cell_type": "code",
   "execution_count": null,
   "id": "4a2a2c6a",
   "metadata": {},
   "outputs": [],
   "source": [
    "name=driver.find_elements_by_xpath('//a[@class=\"title fw500 ellipsis\"]')\n",
    "for i in name:\n",
    "    Name.append(i.text)"
   ]
  },
  {
   "cell_type": "code",
   "execution_count": null,
   "id": "2a91308f",
   "metadata": {},
   "outputs": [],
   "source": [
    "    \n",
    "desc=driver.find_elements_by_xpath(\"//span[@class='ellipsis clr']\")\n",
    "for i in desc:\n",
    "    Designation.append(i.text)"
   ]
  },
  {
   "cell_type": "code",
   "execution_count": null,
   "id": "2336733d",
   "metadata": {},
   "outputs": [],
   "source": [
    "company=driver.find_elements_by_xpath(\"//p[@class='highlightable']/a[2]\")\n",
    "for i in company:\n",
    "    Company.append(i.text)"
   ]
  },
  {
   "cell_type": "code",
   "execution_count": null,
   "id": "e663b903",
   "metadata": {},
   "outputs": [],
   "source": [
    "skills=driver.find_elements_by_xpath(\"//div[@class='hireSec highlightable']\")\n",
    "for i in skills:\n",
    "    Skills.append(i.text)"
   ]
  },
  {
   "cell_type": "code",
   "execution_count": null,
   "id": "07a7cce3",
   "metadata": {},
   "outputs": [],
   "source": [
    "location=driver.find_elements_by_xpath(\"//small[@class='ellipsis']\")\n",
    "for i in location:\n",
    "    Location.append(i.text) "
   ]
  },
  {
   "cell_type": "code",
   "execution_count": null,
   "id": "d3c11ef5",
   "metadata": {},
   "outputs": [],
   "source": [
    "print(len(Name),len(Designation),len(Company),len(Skills),len(Location))\n"
   ]
  },
  {
   "cell_type": "code",
   "execution_count": null,
   "id": "c86e4e0b",
   "metadata": {},
   "outputs": [],
   "source": [
    "naukri=pd.DataFrame({})\n",
    "naukri['Name']=Name[:48]\n",
    "naukri['Designation']=Designation[:48]\n",
    "naukri['Company']=Company[:48]\n",
    "naukri['Skills']=Skills[:48]\n",
    "naukri['Location']=Location\n",
    "naukri"
   ]
  },
  {
   "cell_type": "code",
   "execution_count": null,
   "id": "c0bebdfb",
   "metadata": {},
   "outputs": [],
   "source": [
    "#Q.8.................\n",
    "driver=webdriver.Chrome(\"chromedriver.exe\")  \n",
    "driver.get('https://www.theguardian.com/news/datablog/2012/aug/09/best-selling-books-all-time-fifty-shades-grey-compare/')"
   ]
  },
  {
   "cell_type": "code",
   "execution_count": null,
   "id": "02bbae30",
   "metadata": {},
   "outputs": [],
   "source": [
    "Book=[]\n",
    "Author=[]\n",
    "Volume=[]\n",
    "Publisher=[]\n",
    "Genre=[]"
   ]
  },
  {
   "cell_type": "code",
   "execution_count": null,
   "id": "570ac015",
   "metadata": {},
   "outputs": [],
   "source": [
    "book=driver.find_elements_by_xpath(\"//table[@class='in-article sortable']/tbody/tr/td[2]\")\n",
    "for i in book:\n",
    "    Book.append(i.text)\n",
    "    \n",
    "\n",
    "author=driver.find_elements_by_xpath(\"//table[@class='in-article sortable']/tbody/tr/td[3]\")\n",
    "for i in author:\n",
    "    Author.append(i.text)\n",
    "    \n",
    "\n",
    "volume=driver.find_elements_by_xpath(\"//table[@class='in-article sortable']/tbody/tr/td[4]\")\n",
    "for i in volume:\n",
    "    Volume.append(i.text)\n",
    "    \n",
    "publisher=driver.find_elements_by_xpath(\"//table[@class='in-article sortable']/tbody/tr/td[5]\")\n",
    "for i in publisher:\n",
    "    Publisher.append(i.text)\n",
    "    \n",
    "\n",
    "genre=driver.find_elements_by_xpath(\"//table[@class='in-article sortable']/tbody/tr/td[6]\")\n",
    "for i in genre:\n",
    "    Genre.append(i.text)"
   ]
  },
  {
   "cell_type": "code",
   "execution_count": null,
   "id": "d163ed62",
   "metadata": {},
   "outputs": [],
   "source": [
    "novels=pd.DataFrame({})\n",
    "novels['Book']=Book\n",
    "novels['Author']=Author\n",
    "novels['Volumes sold']=Volume\n",
    "novels['Publisher']=Publisher\n",
    "novels['Genre']=Genre\n",
    "novels"
   ]
  },
  {
   "cell_type": "code",
   "execution_count": null,
   "id": "74214864",
   "metadata": {},
   "outputs": [],
   "source": [
    "#Q.9............\n",
    "driver=webdriver.Chrome(\"chromedriver.exe\")  \n",
    "driver.get('https://www.imdb.com/list/ls095964455/')"
   ]
  },
  {
   "cell_type": "code",
   "execution_count": null,
   "id": "f82e0cec",
   "metadata": {},
   "outputs": [],
   "source": [
    "Name=[]\n",
    "Year=[]\n",
    "Genre=[]\n",
    "Runtime=[]\n",
    "Rating=[]\n",
    "Vote=[]"
   ]
  },
  {
   "cell_type": "code",
   "execution_count": null,
   "id": "0cc40d71",
   "metadata": {},
   "outputs": [],
   "source": [
    "name=driver.find_elements_by_xpath(\"//h3[@class='lister-item-header']/a\")\n",
    "for i in name:\n",
    "    Name.append(i.text)\n",
    "    \n",
    "\n",
    "year=driver.find_elements_by_xpath(\"//span[@class='lister-item-year text-muted unbold']\")\n",
    "for i in year:\n",
    "    Year.append(i.text)\n",
    "    \n",
    "\n",
    "genre=driver.find_elements_by_xpath(\"//span[@class='genre']\")\n",
    "for i in genre:\n",
    "    Genre.append(i.text)\n",
    "    \n",
    "\n",
    "runtime=driver.find_elements_by_xpath(\"//span[@class='runtime']\")\n",
    "for i in runtime:\n",
    "    Runtime.append(i.text)\n",
    "    \n",
    "\n",
    "rating=driver.find_elements_by_xpath(\"//div[@class='ipl-rating\n",
    "for i in rating:\n",
    "    Rating.append(i.text)\n",
    "    \n",
    "votes=driver.find_elements_by_xpath(\"//span[@name='nv']\")\n",
    "for i in votes:\n",
    "    Vote.append(i.text)"
   ]
  },
  {
   "cell_type": "code",
   "execution_count": null,
   "id": "dcebe913",
   "metadata": {},
   "outputs": [],
   "source": [
    "#Creating a dataframe for the scrapped data\n",
    "IMDB=pd.DataFrame({'Name':Name,'Year span':Year,'Genre':Genre,'Runtime':Runtime,'Rating':Rating,'Votes':Vote})\n",
    "IMDB                                     \n",
    "                                     "
   ]
  },
  {
   "cell_type": "code",
   "execution_count": null,
   "id": "2cbb5daf",
   "metadata": {},
   "outputs": [],
   "source": [
    "#Q.10..........\n",
    "driver=webdriver.Chrome(\"chromedriver.exe\")  \n",
    "driver.get('https://archive.ics.uci.edu/')"
   ]
  },
  {
   "cell_type": "code",
   "execution_count": null,
   "id": "dd5c7cbb",
   "metadata": {},
   "outputs": [],
   "source": [
    "datasets=driver.find_element_by_xpath(\"/html/body/table[1]/tbody/tr/td[2]/span[2]/a/font/b\")\n",
    "try:\n",
    "    datasets.click()\n",
    "except ElementNotInteractableException:\n",
    "    driver.get(datasets.get_attribute('href'))"
   ]
  },
  {
   "cell_type": "code",
   "execution_count": null,
   "id": "7c348082",
   "metadata": {},
   "outputs": [],
   "source": [
    "Type=[]\n",
    "Task=[]\n",
    "Attribute=[]\n",
    "No_of_Instance=[]\n",
    "No_of_Attribute=[]\n",
    "Year=[]"
   ]
  },
  {
   "cell_type": "code",
   "execution_count": null,
   "id": "9d822aea",
   "metadata": {},
   "outputs": [],
   "source": [
    "try:\n",
    "    names=driver.find_elements_by_xpath(\"/html/body/table[2]/tbody/tr/td[2]/table[2]/tbody/tr/td[1]/table/tbody/tr/td[2]/p/b/a\")\n",
    "    for i in names:\n",
    "        Name.append(i.text)\n",
    "except NoSuchElementException:\n",
    "    Name.append('-')\n",
    "    \n",
    "try:\n",
    "types=driver.find_elements_by_xpath(\"/html/body/table[2]/tbody/tr/td[2]/table[2]/tbody/tr/td[2]\")\n",
    "    for i in types[1:]:\n",
    "        Type.append(i.text)\n",
    "except NoSuchElementException:\n",
    "    Type.append('-')\n",
    "    \n",
    "try:\n",
    "    task=driver.find_elements_by_xpath(\"/html/body/table[2]/tbody/tr/td[2]/table[2]/tbody/tr/td[3]\")\n",
    "    for i in task[1:]:\n",
    "        Task.append(i.text)\n",
    "except NoSuchElementException:\n",
    "    Task.append('-')\n",
    "        \n",
    "try:\n",
    "    attribute=driver.find_elements_by_xpath(\"/html/body/table[2]/tbody/tr/td[2]/table[2]/tbody/tr/td[4]\")\n",
    "    for i in attribute[1:]:\n",
    "        Attribute.append(i.text)\n",
    "except NoSuchElementException:\n",
    "    Attribute.append('-')\n",
    "\n",
    "try:\n",
    "    instance=driver.find_elements_by_xpath(\"/html/body/table[2]/tbody/tr/td[2]/table[2]/tbody/tr/td[5]\")\n",
    "    for i in instance[1:]:\n",
    "        No_of_Instance.append(i.text)\n",
    "except NoSuchElementException:\n",
    "    No_of_Instance.append('-')\n",
    "        \n",
    "\n",
    "try:\n",
    "    attribute_no=driver.find_elements_by_xpath(\"/html/body/table[2]/tbody/tr/td[2]/table[2]/tbody/tr/td[6]\")\n",
    "    for i in attribute_no[1:]:\n",
    "        No_of_Attribute.append(i.text)\n",
    "except NoSuchElementException:\n",
    "     No_of_Attribute.append('-')\n",
    "        \n",
    "try:\n",
    "    year=driver.find_elements_by_xpath(\"/html/body/table[2]/tbody/tr/td[2]/table[2]/tbody/tr/td[7]\")\n",
    "    for i in year[1:]:\n",
    "        Year.append(i.text)\n",
    "except NoSuchElementException:\n",
    "    Year.append('-')"
   ]
  },
  {
   "cell_type": "code",
   "execution_count": null,
   "id": "8981cd58",
   "metadata": {},
   "outputs": [],
   "source": [
    "#Creating the dataframe\n",
    "df=pd.DataFrame({\"Name\":Name,\"Data types\":Type,\"Default Task\":Task,\"Attribute types\":Attribute, \n",
    "                 \"No of instances\":No_of_Instance,\"No of atrributes\":No_of_Attribute,\"Year\":Year})\n",
    "df"
   ]
  }
 ],
 "metadata": {
  "kernelspec": {
   "display_name": "Python 3 (ipykernel)",
   "language": "python",
   "name": "python3"
  },
  "language_info": {
   "codemirror_mode": {
    "name": "ipython",
    "version": 3
   },
   "file_extension": ".py",
   "mimetype": "text/x-python",
   "name": "python",
   "nbconvert_exporter": "python",
   "pygments_lexer": "ipython3",
   "version": "3.9.7"
  }
 },
 "nbformat": 4,
 "nbformat_minor": 5
}
