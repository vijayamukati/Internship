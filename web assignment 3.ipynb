{
 "cells": [
  {
   "cell_type": "code",
   "execution_count": 111,
   "id": "c333125b",
   "metadata": {},
   "outputs": [],
   "source": [
    "#Q1 and Q.2.............\n",
    "#Importing required libraries\n",
    "import selenium\n",
    "import pandas as pd\n",
    "from selenium import webdriver\n",
    "import time\n",
    "from selenium.common.exceptions import NoSuchElementException\n",
    "from selenium.webdriver.common.keys import Keys\n",
    "warnings.filterwarnings(\"ignore\")"
   ]
  },
  {
   "cell_type": "code",
   "execution_count": 112,
   "id": "b434ebb9",
   "metadata": {},
   "outputs": [],
   "source": [
    "driver = webdriver.Chrome(\"chromedriver.exe\")\n",
    "time.sleep(2)"
   ]
  },
  {
   "cell_type": "code",
   "execution_count": 113,
   "id": "8aa4ea29",
   "metadata": {},
   "outputs": [],
   "source": [
    "driver.get('https://www.amazon.in/')"
   ]
  },
  {
   "cell_type": "code",
   "execution_count": 114,
   "id": "08e11a85",
   "metadata": {},
   "outputs": [],
   "source": [
    "search_field_designation=driver.find_element_by_xpath('//*[@id=\"twotabsearchtextbox\"]')\n",
    "search_field_designation.send_keys(\"guitar\")"
   ]
  },
  {
   "cell_type": "code",
   "execution_count": 115,
   "id": "7d97ee2f",
   "metadata": {},
   "outputs": [],
   "source": [
    "search_button=driver.find_element_by_xpath('//*[@id=\"nav-search-submit-button\"]')\n",
    "search_button.click()\n",
    "time.sleep(2)"
   ]
  },
  {
   "cell_type": "code",
   "execution_count": 116,
   "id": "8cfc6c15",
   "metadata": {},
   "outputs": [],
   "source": [
    "brand_name=[]\n",
    "product_name=[]\n",
    "price=[]\n",
    "return_exchange=[] \n",
    "expected_delivery=[]\n",
    "availability=[]\n",
    "product_url=[]"
   ]
  },
  {
   "cell_type": "code",
   "execution_count": 122,
   "id": "dac66812",
   "metadata": {},
   "outputs": [
    {
     "ename": "InvalidArgumentException",
     "evalue": "Message: invalid argument: 'url' must be a string\n  (Session info: chrome=103.0.5060.66)\nStacktrace:\nBacktrace:\n\tOrdinal0 [0x00B7D953+2414931]\n\tOrdinal0 [0x00B0F5E1+1963489]\n\tOrdinal0 [0x009FC6B8+837304]\n\tOrdinal0 [0x00A54F86+1200006]\n\tOrdinal0 [0x00A4449C+1131676]\n\tOrdinal0 [0x00A54812+1198098]\n\tOrdinal0 [0x00A442B6+1131190]\n\tOrdinal0 [0x00A1E860+976992]\n\tOrdinal0 [0x00A1F756+980822]\n\tGetHandleVerifier [0x00DECC62+2510274]\n\tGetHandleVerifier [0x00DDF760+2455744]\n\tGetHandleVerifier [0x00C0EABA+551962]\n\tGetHandleVerifier [0x00C0D916+547446]\n\tOrdinal0 [0x00B15F3B+1990459]\n\tOrdinal0 [0x00B1A898+2009240]\n\tOrdinal0 [0x00B1A985+2009477]\n\tOrdinal0 [0x00B23AD1+2046673]\n\tBaseThreadInitThunk [0x75856359+25]\n\tRtlGetAppContainerNamedObjectPath [0x77EC87A4+228]\n\tRtlGetAppContainerNamedObjectPath [0x77EC8774+180]\n",
     "output_type": "error",
     "traceback": [
      "\u001b[1;31m---------------------------------------------------------------------------\u001b[0m",
      "\u001b[1;31mInvalidArgumentException\u001b[0m                  Traceback (most recent call last)",
      "\u001b[1;32mC:\\Users\\DEEPAK~1.MUK\\AppData\\Local\\Temp/ipykernel_5592/3699001395.py\u001b[0m in \u001b[0;36m<module>\u001b[1;34m\u001b[0m\n\u001b[0;32m     19\u001b[0m \u001b[1;33m\u001b[0m\u001b[0m\n\u001b[0;32m     20\u001b[0m \u001b[1;32mfor\u001b[0m \u001b[0mi\u001b[0m \u001b[1;32min\u001b[0m \u001b[0mURL\u001b[0m\u001b[1;33m:\u001b[0m\u001b[1;33m\u001b[0m\u001b[1;33m\u001b[0m\u001b[0m\n\u001b[1;32m---> 21\u001b[1;33m     \u001b[0mdriver\u001b[0m\u001b[1;33m.\u001b[0m\u001b[0mget\u001b[0m\u001b[1;33m(\u001b[0m\u001b[0mi\u001b[0m\u001b[1;33m)\u001b[0m\u001b[1;33m\u001b[0m\u001b[1;33m\u001b[0m\u001b[0m\n\u001b[0m\u001b[0;32m     22\u001b[0m     \u001b[0mproduct_url\u001b[0m\u001b[1;33m.\u001b[0m\u001b[0mappend\u001b[0m\u001b[1;33m(\u001b[0m\u001b[0mi\u001b[0m\u001b[1;33m)\u001b[0m\u001b[1;33m\u001b[0m\u001b[1;33m\u001b[0m\u001b[0m\n\u001b[0;32m     23\u001b[0m     \u001b[0mdriver\u001b[0m\u001b[1;33m.\u001b[0m\u001b[0mimplicitly_wait\u001b[0m\u001b[1;33m(\u001b[0m\u001b[1;36m3\u001b[0m\u001b[1;33m)\u001b[0m\u001b[1;33m\u001b[0m\u001b[1;33m\u001b[0m\u001b[0m\n",
      "\u001b[1;32mE:\\ANACONDA\\lib\\site-packages\\selenium\\webdriver\\remote\\webdriver.py\u001b[0m in \u001b[0;36mget\u001b[1;34m(self, url)\u001b[0m\n\u001b[0;32m    440\u001b[0m         \u001b[0mLoads\u001b[0m \u001b[0ma\u001b[0m \u001b[0mweb\u001b[0m \u001b[0mpage\u001b[0m \u001b[1;32min\u001b[0m \u001b[0mthe\u001b[0m \u001b[0mcurrent\u001b[0m \u001b[0mbrowser\u001b[0m \u001b[0msession\u001b[0m\u001b[1;33m.\u001b[0m\u001b[1;33m\u001b[0m\u001b[1;33m\u001b[0m\u001b[0m\n\u001b[0;32m    441\u001b[0m         \"\"\"\n\u001b[1;32m--> 442\u001b[1;33m         \u001b[0mself\u001b[0m\u001b[1;33m.\u001b[0m\u001b[0mexecute\u001b[0m\u001b[1;33m(\u001b[0m\u001b[0mCommand\u001b[0m\u001b[1;33m.\u001b[0m\u001b[0mGET\u001b[0m\u001b[1;33m,\u001b[0m \u001b[1;33m{\u001b[0m\u001b[1;34m'url'\u001b[0m\u001b[1;33m:\u001b[0m \u001b[0murl\u001b[0m\u001b[1;33m}\u001b[0m\u001b[1;33m)\u001b[0m\u001b[1;33m\u001b[0m\u001b[1;33m\u001b[0m\u001b[0m\n\u001b[0m\u001b[0;32m    443\u001b[0m \u001b[1;33m\u001b[0m\u001b[0m\n\u001b[0;32m    444\u001b[0m     \u001b[1;33m@\u001b[0m\u001b[0mproperty\u001b[0m\u001b[1;33m\u001b[0m\u001b[1;33m\u001b[0m\u001b[0m\n",
      "\u001b[1;32mE:\\ANACONDA\\lib\\site-packages\\selenium\\webdriver\\remote\\webdriver.py\u001b[0m in \u001b[0;36mexecute\u001b[1;34m(self, driver_command, params)\u001b[0m\n\u001b[0;32m    428\u001b[0m         \u001b[0mresponse\u001b[0m \u001b[1;33m=\u001b[0m \u001b[0mself\u001b[0m\u001b[1;33m.\u001b[0m\u001b[0mcommand_executor\u001b[0m\u001b[1;33m.\u001b[0m\u001b[0mexecute\u001b[0m\u001b[1;33m(\u001b[0m\u001b[0mdriver_command\u001b[0m\u001b[1;33m,\u001b[0m \u001b[0mparams\u001b[0m\u001b[1;33m)\u001b[0m\u001b[1;33m\u001b[0m\u001b[1;33m\u001b[0m\u001b[0m\n\u001b[0;32m    429\u001b[0m         \u001b[1;32mif\u001b[0m \u001b[0mresponse\u001b[0m\u001b[1;33m:\u001b[0m\u001b[1;33m\u001b[0m\u001b[1;33m\u001b[0m\u001b[0m\n\u001b[1;32m--> 430\u001b[1;33m             \u001b[0mself\u001b[0m\u001b[1;33m.\u001b[0m\u001b[0merror_handler\u001b[0m\u001b[1;33m.\u001b[0m\u001b[0mcheck_response\u001b[0m\u001b[1;33m(\u001b[0m\u001b[0mresponse\u001b[0m\u001b[1;33m)\u001b[0m\u001b[1;33m\u001b[0m\u001b[1;33m\u001b[0m\u001b[0m\n\u001b[0m\u001b[0;32m    431\u001b[0m             response['value'] = self._unwrap_value(\n\u001b[0;32m    432\u001b[0m                 response.get('value', None))\n",
      "\u001b[1;32mE:\\ANACONDA\\lib\\site-packages\\selenium\\webdriver\\remote\\errorhandler.py\u001b[0m in \u001b[0;36mcheck_response\u001b[1;34m(self, response)\u001b[0m\n\u001b[0;32m    245\u001b[0m                 \u001b[0malert_text\u001b[0m \u001b[1;33m=\u001b[0m \u001b[0mvalue\u001b[0m\u001b[1;33m[\u001b[0m\u001b[1;34m'alert'\u001b[0m\u001b[1;33m]\u001b[0m\u001b[1;33m.\u001b[0m\u001b[0mget\u001b[0m\u001b[1;33m(\u001b[0m\u001b[1;34m'text'\u001b[0m\u001b[1;33m)\u001b[0m\u001b[1;33m\u001b[0m\u001b[1;33m\u001b[0m\u001b[0m\n\u001b[0;32m    246\u001b[0m             \u001b[1;32mraise\u001b[0m \u001b[0mexception_class\u001b[0m\u001b[1;33m(\u001b[0m\u001b[0mmessage\u001b[0m\u001b[1;33m,\u001b[0m \u001b[0mscreen\u001b[0m\u001b[1;33m,\u001b[0m \u001b[0mstacktrace\u001b[0m\u001b[1;33m,\u001b[0m \u001b[0malert_text\u001b[0m\u001b[1;33m)\u001b[0m  \u001b[1;31m# type: ignore[call-arg]  # mypy is not smart enough here\u001b[0m\u001b[1;33m\u001b[0m\u001b[1;33m\u001b[0m\u001b[0m\n\u001b[1;32m--> 247\u001b[1;33m         \u001b[1;32mraise\u001b[0m \u001b[0mexception_class\u001b[0m\u001b[1;33m(\u001b[0m\u001b[0mmessage\u001b[0m\u001b[1;33m,\u001b[0m \u001b[0mscreen\u001b[0m\u001b[1;33m,\u001b[0m \u001b[0mstacktrace\u001b[0m\u001b[1;33m)\u001b[0m\u001b[1;33m\u001b[0m\u001b[1;33m\u001b[0m\u001b[0m\n\u001b[0m\u001b[0;32m    248\u001b[0m \u001b[1;33m\u001b[0m\u001b[0m\n\u001b[0;32m    249\u001b[0m     \u001b[1;32mdef\u001b[0m \u001b[0m_value_or_default\u001b[0m\u001b[1;33m(\u001b[0m\u001b[0mself\u001b[0m\u001b[1;33m,\u001b[0m \u001b[0mobj\u001b[0m\u001b[1;33m:\u001b[0m \u001b[0mMapping\u001b[0m\u001b[1;33m[\u001b[0m\u001b[0m_KT\u001b[0m\u001b[1;33m,\u001b[0m \u001b[0m_VT\u001b[0m\u001b[1;33m]\u001b[0m\u001b[1;33m,\u001b[0m \u001b[0mkey\u001b[0m\u001b[1;33m:\u001b[0m \u001b[0m_KT\u001b[0m\u001b[1;33m,\u001b[0m \u001b[0mdefault\u001b[0m\u001b[1;33m:\u001b[0m \u001b[0m_VT\u001b[0m\u001b[1;33m)\u001b[0m \u001b[1;33m->\u001b[0m \u001b[0m_VT\u001b[0m\u001b[1;33m:\u001b[0m\u001b[1;33m\u001b[0m\u001b[1;33m\u001b[0m\u001b[0m\n",
      "\u001b[1;31mInvalidArgumentException\u001b[0m: Message: invalid argument: 'url' must be a string\n  (Session info: chrome=103.0.5060.66)\nStacktrace:\nBacktrace:\n\tOrdinal0 [0x00B7D953+2414931]\n\tOrdinal0 [0x00B0F5E1+1963489]\n\tOrdinal0 [0x009FC6B8+837304]\n\tOrdinal0 [0x00A54F86+1200006]\n\tOrdinal0 [0x00A4449C+1131676]\n\tOrdinal0 [0x00A54812+1198098]\n\tOrdinal0 [0x00A442B6+1131190]\n\tOrdinal0 [0x00A1E860+976992]\n\tOrdinal0 [0x00A1F756+980822]\n\tGetHandleVerifier [0x00DECC62+2510274]\n\tGetHandleVerifier [0x00DDF760+2455744]\n\tGetHandleVerifier [0x00C0EABA+551962]\n\tGetHandleVerifier [0x00C0D916+547446]\n\tOrdinal0 [0x00B15F3B+1990459]\n\tOrdinal0 [0x00B1A898+2009240]\n\tOrdinal0 [0x00B1A985+2009477]\n\tOrdinal0 [0x00B23AD1+2046673]\n\tBaseThreadInitThunk [0x75856359+25]\n\tRtlGetAppContainerNamedObjectPath [0x77EC87A4+228]\n\tRtlGetAppContainerNamedObjectPath [0x77EC8774+180]\n"
     ]
    }
   ],
   "source": [
    "URL=[]  #Empty list\n",
    "for page in range(0,3):\n",
    "    for i in driver.find_elements_by_xpath('//h2[@class=\"a-size-mini a-spacing-none a-color-base s-line-clamp-2\"]'):     \n",
    "        URL.append(i.find_element_by_xpath('//a').get_attribute('href'))\n",
    "    try:\n",
    "        next_page=driver.find_element_by_xpath('//*[@id=\"search\"]/div[1]/div[1]/div/span[3]/div[2]/div[66]/div/div/span/a[3]').get_attribute('href')\n",
    "        driver.get(next_page)\n",
    "        driver.refresh()   \n",
    "    except:\n",
    "        break   \n",
    "        \n",
    "brand_name=[]\n",
    "product_name=[]\n",
    "price=[]\n",
    "return_exchange=[] \n",
    "expected_delivery=[]\n",
    "availability=[]\n",
    "product_url=[]\n",
    "     \n",
    "for i in URL:\n",
    "    driver.get(i)\n",
    "    product_url.append(i)\n",
    "    driver.implicitly_wait(3)\n",
    "\n",
    "    try:\n",
    "        brand_name.append(driver.find_element_by_xpath('//span[@class=\"a-size-base\"]').text)\n",
    "    except NoSuchElementException as e:\n",
    "        brand_name.append(\"-\")   \n",
    "    driver.implicitly_wait(3)\n",
    "        \n",
    "    try:\n",
    "        product_name.append(driver.find_element_by_xpath('//span[@class=\"a-size-large product-title-word-break\"]').text)  \n",
    "    except NoSuchElementException as e:\n",
    "            product_name.append(\"-\")\n",
    "    driver.implicitly_wait(3)\n",
    "    \n",
    "    \n",
    "    try:\n",
    "        price.append(driver.find_element_by_xpath('//span[@class=\"a-price-whole\"]').text)\n",
    "    except NoSuchElementException as e:\n",
    "        price.append(\"-\")\n",
    "    driver.implicitly_wait(3)\n",
    "      \n",
    "\n",
    "    try:\n",
    "        return_exchange.append(driver.find_element_by_xpath('//span[@class=\"a-size-small a-link-normal a-text-normal\"]').text)\n",
    "    except NoSuchElementException as e:\n",
    "        return_exchange.append(\"-\")\n",
    "    driver.implicitly_wait(3)\n",
    "    \n",
    "    \n",
    "    try:\n",
    "        expected_delivery.append(driver.find_element_by_xpath('//span[@class=\"a-text-bold\"]').text)\n",
    "    except NoSuchElementException as e:\n",
    "        expected_delivery.append(\"-\")\n",
    "    driver.implicitly_wait(3)\n",
    "    \n",
    "    \n",
    "    try:\n",
    "        availability.append(driver.find_element_by_xpath('//span[@class=\"a-size-medium a-color-success\"]').text)\n",
    "    except NoSuchElementException as e:    \n",
    "        availability.append(\"-\")\n",
    "    driver.implicitly_wait(3)\n",
    "    \n",
    "    "
   ]
  },
  {
   "cell_type": "code",
   "execution_count": 123,
   "id": "a846ad29",
   "metadata": {},
   "outputs": [
    {
     "name": "stdout",
     "output_type": "stream",
     "text": [
      "0 0 0 0 0 0 0\n"
     ]
    }
   ],
   "source": [
    "#Checking the length of data extracted\n",
    "print(len(brand_name),len(product_name),len(price),len(return_exchange),len(expected_delivery),\n",
    "      len(availability),len(product_url))"
   ]
  },
  {
   "cell_type": "code",
   "execution_count": null,
   "id": "4951617b",
   "metadata": {},
   "outputs": [],
   "source": [
    "#creating dataframe\n",
    "guitar=pd.DataFrame({'Brand Name':brand_name,'Name of Product':product_name,'Price':price,'Return/Exchange':return_exchange,\n",
    "                     'Expected Delivery':expected_delivery,'Availability':availability,\n",
    "                     'Product URL':product_url})\n",
    "guitar"
   ]
  },
  {
   "cell_type": "code",
   "execution_count": null,
   "id": "cfca9571",
   "metadata": {},
   "outputs": [],
   "source": []
  },
  {
   "cell_type": "code",
   "execution_count": null,
   "id": "8bea5591",
   "metadata": {},
   "outputs": [],
   "source": [
    "#Q3...............\n",
    "\n",
    "import selenium\n",
    "import requests\n",
    "import pandas as pd\n",
    "from selenium import webdriver\n",
    "import time\n",
    "import warnings\n",
    "warnings.filterwarnings(\"ignore\")"
   ]
  },
  {
   "cell_type": "code",
   "execution_count": null,
   "id": "cd60ecff",
   "metadata": {},
   "outputs": [],
   "source": [
    "from selenium.webdriver.chrome.options import Options\n",
    "chrome_options =Options()\n",
    "chrome_options.add_argument('--incognito')"
   ]
  },
  {
   "cell_type": "code",
   "execution_count": null,
   "id": "873db452",
   "metadata": {},
   "outputs": [],
   "source": [
    "driver = webdriver.Chrome(\"chromedriver.exe\")\n",
    "time.sleep(2)"
   ]
  },
  {
   "cell_type": "code",
   "execution_count": null,
   "id": "b78bb5e0",
   "metadata": {},
   "outputs": [],
   "source": [
    "driver.get('https://images.google.com/')"
   ]
  },
  {
   "cell_type": "code",
   "execution_count": null,
   "id": "253cd233",
   "metadata": {},
   "outputs": [],
   "source": [
    "search_field_designation=driver.find_element_by_xpath('/html/body/div[1]/div[3]/form/div[1]/div[1]/div[1]/div/div[2]/input')\n",
    "search_field_designation.send_keys(\"fruits\")"
   ]
  },
  {
   "cell_type": "code",
   "execution_count": null,
   "id": "69215b7e",
   "metadata": {},
   "outputs": [],
   "source": [
    "search_button=driver.find_element_by_xpath('/html/body/div[1]/div[3]/form/div[1]/div[1]/div[1]/button/div')\n",
    "search_button.click()"
   ]
  },
  {
   "cell_type": "code",
   "execution_count": null,
   "id": "34b19013",
   "metadata": {},
   "outputs": [],
   "source": [
    "image_url=[]\n",
    "\n",
    "\n",
    "images=driver.find_elements_by_xpath('//img[@class=\"rg_i Q4LuWd\"]')\n",
    "for i in images:\n",
    "    image_url.append(i.get_attribute('src'))\n",
    "\n",
    "element=driver.find_element_by_xpath('//*[@id=\"REsRA\"]')\n",
    "element.clear()\n",
    "\n",
    "search_field_designation=driver.find_element_by_xpath('//*[@id=\"REsRA\"]')\n",
    "search_field_designation.send_keys(\"cars\")\n",
    "\n",
    "search_button=driver.find_element_by_xpath('//*[@id=\"BIqFsb\"]/div/span')\n",
    "search_button.click()\n",
    "\n",
    "images=driver.find_elements_by_xpath('//img[@class=\"rg_i Q4LuWd\"]')\n",
    "for i in images:\n",
    "    image_url.append(i.get_attribute('src'))\n",
    "\n",
    "\n",
    "element=driver.find_element_by_xpath('//*[@id=\"REsRA\"]')\n",
    "element.clear()\n",
    "\n",
    "search_field_designation=driver.find_element_by_xpath('//*[@id=\"REsRA\"]')\n",
    "search_field_designation.send_keys(\"Machine Learning\")\n",
    "\n",
    "search_button=driver.find_element_by_xpath('//*[@id=\"BIqFsb\"]/div/span')\n",
    "search_button.click()\n",
    "\n",
    "images=driver.find_elements_by_xpath('//img[@class=\"rg_i Q4LuWd\"]')\n",
    "for i in images:\n",
    "    image_url.append(i.get_attribute('src'))\n",
    "\n",
    "element=driver.find_element_by_xpath('//*[@id=\"REsRA\"]')\n",
    "element.clear()\n",
    "\n",
    "search_field_designation=driver.find_element_by_xpath('//*[@id=\"REsRA\"]')\n",
    "search_field_designation.send_keys(\"Guitar\")\n",
    "\n",
    "search_button=driver.find_element_by_xpath('//*[@id=\"BIqFsb\"]/div/span')\n",
    "search_button.click()\n",
    "\n",
    "images=driver.find_elements_by_xpath('//img[@class=\"rg_i Q4LuWd\"]')\n",
    "for i in images:\n",
    "    image_url.append(i.get_attribute('src'))\n",
    "\n",
    "element=driver.find_element_by_xpath('//*[@id=\"REsRA\"]')\n",
    "element.clear()\n",
    "\n",
    "search_field_designation=driver.find_element_by_xpath('//*[@id=\"REsRA\"]')\n",
    "search_field_designation.send_keys(\"Cakes\")\n",
    "\n",
    "search_button=driver.find_element_by_xpath('//*[@id=\"BIqFsb\"]/div/span')\n",
    "search_button.click()\n",
    "\n",
    "images=driver.find_elements_by_xpath('//img[@class=\"rg_i Q4LuWd\"]')\n",
    "for i in images:\n",
    "    image_url.append(i.get_attribute('src'))\n",
    "\n",
    "time.sleep(2)"
   ]
  },
  {
   "cell_type": "code",
   "execution_count": null,
   "id": "b6154fc8",
   "metadata": {},
   "outputs": [],
   "source": [
    "image_url[0:10]"
   ]
  },
  {
   "cell_type": "code",
   "execution_count": null,
   "id": "c21910e8",
   "metadata": {},
   "outputs": [],
   "source": [
    "\n",
    "for image in images:\n",
    "    source= image.get_attribute('src')\n",
    "    if source is not None:\n",
    "        if(source[0:4]=='http'):\n",
    "            image_url.append(source)\n",
    "len(image_url)"
   ]
  },
  {
   "cell_type": "code",
   "execution_count": null,
   "id": "f9372d8f",
   "metadata": {},
   "outputs": [],
   "source": [
    "for i in range(len(image_url)):\n",
    "    if i >= 10:\n",
    "        break\n",
    "    print(\"Downloading {0} of {1} images\" .format(i, 10))\n",
    "    response= requests.get(image_url[i])\n",
    "    file = open(\"E:\\fliprobo\\fruits\\image\"+str(i)+\".jpg\", \"wb\")\n",
    "    file.write(response.content)"
   ]
  },
  {
   "cell_type": "code",
   "execution_count": null,
   "id": "215604fb",
   "metadata": {},
   "outputs": [],
   "source": [
    "#Q.4\n",
    "driver = webdriver.Chrome(\"chromedriver.exe\")\n",
    "time.sleep(2)"
   ]
  },
  {
   "cell_type": "code",
   "execution_count": null,
   "id": "3074a68c",
   "metadata": {},
   "outputs": [],
   "source": [
    "driver.get('https://www.flipkart.com/')"
   ]
  },
  {
   "cell_type": "code",
   "execution_count": null,
   "id": "923a2b70",
   "metadata": {},
   "outputs": [],
   "source": [
    "closebutton=driver.find_element_by_xpath('/html/body/div[2]/div/div/button')\n",
    "closebutton.click()"
   ]
  },
  {
   "cell_type": "code",
   "execution_count": null,
   "id": "41e040aa",
   "metadata": {},
   "outputs": [],
   "source": [
    "search_field_designation=driver.find_element_by_xpath('//*[@id=\"container\"]/div/div[1]/div[1]/div[2]/div[2]/form/div/div/input')\n",
    "search_field_designation.send_keys(\" Oneplus Nord, pixel 4A\")"
   ]
  },
  {
   "cell_type": "code",
   "execution_count": null,
   "id": "b459f481",
   "metadata": {},
   "outputs": [],
   "source": [
    "search_button=driver.find_element_by_xpath('//*[@id=\"container\"]/div/div[1]/div[1]/div[2]/div[2]/form/div/button')\n",
    "search_button.click()"
   ]
  },
  {
   "cell_type": "code",
   "execution_count": null,
   "id": "b20b1e59",
   "metadata": {},
   "outputs": [],
   "source": [
    "BrandName=[] \n",
    "RAM_ROM=[]\n",
    "Pri_sec_Camera=[] \n",
    "Display=[] \n",
    "Battery=[] \n",
    "Price=[]\n",
    "Prd_url=[]"
   ]
  },
  {
   "cell_type": "code",
   "execution_count": null,
   "id": "bd2e0bd6",
   "metadata": {},
   "outputs": [],
   "source": [
    "brand=driver.find_elements_by_xpath('//div[@class=\"_4rR01T\"]')\n",
    "for i in brand:\n",
    "    if i.text is None :\n",
    "        BrandName.append(\"-\") \n",
    "    else:\n",
    "        BrandName.append(i.text)\n",
    "print(BrandName)"
   ]
  },
  {
   "cell_type": "code",
   "execution_count": null,
   "id": "ee5e450d",
   "metadata": {},
   "outputs": [],
   "source": [
    "ram=driver.find_elements_by_xpath('//ul[@class=\"_1xgFaf\"]//li[1]')\n",
    "for i in ram:\n",
    "    if i.text is None :\n",
    "        RAM_ROM.append(\"-\") \n",
    "    else:\n",
    "        RAM_ROM.append(i.text)\n",
    "print(RAM_ROM)"
   ]
  },
  {
   "cell_type": "code",
   "execution_count": null,
   "id": "0a5f15a1",
   "metadata": {},
   "outputs": [],
   "source": [
    "camera=driver.find_elements_by_xpath('//ul[@class=\"_1xgFaf\"]//li[3]')\n",
    "for i in camera:\n",
    "    if i.text is None :\n",
    "        Pri_sec_Camera.append(\"--\") \n",
    "    else:\n",
    "        Pri_sec_Camera.append(i.text)\n",
    "print(Pri_sec_Camera)"
   ]
  },
  {
   "cell_type": "code",
   "execution_count": null,
   "id": "2e5db9af",
   "metadata": {},
   "outputs": [],
   "source": [
    "disp=driver.find_elements_by_xpath('//ul[@class=\"_1xgFaf\"]//li[2]')\n",
    "for i in disp:\n",
    "    if i.text is None :\n",
    "        Display.append(\"-\") \n",
    "    else:\n",
    "        Display.append(i.text)\n",
    "print(Display)"
   ]
  },
  {
   "cell_type": "code",
   "execution_count": null,
   "id": "acc139c2",
   "metadata": {},
   "outputs": [],
   "source": [
    "battery=driver.find_elements_by_xpath('//ul[@class=\"_1xgFaf\"]//li[4]')\n",
    "for i in battery: \n",
    "    if i.text is None :\n",
    "        Battery.append(\"-\") \n",
    "    else:  \n",
    "        Battery.append(i.text)\n",
    "print(Battery)"
   ]
  },
  {
   "cell_type": "code",
   "execution_count": null,
   "id": "9258b0c1",
   "metadata": {},
   "outputs": [],
   "source": [
    "prc=driver.find_elements_by_xpath('//div[@class=\"_30jeq3 _1_WHN1\"]')\n",
    "for i in prc:\n",
    "    if i.text is None :\n",
    "        Price.append(\"-\") \n",
    "    else:  \n",
    "        Price.append(i.text)\n",
    "print(Price)"
   ]
  },
  {
   "cell_type": "code",
   "execution_count": null,
   "id": "47720f27",
   "metadata": {},
   "outputs": [],
   "source": [
    "prdurl=driver.find_elements_by_xpath('//a[@class=\"_1fQZEK\"]')\n",
    "for i in prdurl:\n",
    "    if i.text is None :\n",
    "        Prd_url.append(\"-\") \n",
    "    else:  \n",
    "        Prd_url.append(i.get_attribute(\"href\"))  \n",
    "print(Prd_url)"
   ]
  },
  {
   "cell_type": "code",
   "execution_count": null,
   "id": "a7f46e45",
   "metadata": {},
   "outputs": [],
   "source": [
    "print(len(BrandName),len(RAM_ROM),len(Pri_sec_Camera),len(Display),len(Battery),len(Price),len(Prd_url))"
   ]
  },
  {
   "cell_type": "code",
   "execution_count": null,
   "id": "4f32b06e",
   "metadata": {},
   "outputs": [],
   "source": [
    "import pandas as pd\n",
    "df=pd.DataFrame({'BRAND':BrandName,'STORAGE RAM/ROM':RAM_ROM,'CAMERA':Pri_sec_Camera,'DISPLAY':Display,'BATTERY':Battery,'PRICE':Price,'PRODUCT_URL':Prd_url})\n",
    "df"
   ]
  },
  {
   "cell_type": "code",
   "execution_count": null,
   "id": "02168180",
   "metadata": {},
   "outputs": [],
   "source": []
  },
  {
   "cell_type": "code",
   "execution_count": null,
   "id": "16b064af",
   "metadata": {},
   "outputs": [],
   "source": [
    "#Q.5.........\n",
    "import re\n",
    "\n",
    "driver = webdriver.Chrome(\"chromedriver.exe\")\n",
    "time.sleep(2)\n",
    "\n",
    "driver.get('https://www.google.co.in/maps')\n",
    "time.sleep(2)\n",
    "\n",
    "city=input('enter city name here:')\n",
    "search_field=driver.find_element_by_xpath('//*[@id=\"searchboxinput\"]')\n",
    "search_field.clear()\n",
    "time.sleep(2)\n",
    "search_field.send_keys(city)\n",
    "\n",
    "search_button=driver.find_element_by_xpath('//*[@id=\"searchbox-searchbutton\"]')\n",
    "search_button.click()"
   ]
  },
  {
   "cell_type": "code",
   "execution_count": null,
   "id": "314f2406",
   "metadata": {},
   "outputs": [],
   "source": [
    "try:\n",
    "    url = driver.current_url\n",
    "    print(\"URL Extracted: \", url)\n",
    "    lat_lng = re.findall(r'@(.*)data',url)\n",
    "    if len(lat_lng):\n",
    "        lat_lng_list = lat_lng[0].split(\",\")\n",
    "        if len(lat_lng_list)>=2:\n",
    "            lat = lat_lng_list[0]\n",
    "            lng = lat_lng_list[1]\n",
    "        print(\"Latitude = {}, Longitude = {}\".format(lat, lng))\n",
    "\n",
    "except Exception as e:\n",
    "        print(\"Error: \", str(e))"
   ]
  },
  {
   "cell_type": "code",
   "execution_count": null,
   "id": "804e82c4",
   "metadata": {},
   "outputs": [],
   "source": [
    "#Q.6.......\n",
    "driver = webdriver.Chrome(\"chromedriver.exe\")\n",
    "time.sleep(2)\n",
    "\n",
    "driver.get('https://trak.in/india-startup-funding-investment-2015/')\n",
    "time.sleep(2)"
   ]
  },
  {
   "cell_type": "code",
   "execution_count": null,
   "id": "3b6085e8",
   "metadata": {},
   "outputs": [],
   "source": [
    "Date=[]\n",
    "StartupName=[]\n",
    "Industry=[]\n",
    "SubVertical=[]\n",
    "City=[]\n",
    "InvestorsName=[]\n",
    "InvestmentType=[]\n",
    "Amount=[]"
   ]
  },
  {
   "cell_type": "code",
   "execution_count": null,
   "id": "825587e0",
   "metadata": {},
   "outputs": [],
   "source": [
    "\n",
    "    date=driver.find_elements_by_xpath('//td[@class=\"column-2\"]')\n",
    "    for i in date:\n",
    "        Date.append(i.text)\n",
    "    print(Date)"
   ]
  },
  {
   "cell_type": "code",
   "execution_count": null,
   "id": "bbc29ad4",
   "metadata": {},
   "outputs": [],
   "source": [
    "startup=driver.find_elements_by_xpath('//td[@class=\"column-3\"]')\n",
    "for i in startup:\n",
    "    StartupName.append(i.text)\n",
    "print(StartupName)"
   ]
  },
  {
   "cell_type": "code",
   "execution_count": null,
   "id": "cdb40f14",
   "metadata": {},
   "outputs": [],
   "source": [
    "industry=driver.find_elements_by_xpath('//td[@class=\"column-4\"]')\n",
    "for i in industry:\n",
    "    Industry.append(i.text)\n",
    "print(Industry)"
   ]
  },
  {
   "cell_type": "code",
   "execution_count": null,
   "id": "cb0cc746",
   "metadata": {},
   "outputs": [],
   "source": [
    "subver=driver.find_elements_by_xpath('//td[@class=\"column-5\"]')\n",
    "for i in subver:\n",
    "    SubVertical.append(i.text)\n",
    "print(SubVertical)"
   ]
  },
  {
   "cell_type": "code",
   "execution_count": null,
   "id": "fc89223f",
   "metadata": {},
   "outputs": [],
   "source": [
    "loc=driver.find_elements_by_xpath('//td[@class=\"column-6\"]')\n",
    "for i in loc:\n",
    "    City.append(i.text)\n",
    "print(City)"
   ]
  },
  {
   "cell_type": "code",
   "execution_count": null,
   "id": "9a637d91",
   "metadata": {},
   "outputs": [],
   "source": [
    "invname=driver.find_elements_by_xpath('//td[@class=\"column-7\"]')\n",
    "for i in invname:\n",
    "    InvestorsName.append(i.text)\n",
    "InvestorsName"
   ]
  },
  {
   "cell_type": "code",
   "execution_count": null,
   "id": "69a65645",
   "metadata": {},
   "outputs": [],
   "source": [
    "invtype=driver.find_elements_by_xpath('//td[@class=\"column-8\"]')\n",
    "for i in invtype:\n",
    "    InvestmentType.append(i.text)\n",
    "print(InvestmentType)"
   ]
  },
  {
   "cell_type": "code",
   "execution_count": null,
   "id": "bf6f541c",
   "metadata": {},
   "outputs": [],
   "source": [
    "amt=driver.find_elements_by_xpath('//td[@class=\"column-9\"]')\n",
    "for i in amt:\n",
    "    Amount.append(i.text)\n",
    "print(Amount)"
   ]
  },
  {
   "cell_type": "code",
   "execution_count": null,
   "id": "1deec9a0",
   "metadata": {},
   "outputs": [],
   "source": [
    "import numpy as np\n",
    "import pandas as pd\n",
    "df=pd.DataFrame({'DATE':Date,'STARTUP_NAME':StartupName,'INDUSTRY':Industry,'SUBVERTICAL':SubVertical,'CITY':City,'INVESTORS_NAME':InvestorsName,'INVESTMENTTYPE':InvestmentType,'AMOUNT':Amount})\n",
    "df"
   ]
  },
  {
   "cell_type": "code",
   "execution_count": null,
   "id": "132410c7",
   "metadata": {},
   "outputs": [],
   "source": [
    "#we need data for fundimg deals between jan 2021 - march 2021,here it is:\n",
    "df[5:29]"
   ]
  },
  {
   "cell_type": "code",
   "execution_count": null,
   "id": "47926108",
   "metadata": {},
   "outputs": [],
   "source": [
    "#Q.7\n",
    "driver = webdriver.Chrome(\"chromedriver.exe\")\n",
    "time.sleep(2)\n",
    "\n",
    "driver.get('https://www.digit.in/top-products/best-gaming-laptops-40.html')\n",
    "time.sleep(2)"
   ]
  },
  {
   "cell_type": "code",
   "execution_count": null,
   "id": "756ce101",
   "metadata": {},
   "outputs": [],
   "source": [
    "brand=[]\n",
    "prod_desc=[]\n",
    "price=[]"
   ]
  },
  {
   "cell_type": "code",
   "execution_count": null,
   "id": "90319249",
   "metadata": {},
   "outputs": [],
   "source": [
    "brd=driver.find_elements_by_xpath('//h3')\n",
    "for i in brd:\n",
    "    brand.append(i.text)\n",
    "print(brand)"
   ]
  },
  {
   "cell_type": "code",
   "execution_count": null,
   "id": "6aa1d71d",
   "metadata": {},
   "outputs": [],
   "source": [
    "desc=driver.find_elements_by_xpath('//div[@class=\"value\"]')\n",
    "for i in desc:\n",
    "    prod_desc.append(i.text)\n",
    "print(prod_desc)"
   ]
  },
  {
   "cell_type": "code",
   "execution_count": null,
   "id": "20b1e64b",
   "metadata": {},
   "outputs": [],
   "source": [
    "prc=driver.find_elements_by_xpath('//td[@class=\"smprice\"]')\n",
    "for i in prc:\n",
    "    price.append(i.text)\n",
    "print(price)"
   ]
  },
  {
   "cell_type": "code",
   "execution_count": null,
   "id": "bfa6ae0a",
   "metadata": {},
   "outputs": [],
   "source": []
  },
  {
   "cell_type": "code",
   "execution_count": 133,
   "id": "de2749e5",
   "metadata": {},
   "outputs": [],
   "source": [
    "#Q.8.......\n",
    "driver = webdriver.Chrome(\"chromedriver.exe\")\n",
    "time.sleep(2)"
   ]
  },
  {
   "cell_type": "code",
   "execution_count": 134,
   "id": "0a1ddfe6",
   "metadata": {},
   "outputs": [],
   "source": [
    "driver.get('https://www.forbes.com/')"
   ]
  },
  {
   "cell_type": "code",
   "execution_count": 135,
   "id": "75cfb671",
   "metadata": {},
   "outputs": [],
   "source": [
    "explorebutton=driver.find_element_by_xpath('/html/body/div[1]/header/nav/div[1]/button[1]')\n",
    "explorebutton.click()"
   ]
  },
  {
   "cell_type": "code",
   "execution_count": 136,
   "id": "d0333bc4",
   "metadata": {},
   "outputs": [],
   "source": [
    "billionaires=driver.find_element_by_xpath('/html/body/div[1]/header/nav/div[3]/ul/li[1]')\n",
    "billionaires.click()"
   ]
  },
  {
   "cell_type": "code",
   "execution_count": 137,
   "id": "e7d43647",
   "metadata": {},
   "outputs": [],
   "source": [
    "worldbillionaires=driver.find_element_by_xpath('/html/body/div[1]/header/nav/div[3]/ul/li[1]/div[2]/ul/li[2]/a')\n",
    "worldbillionaires.click()"
   ]
  },
  {
   "cell_type": "code",
   "execution_count": 138,
   "id": "4c6ca916",
   "metadata": {},
   "outputs": [],
   "source": [
    "Rank=[]\n",
    "Name=[]\n",
    "Net_worth=[]\n",
    "Age=[]\n",
    "Citizenship=[]\n",
    "Source=[]\n",
    "Industry=[]"
   ]
  },
  {
   "cell_type": "code",
   "execution_count": 141,
   "id": "4d2cd3f1",
   "metadata": {},
   "outputs": [
    {
     "name": "stdout",
     "output_type": "stream",
     "text": [
      "['1.', '2.', '3.', '4.', '5.', '6.', '7.', '8.', '9.', '10.', '11.', '12.', '13.', '14.', '15.', '16.', '17.', '18.', '19.', '19.', '21.', '21.', '23.', '24.', '25.', '26.', '27.', '28.', '29.', '30.', '31.', '32.', '33.', '34.', '35.', '36.', '37.', '37.', '39.', '40.', '41.', '41.', '43.', '43.', '45.', '46.', '47.', '48.', '49.', '50.', '51.', '52.', '53.', '54.', '55.', '56.', '56.', '56.', '59.', '60.', '61.', '62.', '63.', '64.', '65.', '66.', '67.', '67.', '69.', '70.', '71.', '71.', '73.', '74.', '75.', '76.', '77.', '78.', '79.', '80.', '81.', '82.', '83.', '84.', '85.', '85.', '87.', '88.', '89.', '90.', '91.', '91.', '91.', '94.', '94.', '96.', '97.', '98.', '99.', '100.', '100.', '102.', '103.', '104.', '104.', '106.', '106.', '106.', '106.', '110.', '111.', '112.', '113.', '114.', '115.', '116.', '117.', '117.', '119.', '119.', '121.', '121.', '123.', '123.', '125.', '126.', '127.', '128.', '129.', '130.', '130.', '132.', '133.', '134.', '135.', '135.', '137.', '138.', '138.', '138.', '138.', '142.', '142.', '144.', '144.', '146.', '146.', '146.', '149.', '150.', '151.', '152.', '152.', '154.', '154.', '156.', '156.', '158.', '158.', '158.', '161.', '161.', '163.', '163.', '163.', '166.', '167.', '167.', '167.', '167.', '171.', '171.', '173.', '173.', '173.', '173.', '177.', '177.', '179.', '180.', '180.', '180.', '183.', '183.', '185.', '185.', '185.', '188.', '188.', '188.', '191.', '192.', '192.', '192.', '192.', '192.', '197.', '197.', '197.', '197.']\n"
     ]
    }
   ],
   "source": [
    "\n",
    "rank=driver.find_elements_by_xpath('//div[@class=\"rank\"]')\n",
    "for i in rank:\n",
    "    Rank.append(i.text)\n",
    "print(Rank)"
   ]
  },
  {
   "cell_type": "code",
   "execution_count": 142,
   "id": "80daf742",
   "metadata": {},
   "outputs": [
    {
     "name": "stdout",
     "output_type": "stream",
     "text": [
      "['Elon Musk', 'Jeff Bezos', 'Bernard Arnault & family', 'Bill Gates', 'Warren Buffett', 'Larry Page', 'Sergey Brin', 'Larry Ellison', 'Steve Ballmer', 'Mukesh Ambani', 'Gautam Adani & family', 'Michael Bloomberg', 'Carlos Slim Helu & family', 'Francoise Bettencourt Meyers & family', 'Mark Zuckerberg', 'Jim Walton', 'Zhong Shanshan', 'Alice Walton', 'Rob Walton', 'Changpeng Zhao', 'Charles Koch', 'Julia Koch & family', 'Amancio Ortega', 'Michael Dell', 'Zhang Yiming', 'David Thomson & family', 'Phil Knight & family', 'Dieter Schwarz', 'Robin Zeng', 'MacKenzie Scott', 'Rodolphe Saadé & family', 'François Pinault & family', 'Klaus-Michael Kuehne', 'Ma Huateng', 'Beate Heister & Karl Albrecht Jr. & family', 'Giovanni Ferrero', 'Li Ka-shing', 'Stephen Schwarzman', 'Lee Shau Kee', 'Len Blavatnik', 'Jacqueline Mars', 'John Mars', 'Alain Wertheimer', 'Gerard Wertheimer', 'German Larrea Mota Velasco & family', 'Gina Rinehart', 'Shiv Nadar', 'Jim Simons', 'He Xiangjian', 'Miriam Adelson', 'Dietrich Mateschitz', 'Leonardo Del Vecchio & family', 'Ken Griffin', 'Tadashi Yanai & family', 'William Lei Ding', 'Susanne Klatten', 'Cyrus Poonawalla', 'Wang Wei', 'Qin Yinglin', 'Sam Bankman-Fried', 'Takemitsu Takizaki', 'Li Shufu', 'Emmanuel Besnier', 'R. Budi Hartono', 'Leonard Lauder', 'Guillaume Pousaz', 'Iris Fontbona & family', 'Jack Ma', 'Michael Hartono', 'Eric Schmidt', 'Ray Dalio', 'Daniel Gilbert', 'Thomas Frist, Jr. & family', 'Masayoshi Son', 'Abigail Johnson', 'Rupert Murdoch & family', 'Stefan Quandt', 'Jensen Huang', 'Huang Shilin', 'Thomas Peterffy', 'Radhakishan Damani', 'Pang Kang', 'Wang Chuanfu', 'Reinhold Wuerth & family', 'Theo Albrecht, Jr. & family', 'Yang Huiyan & family', 'Vladimir Lisin', 'Fan Hongwei & family', 'Lakshmi Mittal', 'Andrew Forrest', 'Jiang Rensheng & family', 'Savitri Jindal & family', 'Wang Wenyin', 'Li Xiting', 'Stefan Persson', 'Steve Cohen', 'Vladimir Potanin', 'Harold Hamm & family', 'Sun Piaoyang', 'Luo Liguo & family', 'Peter Woo', 'Gianluigi & Rafaela Aponte', 'David Tepper', 'Renata Kellnerova & family', 'John Menard, Jr.', 'Kumar Birla', 'Carl Icahn', 'Hank & Doug Meijer', 'Lukas Walton', 'Laurene Powell Jobs & family', 'James Ratcliffe', 'Donald Bren', 'Xu Hang', 'Lu Xiangyang', 'Dilip Shanghvi', 'Wei Jianjun & family', 'Jorge Paulo Lemann & family', 'Eyal Ofer', 'Mike Cannon-Brookes', 'Wu Yajun', 'Charlene de Carvalho-Heineken & family', 'Michael Platt', 'Pavel Durov', 'Scott Farquhar', 'Pallonji Mistry', 'Dang Yanbao', 'Robert Pera', 'Donald Newhouse', 'Uday Kotak', 'Aliko Dangote', 'Leonid Mikhelson', 'Sunil Mittal & family', 'Robert & Philip Ng', 'Liu Hanyuan', 'Joseph Lau', 'Anders Holch Povlsen', 'Dhanin Chearavanont', 'Gong Hongjia & family', 'Liu Yongxing', 'Alexey Mordashov', 'Wang Jianlin', 'David Duffield', 'Li Zhenguo & family', 'Harry Triguboff', 'Zhang Zhidong', 'Chen Bang', 'John Doerr', 'Hinduja brothers', 'Kwong Siu-hing', 'Pei Zhenhua', 'Ricardo Salinas Pliego & family', 'Jim Pattison', 'Charles Schwab', 'Goh Cheng Liang', 'Lin Jianhua & family', 'Charoen Sirivadhanabhakdi', 'Jeff Yass', 'John Fredriksen', 'Andreas Struengmann & family', 'Thomas Struengmann & family', 'Mikhail Fridman', 'Sarath Ratanavadi', 'Robert Kuok', 'Lei Jun', 'Zhang Congyuan', 'Lui Che Woo', 'Brian Chesky', 'Israel Englander', 'Dustin Moskovitz', 'Alisher Usmanov', 'Jay Chaudhry', 'Anthony Pratt', 'Colin Zheng Huang', 'Jin Baofang', 'Pierre Omidyar', 'Gennady Timchenko', 'Carl Cook', 'Andrey Melnichenko', 'Xing Wang', 'Philip Anschutz', 'David Cheriton', 'Alexander Otto', 'Diane Hendricks', 'Stanley Kroenke', 'Jerry Jones', 'Quek Leng Chan', 'Eduardo Saverin', 'Vagit Alekperov', 'Richard Liu', 'Idan Ofer', 'Melker Schorling & family', 'Chase Coleman, III.', 'Shuirong Li', 'Stefano Pessina', 'Mikhail Prokhorov', 'Marcel Herrmann Telles', 'Leon Black', 'Joe Gebbia', 'David Geffen', 'Yu Renrong', 'Elon Musk', 'Jeff Bezos', 'Bernard Arnault & family', 'Bill Gates', 'Warren Buffett', 'Larry Page', 'Sergey Brin', 'Larry Ellison', 'Steve Ballmer', 'Mukesh Ambani', 'Gautam Adani & family', 'Michael Bloomberg', 'Carlos Slim Helu & family', 'Francoise Bettencourt Meyers & family', 'Mark Zuckerberg', 'Jim Walton', 'Zhong Shanshan', 'Alice Walton', 'Rob Walton', 'Changpeng Zhao', 'Charles Koch', 'Julia Koch & family', 'Amancio Ortega', 'Michael Dell', 'Zhang Yiming', 'David Thomson & family', 'Phil Knight & family', 'Dieter Schwarz', 'Robin Zeng', 'MacKenzie Scott', 'Rodolphe Saadé & family', 'François Pinault & family', 'Klaus-Michael Kuehne', 'Ma Huateng', 'Beate Heister & Karl Albrecht Jr. & family', 'Giovanni Ferrero', 'Li Ka-shing', 'Stephen Schwarzman', 'Lee Shau Kee', 'Len Blavatnik', 'Jacqueline Mars', 'John Mars', 'Alain Wertheimer', 'Gerard Wertheimer', 'German Larrea Mota Velasco & family', 'Gina Rinehart', 'Shiv Nadar', 'Jim Simons', 'He Xiangjian', 'Miriam Adelson', 'Dietrich Mateschitz', 'Leonardo Del Vecchio & family', 'Ken Griffin', 'Tadashi Yanai & family', 'William Lei Ding', 'Susanne Klatten', 'Cyrus Poonawalla', 'Wang Wei', 'Qin Yinglin', 'Sam Bankman-Fried', 'Takemitsu Takizaki', 'Li Shufu', 'Emmanuel Besnier', 'R. Budi Hartono', 'Leonard Lauder', 'Guillaume Pousaz', 'Iris Fontbona & family', 'Jack Ma', 'Michael Hartono', 'Eric Schmidt', 'Ray Dalio', 'Daniel Gilbert', 'Thomas Frist, Jr. & family', 'Masayoshi Son', 'Abigail Johnson', 'Rupert Murdoch & family', 'Stefan Quandt', 'Jensen Huang', 'Huang Shilin', 'Thomas Peterffy', 'Radhakishan Damani', 'Pang Kang', 'Wang Chuanfu', 'Reinhold Wuerth & family', 'Theo Albrecht, Jr. & family', 'Yang Huiyan & family', 'Vladimir Lisin', 'Fan Hongwei & family', 'Lakshmi Mittal', 'Andrew Forrest', 'Jiang Rensheng & family', 'Savitri Jindal & family', 'Wang Wenyin', 'Li Xiting', 'Stefan Persson', 'Steve Cohen', 'Vladimir Potanin', 'Harold Hamm & family', 'Sun Piaoyang', 'Luo Liguo & family', 'Peter Woo', 'Gianluigi & Rafaela Aponte', 'David Tepper', 'Renata Kellnerova & family', 'John Menard, Jr.', 'Kumar Birla', 'Carl Icahn', 'Hank & Doug Meijer', 'Lukas Walton', 'Laurene Powell Jobs & family', 'James Ratcliffe', 'Donald Bren', 'Xu Hang', 'Lu Xiangyang', 'Dilip Shanghvi', 'Wei Jianjun & family', 'Jorge Paulo Lemann & family', 'Eyal Ofer', 'Mike Cannon-Brookes', 'Wu Yajun', 'Charlene de Carvalho-Heineken & family', 'Michael Platt', 'Pavel Durov', 'Scott Farquhar', 'Pallonji Mistry', 'Dang Yanbao', 'Robert Pera', 'Donald Newhouse', 'Uday Kotak', 'Aliko Dangote', 'Leonid Mikhelson', 'Sunil Mittal & family', 'Robert & Philip Ng', 'Liu Hanyuan', 'Joseph Lau', 'Anders Holch Povlsen', 'Dhanin Chearavanont', 'Gong Hongjia & family', 'Liu Yongxing', 'Alexey Mordashov', 'Wang Jianlin', 'David Duffield', 'Li Zhenguo & family', 'Harry Triguboff', 'Zhang Zhidong', 'Chen Bang', 'John Doerr', 'Hinduja brothers', 'Kwong Siu-hing', 'Pei Zhenhua', 'Ricardo Salinas Pliego & family', 'Jim Pattison', 'Charles Schwab', 'Goh Cheng Liang', 'Lin Jianhua & family', 'Charoen Sirivadhanabhakdi', 'Jeff Yass', 'John Fredriksen', 'Andreas Struengmann & family', 'Thomas Struengmann & family', 'Mikhail Fridman', 'Sarath Ratanavadi', 'Robert Kuok', 'Lei Jun', 'Zhang Congyuan', 'Lui Che Woo', 'Brian Chesky', 'Israel Englander', 'Dustin Moskovitz', 'Alisher Usmanov', 'Jay Chaudhry', 'Anthony Pratt', 'Colin Zheng Huang', 'Jin Baofang', 'Pierre Omidyar', 'Gennady Timchenko', 'Carl Cook', 'Andrey Melnichenko', 'Xing Wang', 'Philip Anschutz', 'David Cheriton', 'Alexander Otto', 'Diane Hendricks', 'Stanley Kroenke', 'Jerry Jones', 'Quek Leng Chan', 'Eduardo Saverin', 'Vagit Alekperov', 'Richard Liu', 'Idan Ofer', 'Melker Schorling & family', 'Chase Coleman, III.', 'Shuirong Li', 'Stefano Pessina', 'Mikhail Prokhorov', 'Marcel Herrmann Telles', 'Leon Black', 'Joe Gebbia', 'David Geffen', 'Yu Renrong']\n"
     ]
    }
   ],
   "source": [
    "name=driver.find_elements_by_xpath('//div[@class=\"personName\"]')\n",
    "for i in name:\n",
    "    Name.append(i.text)\n",
    "print(Name)"
   ]
  },
  {
   "cell_type": "code",
   "execution_count": 143,
   "id": "1e564fd7",
   "metadata": {},
   "outputs": [
    {
     "name": "stdout",
     "output_type": "stream",
     "text": [
      "['$219 B', '$171 B', '$158 B', '$129 B', '$118 B', '$111 B', '$107 B', '$106 B', '$91.4 B', '$90.7 B', '$90 B', '$82 B', '$81.2 B', '$74.8 B', '$67.3 B', '$66.2 B', '$65.7 B', '$65.3 B', '$65 B', '$65 B', '$60 B', '$60 B', '$59.6 B', '$55.1 B', '$50 B', '$49.2 B', '$47.3 B', '$47.1 B', '$44.8 B', '$43.6 B', '$41.4 B', '$40.4 B', '$37.3 B', '$37.2 B', '$36.8 B', '$36.2 B', '$34.8 B', '$34.8 B', '$32.6 B', '$32.5 B', '$31.7 B', '$31.7 B', '$31.2 B', '$31.2 B', '$30.8 B', '$30.2 B', '$28.7 B', '$28.6 B', '$28.3 B', '$27.5 B', '$27.4 B', '$27.3 B', '$27.2 B', '$26.1 B', '$25.2 B', '$24.3 B', '$24.3 B', '$24.3 B', '$24.1 B', '$24 B', '$23.9 B', '$23.7 B', '$23.5 B', '$23.2 B', '$23.1 B', '$23 B', '$22.8 B', '$22.8 B', '$22.3 B', '$22.1 B', '$22 B', '$22 B', '$21.8 B', '$21.3 B', '$21.2 B', '$20.8 B', '$20.7 B', '$20.6 B', '$20.3 B', '$20.1 B', '$20 B', '$19.6 B', '$19.5 B', '$19 B', '$18.7 B', '$18.7 B', '$18.4 B', '$18.2 B', '$17.9 B', '$17.8 B', '$17.7 B', '$17.7 B', '$17.7 B', '$17.6 B', '$17.6 B', '$17.4 B', '$17.3 B', '$17.2 B', '$17.1 B', '$17 B', '$17 B', '$16.8 B', '$16.7 B', '$16.6 B', '$16.6 B', '$16.5 B', '$16.5 B', '$16.5 B', '$16.5 B', '$16.4 B', '$16.3 B', '$16.2 B', '$16.1 B', '$15.7 B', '$15.6 B', '$15.5 B', '$15.4 B', '$15.4 B', '$15.3 B', '$15.3 B', '$15.2 B', '$15.2 B', '$15.1 B', '$15.1 B', '$15 B', '$14.8 B', '$14.6 B', '$14.4 B', '$14.3 B', '$14 B', '$14 B', '$13.9 B', '$13.7 B', '$13.65 B', '$13.6 B', '$13.6 B', '$13.5 B', '$13.2 B', '$13.2 B', '$13.2 B', '$13.2 B', '$12.9 B', '$12.9 B', '$12.8 B', '$12.8 B', '$12.7 B', '$12.7 B', '$12.7 B', '$12.6 B', '$12.5 B', '$12.4 B', '$12.2 B', '$12.2 B', '$12.1 B', '$12.1 B', '$12 B', '$12 B', '$11.9 B', '$11.9 B', '$11.9 B', '$11.8 B', '$11.8 B', '$11.7 B', '$11.7 B', '$11.7 B', '$11.6 B', '$11.5 B', '$11.5 B', '$11.5 B', '$11.5 B', '$11.4 B', '$11.4 B', '$11.3 B', '$11.3 B', '$11.3 B', '$11.3 B', '$11.1 B', '$11.1 B', '$11 B', '$10.9 B', '$10.9 B', '$10.9 B', '$10.7 B', '$10.7 B', '$10.6 B', '$10.6 B', '$10.6 B', '$10.5 B', '$10.5 B', '$10.5 B', '$10.4 B', '$10.3 B', '$10.3 B', '$10.3 B', '$10.3 B', '$10.3 B', '$10 B', '$10 B', '$10 B', '$10 B']\n"
     ]
    }
   ],
   "source": [
    "networth=driver.find_elements_by_xpath('//div[@class=\"netWorth\"]')\n",
    "for i in networth:\n",
    "    Net_worth.append(i.text)\n",
    "print(Net_worth)"
   ]
  },
  {
   "cell_type": "code",
   "execution_count": 144,
   "id": "3ac994e9",
   "metadata": {},
   "outputs": [
    {
     "name": "stdout",
     "output_type": "stream",
     "text": [
      "['United States', 'United States', 'France', 'United States', 'United States', 'United States', 'United States', 'United States', 'United States', 'India', 'India', 'United States', 'Mexico', 'France', 'United States', 'United States', 'China', 'United States', 'United States', 'Canada', 'United States', 'United States', 'Spain', 'United States', 'China', 'Canada', 'United States', 'Germany', 'Hong Kong', 'United States', 'France', 'France', 'Germany', 'China', 'Germany', 'Italy', 'Hong Kong', 'United States', 'Hong Kong', 'United States', 'United States', 'United States', 'France', 'France', 'Mexico', 'Australia', 'India', 'United States', 'China', 'United States', 'Austria', 'Italy', 'United States', 'Japan', 'China', 'Germany', 'India', 'China', 'China', 'United States', 'Japan', 'China', 'France', 'Indonesia', 'United States', 'Switzerland', 'Chile', 'China', 'Indonesia', 'United States', 'United States', 'United States', 'United States', 'Japan', 'United States', 'United States', 'Germany', 'United States', 'China', 'United States', 'India', 'China', 'China', 'Germany', 'Germany', 'China', 'Russia', 'China', 'India', 'Australia', 'China', 'India', 'China', 'Singapore', 'Sweden', 'United States', 'Russia', 'United States', 'China', 'China', 'Hong Kong', 'Switzerland', 'United States', 'Czechia', 'United States', 'India', 'United States', 'United States', 'United States', 'United States', 'United Kingdom', 'United States', 'Hong Kong', 'China', 'India', 'China', 'Brazil', 'Israel', 'Australia', 'China', 'Netherlands', 'United Kingdom', 'United Arab Emirates', 'Australia', 'Ireland', 'China', 'United States', 'United States', 'India', 'Nigeria', 'Russia', 'India', 'Singapore', 'China', 'Hong Kong', 'Denmark', 'Thailand', 'Hong Kong', 'China', 'Russia', 'China', 'United States', 'China', 'Australia', 'China', 'China', 'United States', 'United Kingdom', 'Hong Kong', 'China', 'Mexico', 'Canada', 'United States', 'Singapore', 'China', 'Thailand', 'United States', 'Cyprus', 'Germany', 'Germany', 'Russia', 'Thailand', 'Malaysia', 'China', 'Taiwan', 'Hong Kong', 'United States', 'United States', 'United States', 'Russia', 'United States', 'Australia', 'China', 'China', 'United States', 'Russia', 'United States', 'Russia', 'China', 'United States', 'Canada', 'Germany', 'United States', 'United States', 'United States', 'Malaysia', 'Brazil', 'Russia', 'China', 'Israel', 'Sweden', 'United States', 'China', 'Monaco', 'Russia', 'Brazil', 'United States', 'United States', 'United States', 'China']\n"
     ]
    }
   ],
   "source": [
    "country=driver.find_elements_by_xpath('//div[@class=\"countryOfCitizenship\"]')\n",
    "for i in country:\n",
    "    Citizenship.append(i.text)\n",
    "print(Citizenship)"
   ]
  },
  {
   "cell_type": "code",
   "execution_count": 145,
   "id": "edfda09f",
   "metadata": {},
   "outputs": [
    {
     "name": "stdout",
     "output_type": "stream",
     "text": [
      "['50', '58', '73', '66', '91', '49', '48', '77', '66', '64', '59', '80', '82', '68', '37', '73', '67', '72', '77', '44', '86', '59', '86', '57', '38', '64', '84', '82', '53', '51', '52', '85', '84', '50', 'N/A', '57', '93', '75', '94', '64', '82', '86', '73', '71', '68', '68', '76', '83', '79', '76', '77', '86', '53', '73', '50', '59', '80', '51', '56', '30', '76', '58', '51', '81', '89', '40', '79', '57', '82', '66', '72', '60', '83', '64', '60', '91', '55', '59', '55', '77', '67', '66', '56', '86', '71', '40', '65', '55', '71', '60', '68', '72', '54', '71', '74', '65', '61', '76', '63', '66', '75', '81', '64', '54', '82', '54', '86', 'N/A', '35', '58', '69', '89', '55', '59', '66', '58', '82', '71', '42', '58', '67', '54', '37', '42', '92', '49', '44', '92', '63', '64', '66', '64', 'N/A', '58', '70', '49', '82', '57', '73', '56', '67', '81', '54', '89', '50', '56', '70', 'N/A', '92', '63', '66', '93', '84', '94', '59', '77', '63', '77', '72', '72', '57', '56', '98', '52', '74', '93', '40', '73', '37', '68', '62', '61', '42', '69', '54', '69', '59', '50', '43', '82', '71', '54', '75', '74', '79', '80', '40', '71', '48', '66', '74', '46', '65', '80', '56', '72', '70', '40', '79', '56']\n"
     ]
    }
   ],
   "source": [
    "age=driver.find_elements_by_xpath('//div[@class=\"age\"]')\n",
    "for i in age:\n",
    "    Age.append(i.text)\n",
    "print(Age)"
   ]
  },
  {
   "cell_type": "code",
   "execution_count": 146,
   "id": "345128ac",
   "metadata": {},
   "outputs": [
    {
     "name": "stdout",
     "output_type": "stream",
     "text": [
      "['Tesla, SpaceX', 'Amazon', 'LVMH', 'Microsoft', 'Berkshire Hathaway', 'Google', 'Google', 'software', 'Microsoft', 'diversified', 'infrastructure, commodities', 'Bloomberg LP', 'telecom', \"L'Oréal\", 'Facebook', 'Walmart', 'beverages, pharmaceuticals', 'Walmart', 'Walmart', 'cryptocurrency exchange', 'Koch Industries', 'Koch Industries', 'Zara', 'Dell computers', 'TikTok', 'media', 'Nike', 'retail', 'batteries', 'Amazon', 'shipping', 'luxury goods', 'shipping', 'internet media', 'supermarkets', 'Nutella, chocolates', 'diversified', 'investments', 'real estate', 'music, chemicals', 'candy, pet food', 'candy, pet food', 'Chanel', 'Chanel', 'mining', 'mining', 'software services', 'hedge funds', 'home appliances', 'casinos', 'Red Bull', 'eyeglasses', 'hedge funds', 'fashion retail', 'online games', 'BMW, pharmaceuticals', 'vaccines', 'package delivery', 'pig breeding', 'cryptocurrency exchange', 'sensors', 'automobiles', 'cheese', 'banking, tobacco', 'Estee Lauder', 'fintech', 'mining', 'e-commerce', 'banking, tobacco', 'Google', 'hedge funds', 'Quicken Loans', 'hospitals', 'internet, telecom', 'money management', 'newspapers, TV network', 'BMW', 'semiconductors', 'batteries', 'discount brokerage', 'retail, investments', 'soy sauce', 'batteries, automobiles', 'fasteners', \"Aldi, Trader Joe's\", 'real estate', 'steel, transport', 'petrochemicals', 'steel', 'mining', 'vaccines', 'steel', 'mining, copper products', 'medical devices', 'H&M', 'hedge funds', 'metals', 'oil & gas', 'pharmaceuticals', 'chemicals', 'real estate', 'Shipping', 'hedge funds', 'finance, telecommunications', 'home improvement stores', 'commodities', 'investments', 'supermarkets', 'Walmart', 'Apple, Disney', 'chemicals', 'real estate', 'medical devices', 'automobiles, batteries', 'pharmaceuticals', 'automobiles', 'beer', 'real estate, shipping', 'software', 'real estate', 'Heineken', 'hedge funds', 'messaging app', 'software', 'construction', 'coal', 'wireless networking gear', 'media', 'banking', 'cement, sugar', 'gas, chemicals', 'telecom', 'real estate', 'agribusiness', 'real estate', 'fashion retail', 'diversified', 'video surveillance', 'diversified', 'steel, investments', 'real estate', 'business software', 'solar wafers and modules', 'real estate', 'internet media', 'hospitals', 'venture capital', 'diversified', 'real estate', 'batteries', 'retail, media', 'diversified', 'discount brokerage', 'paints', 'solar panel components', 'alcohol, real estate', 'trading, investments', 'shipping', 'pharmaceuticals', 'pharmaceuticals', 'oil, banking, telecom', 'energy', 'palm oil, shipping, property', 'smartphones', 'shoes', 'casinos/hotels', 'Airbnb', 'hedge funds', 'Facebook', 'steel, telecom, investments', 'security software', 'manufacturing', 'e-commerce', 'solar panels', 'eBay, PayPal', 'oil, gas', 'medical devices', 'coal, fertilizers', 'e-commerce', 'investments', 'Google', 'real estate', 'roofing', 'sports, real estate', 'Dallas Cowboys', 'banking, property', 'Facebook', 'oil', 'e-commerce', 'shipping', 'investments', 'investments', 'petrochemicals', 'drugstores', 'investments', 'beer', 'private equity', 'Airbnb', 'movies, record labels', 'semiconductors']\n"
     ]
    }
   ],
   "source": [
    "src=driver.find_elements_by_xpath('//div[@class=\"expand-row__icon-container\"]')\n",
    "for i in src:\n",
    "    Source.append(i.text)\n",
    "print(Source)"
   ]
  },
  {
   "cell_type": "code",
   "execution_count": 147,
   "id": "b3a58251",
   "metadata": {},
   "outputs": [
    {
     "ename": "InvalidSelectorException",
     "evalue": "Message: invalid selector: Unable to locate an element with the xpath expression \\div[@class=\"category\"] because of the following error:\nSyntaxError: Failed to execute 'evaluate' on 'Document': The string '\\div[@class=\"category\"]' is not a valid XPath expression.\n  (Session info: chrome=103.0.5060.66)\nStacktrace:\nBacktrace:\n\tOrdinal0 [0x00B7D953+2414931]\n\tOrdinal0 [0x00B0F5E1+1963489]\n\tOrdinal0 [0x009FC6B8+837304]\n\tOrdinal0 [0x009FF0B4+848052]\n\tOrdinal0 [0x009FEF72+847730]\n\tOrdinal0 [0x009FF200+848384]\n\tOrdinal0 [0x00A29215+1020437]\n\tOrdinal0 [0x00A2979B+1021851]\n\tOrdinal0 [0x00A5653C+1205564]\n\tOrdinal0 [0x00A444E4+1131748]\n\tOrdinal0 [0x00A54812+1198098]\n\tOrdinal0 [0x00A442B6+1131190]\n\tOrdinal0 [0x00A1E860+976992]\n\tOrdinal0 [0x00A1F756+980822]\n\tGetHandleVerifier [0x00DECC62+2510274]\n\tGetHandleVerifier [0x00DDF760+2455744]\n\tGetHandleVerifier [0x00C0EABA+551962]\n\tGetHandleVerifier [0x00C0D916+547446]\n\tOrdinal0 [0x00B15F3B+1990459]\n\tOrdinal0 [0x00B1A898+2009240]\n\tOrdinal0 [0x00B1A985+2009477]\n\tOrdinal0 [0x00B23AD1+2046673]\n\tBaseThreadInitThunk [0x75856359+25]\n\tRtlGetAppContainerNamedObjectPath [0x77EC87A4+228]\n\tRtlGetAppContainerNamedObjectPath [0x77EC8774+180]\n",
     "output_type": "error",
     "traceback": [
      "\u001b[1;31m---------------------------------------------------------------------------\u001b[0m",
      "\u001b[1;31mInvalidSelectorException\u001b[0m                  Traceback (most recent call last)",
      "\u001b[1;32mC:\\Users\\DEEPAK~1.MUK\\AppData\\Local\\Temp/ipykernel_5592/878900792.py\u001b[0m in \u001b[0;36m<module>\u001b[1;34m\u001b[0m\n\u001b[1;32m----> 1\u001b[1;33m \u001b[0mindustry\u001b[0m\u001b[1;33m=\u001b[0m\u001b[0mdriver\u001b[0m\u001b[1;33m.\u001b[0m\u001b[0mfind_elements_by_xpath\u001b[0m\u001b[1;33m(\u001b[0m\u001b[1;34m'\\\\div[@class=\"category\"]'\u001b[0m\u001b[1;33m)\u001b[0m\u001b[1;33m\u001b[0m\u001b[1;33m\u001b[0m\u001b[0m\n\u001b[0m\u001b[0;32m      2\u001b[0m \u001b[1;32mfor\u001b[0m \u001b[0mi\u001b[0m \u001b[1;32min\u001b[0m \u001b[0mindustry\u001b[0m\u001b[1;33m:\u001b[0m\u001b[1;33m\u001b[0m\u001b[1;33m\u001b[0m\u001b[0m\n\u001b[0;32m      3\u001b[0m     \u001b[0mIndustry\u001b[0m\u001b[1;33m.\u001b[0m\u001b[0mappend\u001b[0m\u001b[1;33m(\u001b[0m\u001b[0mi\u001b[0m\u001b[1;33m.\u001b[0m\u001b[0mtext\u001b[0m\u001b[1;33m.\u001b[0m\u001b[0mreplace\u001b[0m\u001b[1;33m(\u001b[0m\u001b[1;34m'\\n'\u001b[0m\u001b[1;33m,\u001b[0m\u001b[1;34m''\u001b[0m\u001b[1;33m)\u001b[0m\u001b[1;33m)\u001b[0m\u001b[1;33m\u001b[0m\u001b[1;33m\u001b[0m\u001b[0m\n\u001b[0;32m      4\u001b[0m \u001b[0mprint\u001b[0m\u001b[1;33m(\u001b[0m\u001b[0mIndustry\u001b[0m\u001b[1;33m)\u001b[0m\u001b[1;33m\u001b[0m\u001b[1;33m\u001b[0m\u001b[0m\n",
      "\u001b[1;32mE:\\ANACONDA\\lib\\site-packages\\selenium\\webdriver\\remote\\webdriver.py\u001b[0m in \u001b[0;36mfind_elements_by_xpath\u001b[1;34m(self, xpath)\u001b[0m\n\u001b[0;32m    547\u001b[0m             \u001b[0mstacklevel\u001b[0m\u001b[1;33m=\u001b[0m\u001b[1;36m2\u001b[0m\u001b[1;33m,\u001b[0m\u001b[1;33m\u001b[0m\u001b[1;33m\u001b[0m\u001b[0m\n\u001b[0;32m    548\u001b[0m         )\n\u001b[1;32m--> 549\u001b[1;33m         \u001b[1;32mreturn\u001b[0m \u001b[0mself\u001b[0m\u001b[1;33m.\u001b[0m\u001b[0mfind_elements\u001b[0m\u001b[1;33m(\u001b[0m\u001b[0mby\u001b[0m\u001b[1;33m=\u001b[0m\u001b[0mBy\u001b[0m\u001b[1;33m.\u001b[0m\u001b[0mXPATH\u001b[0m\u001b[1;33m,\u001b[0m \u001b[0mvalue\u001b[0m\u001b[1;33m=\u001b[0m\u001b[0mxpath\u001b[0m\u001b[1;33m)\u001b[0m\u001b[1;33m\u001b[0m\u001b[1;33m\u001b[0m\u001b[0m\n\u001b[0m\u001b[0;32m    550\u001b[0m \u001b[1;33m\u001b[0m\u001b[0m\n\u001b[0;32m    551\u001b[0m     \u001b[1;32mdef\u001b[0m \u001b[0mfind_element_by_link_text\u001b[0m\u001b[1;33m(\u001b[0m\u001b[0mself\u001b[0m\u001b[1;33m,\u001b[0m \u001b[0mlink_text\u001b[0m\u001b[1;33m)\u001b[0m \u001b[1;33m->\u001b[0m \u001b[0mWebElement\u001b[0m\u001b[1;33m:\u001b[0m\u001b[1;33m\u001b[0m\u001b[1;33m\u001b[0m\u001b[0m\n",
      "\u001b[1;32mE:\\ANACONDA\\lib\\site-packages\\selenium\\webdriver\\remote\\webdriver.py\u001b[0m in \u001b[0;36mfind_elements\u001b[1;34m(self, by, value)\u001b[0m\n\u001b[0;32m   1282\u001b[0m         \u001b[1;31m# Return empty list if driver returns null\u001b[0m\u001b[1;33m\u001b[0m\u001b[1;33m\u001b[0m\u001b[0m\n\u001b[0;32m   1283\u001b[0m         \u001b[1;31m# See https://github.com/SeleniumHQ/selenium/issues/4555\u001b[0m\u001b[1;33m\u001b[0m\u001b[1;33m\u001b[0m\u001b[0m\n\u001b[1;32m-> 1284\u001b[1;33m         return self.execute(Command.FIND_ELEMENTS, {\n\u001b[0m\u001b[0;32m   1285\u001b[0m             \u001b[1;34m'using'\u001b[0m\u001b[1;33m:\u001b[0m \u001b[0mby\u001b[0m\u001b[1;33m,\u001b[0m\u001b[1;33m\u001b[0m\u001b[1;33m\u001b[0m\u001b[0m\n\u001b[0;32m   1286\u001b[0m             'value': value})['value'] or []\n",
      "\u001b[1;32mE:\\ANACONDA\\lib\\site-packages\\selenium\\webdriver\\remote\\webdriver.py\u001b[0m in \u001b[0;36mexecute\u001b[1;34m(self, driver_command, params)\u001b[0m\n\u001b[0;32m    428\u001b[0m         \u001b[0mresponse\u001b[0m \u001b[1;33m=\u001b[0m \u001b[0mself\u001b[0m\u001b[1;33m.\u001b[0m\u001b[0mcommand_executor\u001b[0m\u001b[1;33m.\u001b[0m\u001b[0mexecute\u001b[0m\u001b[1;33m(\u001b[0m\u001b[0mdriver_command\u001b[0m\u001b[1;33m,\u001b[0m \u001b[0mparams\u001b[0m\u001b[1;33m)\u001b[0m\u001b[1;33m\u001b[0m\u001b[1;33m\u001b[0m\u001b[0m\n\u001b[0;32m    429\u001b[0m         \u001b[1;32mif\u001b[0m \u001b[0mresponse\u001b[0m\u001b[1;33m:\u001b[0m\u001b[1;33m\u001b[0m\u001b[1;33m\u001b[0m\u001b[0m\n\u001b[1;32m--> 430\u001b[1;33m             \u001b[0mself\u001b[0m\u001b[1;33m.\u001b[0m\u001b[0merror_handler\u001b[0m\u001b[1;33m.\u001b[0m\u001b[0mcheck_response\u001b[0m\u001b[1;33m(\u001b[0m\u001b[0mresponse\u001b[0m\u001b[1;33m)\u001b[0m\u001b[1;33m\u001b[0m\u001b[1;33m\u001b[0m\u001b[0m\n\u001b[0m\u001b[0;32m    431\u001b[0m             response['value'] = self._unwrap_value(\n\u001b[0;32m    432\u001b[0m                 response.get('value', None))\n",
      "\u001b[1;32mE:\\ANACONDA\\lib\\site-packages\\selenium\\webdriver\\remote\\errorhandler.py\u001b[0m in \u001b[0;36mcheck_response\u001b[1;34m(self, response)\u001b[0m\n\u001b[0;32m    245\u001b[0m                 \u001b[0malert_text\u001b[0m \u001b[1;33m=\u001b[0m \u001b[0mvalue\u001b[0m\u001b[1;33m[\u001b[0m\u001b[1;34m'alert'\u001b[0m\u001b[1;33m]\u001b[0m\u001b[1;33m.\u001b[0m\u001b[0mget\u001b[0m\u001b[1;33m(\u001b[0m\u001b[1;34m'text'\u001b[0m\u001b[1;33m)\u001b[0m\u001b[1;33m\u001b[0m\u001b[1;33m\u001b[0m\u001b[0m\n\u001b[0;32m    246\u001b[0m             \u001b[1;32mraise\u001b[0m \u001b[0mexception_class\u001b[0m\u001b[1;33m(\u001b[0m\u001b[0mmessage\u001b[0m\u001b[1;33m,\u001b[0m \u001b[0mscreen\u001b[0m\u001b[1;33m,\u001b[0m \u001b[0mstacktrace\u001b[0m\u001b[1;33m,\u001b[0m \u001b[0malert_text\u001b[0m\u001b[1;33m)\u001b[0m  \u001b[1;31m# type: ignore[call-arg]  # mypy is not smart enough here\u001b[0m\u001b[1;33m\u001b[0m\u001b[1;33m\u001b[0m\u001b[0m\n\u001b[1;32m--> 247\u001b[1;33m         \u001b[1;32mraise\u001b[0m \u001b[0mexception_class\u001b[0m\u001b[1;33m(\u001b[0m\u001b[0mmessage\u001b[0m\u001b[1;33m,\u001b[0m \u001b[0mscreen\u001b[0m\u001b[1;33m,\u001b[0m \u001b[0mstacktrace\u001b[0m\u001b[1;33m)\u001b[0m\u001b[1;33m\u001b[0m\u001b[1;33m\u001b[0m\u001b[0m\n\u001b[0m\u001b[0;32m    248\u001b[0m \u001b[1;33m\u001b[0m\u001b[0m\n\u001b[0;32m    249\u001b[0m     \u001b[1;32mdef\u001b[0m \u001b[0m_value_or_default\u001b[0m\u001b[1;33m(\u001b[0m\u001b[0mself\u001b[0m\u001b[1;33m,\u001b[0m \u001b[0mobj\u001b[0m\u001b[1;33m:\u001b[0m \u001b[0mMapping\u001b[0m\u001b[1;33m[\u001b[0m\u001b[0m_KT\u001b[0m\u001b[1;33m,\u001b[0m \u001b[0m_VT\u001b[0m\u001b[1;33m]\u001b[0m\u001b[1;33m,\u001b[0m \u001b[0mkey\u001b[0m\u001b[1;33m:\u001b[0m \u001b[0m_KT\u001b[0m\u001b[1;33m,\u001b[0m \u001b[0mdefault\u001b[0m\u001b[1;33m:\u001b[0m \u001b[0m_VT\u001b[0m\u001b[1;33m)\u001b[0m \u001b[1;33m->\u001b[0m \u001b[0m_VT\u001b[0m\u001b[1;33m:\u001b[0m\u001b[1;33m\u001b[0m\u001b[1;33m\u001b[0m\u001b[0m\n",
      "\u001b[1;31mInvalidSelectorException\u001b[0m: Message: invalid selector: Unable to locate an element with the xpath expression \\div[@class=\"category\"] because of the following error:\nSyntaxError: Failed to execute 'evaluate' on 'Document': The string '\\div[@class=\"category\"]' is not a valid XPath expression.\n  (Session info: chrome=103.0.5060.66)\nStacktrace:\nBacktrace:\n\tOrdinal0 [0x00B7D953+2414931]\n\tOrdinal0 [0x00B0F5E1+1963489]\n\tOrdinal0 [0x009FC6B8+837304]\n\tOrdinal0 [0x009FF0B4+848052]\n\tOrdinal0 [0x009FEF72+847730]\n\tOrdinal0 [0x009FF200+848384]\n\tOrdinal0 [0x00A29215+1020437]\n\tOrdinal0 [0x00A2979B+1021851]\n\tOrdinal0 [0x00A5653C+1205564]\n\tOrdinal0 [0x00A444E4+1131748]\n\tOrdinal0 [0x00A54812+1198098]\n\tOrdinal0 [0x00A442B6+1131190]\n\tOrdinal0 [0x00A1E860+976992]\n\tOrdinal0 [0x00A1F756+980822]\n\tGetHandleVerifier [0x00DECC62+2510274]\n\tGetHandleVerifier [0x00DDF760+2455744]\n\tGetHandleVerifier [0x00C0EABA+551962]\n\tGetHandleVerifier [0x00C0D916+547446]\n\tOrdinal0 [0x00B15F3B+1990459]\n\tOrdinal0 [0x00B1A898+2009240]\n\tOrdinal0 [0x00B1A985+2009477]\n\tOrdinal0 [0x00B23AD1+2046673]\n\tBaseThreadInitThunk [0x75856359+25]\n\tRtlGetAppContainerNamedObjectPath [0x77EC87A4+228]\n\tRtlGetAppContainerNamedObjectPath [0x77EC8774+180]\n"
     ]
    }
   ],
   "source": [
    "industry=driver.find_elements_by_xpath('\\\\div[@class=\"category\"]')\n",
    "for i in industry:\n",
    "    Industry.append(i.text.replace('\\n',''))\n",
    "print(Industry)"
   ]
  },
  {
   "cell_type": "code",
   "execution_count": null,
   "id": "d734eb12",
   "metadata": {},
   "outputs": [],
   "source": [
    "#Q.9\n",
    "driver = webdriver.Chrome(\"chromedriver.exe\")\n",
    "time.sleep(2)"
   ]
  },
  {
   "cell_type": "code",
   "execution_count": null,
   "id": "0bfb3137",
   "metadata": {},
   "outputs": [],
   "source": [
    "driver.get('https://www.youtube.com/watch?v=32E7dReissc')\n",
    "time.sleep(2)"
   ]
  },
  {
   "cell_type": "code",
   "execution_count": null,
   "id": "0b23937d",
   "metadata": {},
   "outputs": [],
   "source": [
    "comments=[]\n",
    "commentsupvote=[]\n",
    "time=[]"
   ]
  },
  {
   "cell_type": "code",
   "execution_count": null,
   "id": "0830adec",
   "metadata": {},
   "outputs": [],
   "source": [
    "commts=driver.find_elements_by_xpath('//div[@class=\"style-scope ytd-expander\"]')\n",
    "for i in commts:\n",
    "    comments.append(i.text)\n",
    "comments[0:500]"
   ]
  },
  {
   "cell_type": "code",
   "execution_count": null,
   "id": "8c0e8ec4",
   "metadata": {},
   "outputs": [],
   "source": [
    "upvote=driver.find_elements_by_id(\"like-button\")\n",
    "for i in upvote:\n",
    "    commentsupvote.append(i.text)\n",
    "commentsupvote[0:500]"
   ]
  },
  {
   "cell_type": "code",
   "execution_count": null,
   "id": "0ffa4475",
   "metadata": {},
   "outputs": [],
   "source": [
    "timeofp=driver.find_elements_by_class_name(\"published-time-text style-scope ytd-comment-renderer\")\n",
    "for i in timeofp:\n",
    "    time.append(i.text)\n",
    "time[0:500]"
   ]
  },
  {
   "cell_type": "code",
   "execution_count": 148,
   "id": "45341f18",
   "metadata": {},
   "outputs": [],
   "source": [
    "#Q.10\n",
    "driver = webdriver.Chrome(\"chromedriver.exe\")\n",
    "time.sleep(2)"
   ]
  },
  {
   "cell_type": "code",
   "execution_count": 149,
   "id": "8a473c08",
   "metadata": {},
   "outputs": [],
   "source": [
    "driver.get('https://www.hostelworld.com/s?q=London,%20England&country=England&city=London&type=city&id=3&from=2022-07-07&to=2022-07-10&guests=2&HostelNumber=&page=1')\n",
    "time.sleep(2)"
   ]
  },
  {
   "cell_type": "code",
   "execution_count": 150,
   "id": "be26d9f2",
   "metadata": {},
   "outputs": [],
   "source": [
    "hostel_name=[]\n",
    "distance=[]\n",
    "ratings=[]\n",
    "total_reviews=[]\n",
    "overall_reviews=[]\n",
    "privatesfromprice=[]\n",
    "dormsfromprice=[]\n",
    "facilities=[]\n",
    "property_description=[]"
   ]
  },
  {
   "cell_type": "code",
   "execution_count": 151,
   "id": "98b4ae98",
   "metadata": {},
   "outputs": [
    {
     "name": "stdout",
     "output_type": "stream",
     "text": [
      "[\"St Christopher's Village\", \"St Christopher's Village\", 'Safestay London Elephant & Castle', 'Pickwick Hall', 'Safestay London Kensington Holland Park', 'Hostel One Notting Hill', \"St Christopher's Hammersmith\", 'Saint James Backpackers', 'Britannia Inn Hotel', 'London House Hotel', 'Elmwood Hotel', 'Cranbrook Hotel', 'City Hotel Carlton', 'Beaconsfield', 'Park Hotel Essex']\n"
     ]
    }
   ],
   "source": [
    "hname=driver.find_elements_by_xpath('//div[@class=\"property-name\"]')\n",
    "for i in hname:\n",
    "    hostel_name.append(i.text)\n",
    "print(hostel_name)"
   ]
  },
  {
   "cell_type": "code",
   "execution_count": 152,
   "id": "f592219a",
   "metadata": {},
   "outputs": [
    {
     "name": "stdout",
     "output_type": "stream",
     "text": [
      "['- 1.8km from city centre', '- 1.7km from city centre', '- 2.3km from city centre', '- 5.9km from city centre', '- 5.5km from city centre', '- 7.5km from city centre', '- 5.5km from city centre', '- 14.5km from city centre', '- 5.3km from city centre', '- 3.2km from city centre', '- 14.8km from city centre', '- 1.8km from city centre', '- 8.6km from city centre', '- 24.1km from city centre']\n"
     ]
    }
   ],
   "source": [
    "dist=driver.find_elements_by_xpath('//span[@class=\"distance-description\"]')\n",
    "for i in dist:\n",
    "    distance.append(i.text)\n",
    "print(distance)"
   ]
  },
  {
   "cell_type": "code",
   "execution_count": 153,
   "id": "c53a8f9c",
   "metadata": {},
   "outputs": [
    {
     "name": "stdout",
     "output_type": "stream",
     "text": [
      "['8.0', '8.0', '7.0', '8.8', '6.5', '9.1', '7.9', '6.7', '8.1', '8.6', '6.1', '0.0', '6.7', '0.0', '8.0']\n"
     ]
    }
   ],
   "source": [
    "rtngs=driver.find_elements_by_xpath('//div[@class=\"score\"]')\n",
    "for i in rtngs:\n",
    "    ratings.append(i.text)\n",
    "print(ratings)"
   ]
  },
  {
   "cell_type": "code",
   "execution_count": 154,
   "id": "13ae82dd",
   "metadata": {},
   "outputs": [
    {
     "name": "stdout",
     "output_type": "stream",
     "text": [
      "['From\\n₹5,966', 'From', 'No Privates Available', 'No Privates Available', '-10%', '-10%', 'Privates From\\n₹71,397', 'Privates From', 'Dorms From', 'Privates From\\n₹5,666', 'Privates From', 'No Dorms Available', 'No Privates Available', 'No Privates Available', 'Dorms From', 'No Privates Available', 'No Privates Available', 'Dorms From', 'No Privates Available', 'No Privates Available', '-10%', '-10%', '-5%\\nPrivates From\\n₹28,337\\n₹26,920', '-5%', '-5%', '-5%', '-5%', 'Privates From\\n₹39,822', 'Privates From', 'No Dorms Available', '-30%\\nPrivates From\\n₹46,096\\n₹32,267', '-30%', '-30%', 'No Dorms Available', 'Privates From\\n₹29,119', 'Privates From', 'No Dorms Available', 'Privates From\\n₹11,774', 'Privates From', 'No Dorms Available', 'Privates From\\n₹30,346', 'Privates From', 'No Dorms Available', 'Privates From\\n₹26,034', 'Privates From', 'No Dorms Available', 'Privates From\\n₹40,767', 'Privates From', 'No Dorms Available']\n"
     ]
    }
   ],
   "source": [
    "pfrmp=driver.find_elements_by_xpath('//div[@class=\"property-accommodations\"]//div[1]')\n",
    "for i in pfrmp:\n",
    "    privatesfromprice.append(i.text)\n",
    "print(privatesfromprice)"
   ]
  },
  {
   "cell_type": "code",
   "execution_count": 155,
   "id": "4c9b455a",
   "metadata": {},
   "outputs": [
    {
     "name": "stdout",
     "output_type": "stream",
     "text": [
      "['₹5,966', '-10%\\nDorms From\\n₹6,629\\n₹5,966', 'Dorms From', '₹71,397', 'Dorms From\\n₹6,346', '₹6,346', '₹5,666', 'No Dorms Available', 'Dorms From\\n₹6,516', '₹6,516', 'Dorms From\\n₹7,831', '₹7,831', '-10%\\nDorms From\\n₹6,594\\n₹5,934', 'Dorms From', 'Privates From', '-5%\\nDorms From\\n₹7,303\\n₹6,938', 'Dorms From', '₹39,822', 'No Dorms Available', 'Privates From', 'No Dorms Available', '₹29,119', 'No Dorms Available', '₹11,774', 'No Dorms Available', '₹30,346', 'No Dorms Available', '₹26,034', 'No Dorms Available', '₹40,767', 'No Dorms Available']\n"
     ]
    }
   ],
   "source": [
    "dfrmp=driver.find_elements_by_xpath('//div[@class=\"property-accommodations\"]//div[2]')\n",
    "for i in dfrmp:\n",
    "    dormsfromprice.append(i.text)\n",
    "print(dormsfromprice)"
   ]
  },
  {
   "cell_type": "code",
   "execution_count": 156,
   "id": "9b1fe261",
   "metadata": {},
   "outputs": [
    {
     "name": "stdout",
     "output_type": "stream",
     "text": [
      "['Fabulous', 'Fabulous', 'Very Good', 'Fabulous', 'Good', 'Superb', 'Very Good', 'Good', 'Fabulous', 'Fabulous', 'Good', 'Good', 'Fabulous']\n"
     ]
    }
   ],
   "source": [
    "orew=driver.find_elements_by_xpath('//div[@class=\"keyword\"]')\n",
    "for i in orew:\n",
    "    overall_reviews.append(i.text)\n",
    "print(overall_reviews)"
   ]
  },
  {
   "cell_type": "code",
   "execution_count": 157,
   "id": "c0816730",
   "metadata": {},
   "outputs": [
    {
     "name": "stdout",
     "output_type": "stream",
     "text": [
      "['(11328)', '(11328)', '(4369)', '(2377)', '(1253)', '(1396)', '(4052)', '(1809)', '(21)', '(1381)', '(116)', '(58)', '(40)', '(28)', '(109)']\n"
     ]
    }
   ],
   "source": [
    "trew=driver.find_elements_by_xpath('//div[@class=\"review\"]')\n",
    "for i in trew:\n",
    "    total_reviews.append(i.text)\n",
    "print(total_reviews)"
   ]
  },
  {
   "cell_type": "code",
   "execution_count": 158,
   "id": "2a54126e",
   "metadata": {},
   "outputs": [
    {
     "name": "stdout",
     "output_type": "stream",
     "text": [
      "['Follows Covid-19 sanitation guidance', 'Follows Covid-19 sanitation guidance', '', '', '', 'Follows Covid-19 sanitation guidance', 'Follows Covid-19 sanitation guidance', 'Follows Covid-19 sanitation guidance', '', 'Follows Covid-19 sanitation guidance', '', 'Follows Covid-19 sanitation guidance']\n"
     ]
    }
   ],
   "source": [
    "fclts=driver.find_elements_by_xpath('//div[@class=\"property-badges\"]')\n",
    "for i in fclts:\n",
    "    facilities.append(i.text)\n",
    "print(facilities)"
   ]
  },
  {
   "cell_type": "code",
   "execution_count": 176,
   "id": "d3e28c36",
   "metadata": {},
   "outputs": [
    {
     "name": "stdout",
     "output_type": "stream",
     "text": [
      "[\"https://www.hostelworld.com/pwa/hosteldetails.php/St%20Christopher's%20Village/London/502?from=2022-07-07&to=2022-07-10&guests=2\", 'https://www.hostelworld.com/pwa/hosteldetails.php/Safestay%20London%20Elephant%20&%20Castle/London/55551?from=2022-07-07&to=2022-07-10&guests=2', 'https://www.hostelworld.com/pwa/hosteldetails.php/Pickwick%20Hall/London/7502?from=2022-07-07&to=2022-07-10&guests=2', 'https://www.hostelworld.com/pwa/hosteldetails.php/Safestay%20London%20Kensington%20Holland%20Park/London/93920?from=2022-07-07&to=2022-07-10&guests=2', 'https://www.hostelworld.com/pwa/hosteldetails.php/Hostel%20One%20Notting%20Hill/London/291433?from=2022-07-07&to=2022-07-10&guests=2', \"https://www.hostelworld.com/pwa/hosteldetails.php/St%20Christopher's%20Hammersmith/London/20976?from=2022-07-07&to=2022-07-10&guests=2\", 'https://www.hostelworld.com/pwa/hosteldetails.php/Saint%20James%20Backpackers/London/70909?from=2022-07-07&to=2022-07-10&guests=2', 'https://www.hostelworld.com/pwa/hosteldetails.php/Britannia%20Inn%20Hotel/London/47955?from=2022-07-07&to=2022-07-10&guests=2', 'https://www.hostelworld.com/pwa/hosteldetails.php/London%20House%20Hotel/London/529?from=2022-07-07&to=2022-07-10&guests=2', 'https://www.hostelworld.com/pwa/hosteldetails.php/Elmwood%20Hotel/London/34338?from=2022-07-07&to=2022-07-10&guests=2', 'https://www.hostelworld.com/pwa/hosteldetails.php/Cranbrook%20Hotel/London/10144?from=2022-07-07&to=2022-07-10&guests=2', 'https://www.hostelworld.com/pwa/hosteldetails.php/City%20Hotel%20Carlton/London/27551?from=2022-07-07&to=2022-07-10&guests=2', 'https://www.hostelworld.com/pwa/hosteldetails.php/Beaconsfield/London/11708?from=2022-07-07&to=2022-07-10&guests=2', 'https://www.hostelworld.com/pwa/hosteldetails.php/Park%20Hotel%20Essex/London/10143?from=2022-07-07&to=2022-07-10&guests=2', <selenium.webdriver.remote.webelement.WebElement (session=\"ce31a3a125a9f35f83cf0ce7c2814392\", element=\"f6da433c-36c0-4989-980f-808d89ea34c1\")>, \"https://www.hostelworld.com/pwa/hosteldetails.php/St%20Christopher's%20Village/London/502?from=2022-07-07&to=2022-07-10&guests=2\", 'https://www.hostelworld.com/pwa/hosteldetails.php/Safestay%20London%20Elephant%20&%20Castle/London/55551?from=2022-07-07&to=2022-07-10&guests=2', 'https://www.hostelworld.com/pwa/hosteldetails.php/Pickwick%20Hall/London/7502?from=2022-07-07&to=2022-07-10&guests=2', 'https://www.hostelworld.com/pwa/hosteldetails.php/Safestay%20London%20Kensington%20Holland%20Park/London/93920?from=2022-07-07&to=2022-07-10&guests=2', 'https://www.hostelworld.com/pwa/hosteldetails.php/Hostel%20One%20Notting%20Hill/London/291433?from=2022-07-07&to=2022-07-10&guests=2', \"https://www.hostelworld.com/pwa/hosteldetails.php/St%20Christopher's%20Hammersmith/London/20976?from=2022-07-07&to=2022-07-10&guests=2\", 'https://www.hostelworld.com/pwa/hosteldetails.php/Saint%20James%20Backpackers/London/70909?from=2022-07-07&to=2022-07-10&guests=2', 'https://www.hostelworld.com/pwa/hosteldetails.php/Britannia%20Inn%20Hotel/London/47955?from=2022-07-07&to=2022-07-10&guests=2', 'https://www.hostelworld.com/pwa/hosteldetails.php/London%20House%20Hotel/London/529?from=2022-07-07&to=2022-07-10&guests=2', 'https://www.hostelworld.com/pwa/hosteldetails.php/Elmwood%20Hotel/London/34338?from=2022-07-07&to=2022-07-10&guests=2', 'https://www.hostelworld.com/pwa/hosteldetails.php/Cranbrook%20Hotel/London/10144?from=2022-07-07&to=2022-07-10&guests=2', 'https://www.hostelworld.com/pwa/hosteldetails.php/City%20Hotel%20Carlton/London/27551?from=2022-07-07&to=2022-07-10&guests=2', 'https://www.hostelworld.com/pwa/hosteldetails.php/Beaconsfield/London/11708?from=2022-07-07&to=2022-07-10&guests=2', 'https://www.hostelworld.com/pwa/hosteldetails.php/Park%20Hotel%20Essex/London/10143?from=2022-07-07&to=2022-07-10&guests=2']\n"
     ]
    }
   ],
   "source": [
    "prod_desc=driver.find_elements_by_xpath('//a[@class=\"property-card-container horizontal\"]')\n",
    "for i in prod_desc:\n",
    "    property_description.append(i.get_attribute(\"href\"))\n",
    "print(property_description)"
   ]
  }
 ],
 "metadata": {
  "kernelspec": {
   "display_name": "Python 3 (ipykernel)",
   "language": "python",
   "name": "python3"
  },
  "language_info": {
   "codemirror_mode": {
    "name": "ipython",
    "version": 3
   },
   "file_extension": ".py",
   "mimetype": "text/x-python",
   "name": "python",
   "nbconvert_exporter": "python",
   "pygments_lexer": "ipython3",
   "version": "3.9.7"
  }
 },
 "nbformat": 4,
 "nbformat_minor": 5
}
